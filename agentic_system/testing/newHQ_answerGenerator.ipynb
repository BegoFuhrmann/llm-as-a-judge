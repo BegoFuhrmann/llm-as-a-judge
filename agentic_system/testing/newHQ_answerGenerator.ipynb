{
 "cells": [
  {
   "cell_type": "markdown",
   "id": "75d7e624",
   "metadata": {},
   "source": [
    "# init azure openai"
   ]
  },
  {
   "cell_type": "code",
   "execution_count": 1,
   "id": "2db38b4a",
   "metadata": {},
   "outputs": [],
   "source": [
    "# set NO_PROXY=localhost,127.0.0.1,::1\n",
    "import os\n",
    "os.environ[\"NO_PROXY\"] = \"localhost,127.0.1,::1\""
   ]
  },
  {
   "cell_type": "code",
   "execution_count": 2,
   "id": "71d47b0b",
   "metadata": {},
   "outputs": [],
   "source": [
    "# Azure OpenAI setup\n",
    "from azure.identity import DefaultAzureCredential\n",
    "from langchain_openai import AzureChatOpenAI\n",
    "import os\n",
    "\n",
    "from dotenv import load_dotenv\n",
    "\n",
    "load_dotenv()\n",
    "\n",
    "default_credential = DefaultAzureCredential()\n",
    "token = default_credential.get_token(\"https://cognitiveservices.azure.com/.default\")\n",
    "api_key = token.token\n",
    "\n",
    "# set token to the env variable AZURE_OPENAI_API_KEY\n",
    "os.environ[\"AZURE_OPENAI_API_KEY\"] = token.token"
   ]
  },
  {
   "cell_type": "code",
   "execution_count": 3,
   "id": "8142383f",
   "metadata": {},
   "outputs": [],
   "source": [
    "llm = AzureChatOpenAI(\n",
    "    azure_endpoint=\"https://begobaiatest.openai.azure.com/\",\n",
    "    azure_deployment=\"gpt-4o-mini\",\n",
    "    openai_api_version=\"2024-05-01-preview\",\n",
    "    temperature=0,\n",
    "    max_tokens=None,\n",
    "    timeout=None,\n",
    "    max_retries=2,\n",
    ")"
   ]
  },
  {
   "cell_type": "markdown",
   "id": "1f708520",
   "metadata": {},
   "source": [
    "## init embeddings"
   ]
  },
  {
   "cell_type": "code",
   "execution_count": 4,
   "id": "1594e007",
   "metadata": {},
   "outputs": [],
   "source": [
    "# Import and initialize HuggingFace embedder\n",
    "from langchain_huggingface import HuggingFaceEmbeddings\n",
    "\n",
    "EMBEDDING_MODEL = \"sentence-transformers/all-MiniLM-L6-v2\"\n",
    "embeddings = HuggingFaceEmbeddings(\n",
    "    model_name=EMBEDDING_MODEL,\n",
    "    model_kwargs={\"device\": \"cpu\"}\n",
    ")"
   ]
  },
  {
   "cell_type": "markdown",
   "id": "771a015f",
   "metadata": {},
   "source": [
    "## Query ChromaDB (newHQ)"
   ]
  },
  {
   "cell_type": "code",
   "execution_count": 5,
   "id": "ecdf7c98",
   "metadata": {},
   "outputs": [],
   "source": [
    "# 3) Load your existing ChromaDB using the UNC path\n",
    "from langchain_chroma import Chroma\n",
    "\n",
    "PERSIST_DIR     = r\"\\\\dnsbego.de\\dfsbego\\home04\\FuhrmannD\\Documents\\01_Trainee\\Master\\Thesis\\code\\agentic_system\\data\\newHQ_chroma_db\"\n",
    "COLLECTION_NAME = \"berenberg_newhq_docs\"\n",
    "\n",
    "vectordb = Chroma(\n",
    "    persist_directory=PERSIST_DIR,\n",
    "    embedding_function=embeddings,\n",
    "    collection_name=COLLECTION_NAME\n",
    ")"
   ]
  },
  {
   "cell_type": "code",
   "execution_count": 6,
   "id": "b7f48f65",
   "metadata": {},
   "outputs": [],
   "source": [
    "# 4) Do a semantic search\n",
    "query = \"What parking options are available?\"\n",
    "TOP_K = 5\n",
    "\n",
    "results = vectordb.similarity_search_with_score(query, k=TOP_K)"
   ]
  },
  {
   "cell_type": "code",
   "execution_count": 7,
   "id": "deea3d61",
   "metadata": {},
   "outputs": [
    {
     "data": {
      "text/plain": [
       "[(Document(id='77f3b202-ba4b-4788-825a-6f11fc2ee780', metadata={'source': 'W:\\\\T1368-WAM AI\\\\03 Projects\\\\02 AI Projects\\\\01 Berenberg AI Assistant (BAIA)\\\\15 newHQ data\\\\_new\\\\Confluence New HQ\\\\20252807_CONFLUENCE_Parken.pdf', 'total_pages': 1, 'subdirectory': 'Confluence New HQ', 'creator': 'PyPDF', 'page': 0, 'creationdate': '', 'producer': 'PyPDF', 'file_type': '.pdf', 'page_label': '1'}, page_content='10) Parken & Mobilität\\nParken & Mobilität\\nParken & Mobilität\\nParkplatzbuchung\\nFahrrad\\nParkplatzbuchung\\nFrage Antwort\\n1 Welche Parkmöglichkeiten gibt es am \\nneuen Standort?\\nAm Standort gibt es 168 Pakplätze, davon 72 mit E-Ladesäulen. Sowie 157 Indoor-\\nFahrradstellplätze, 12 davon mit E-Ladesäule.\\n2 Wieviele Kundenparkplätze stehen zur \\nVerfügung?\\nInsgesamt gibt es 10 Kundenparkplätze.\\n3 Wie kann ich einen Parkplatz buchen?Die Buchung erfolgt über eine zentrale Park-App.\\n4 Kann ich mehrere Kennzeichen in der \\nApp hinterlegen?\\nJa, in der App können mehrere Kennzeichen hinterlegt werden.\\n5 Was passiert, wenn ich ohne Buchung in \\ndie Tiefgarage fahre?\\nWer ohne Buchung in die Tiefgarage fährt, kann sich spontan einen Parkplatz in der App \\nbuchen. Ansonsten wird kostenpflichtig abgeschleppt.\\n6 Wie komme ich in die Tiefgarage? Der Zutritt erfolgt entweder mit der App oder der Mitarbeiter-Zutrittskarte.\\n\\xa0Fahrrad\\nFrage Antwort\\n1 Wann kann ich mein Fahrrad im Gebäude abstellen \\noder abholen?'),\n",
       "  1.2384095191955566),\n",
       " (Document(id='6d75f9e3-3594-4c9e-8d1a-e31178ccbdaf', metadata={'source': 'W:\\\\T1368-WAM AI\\\\03 Projects\\\\02 AI Projects\\\\01 Berenberg AI Assistant (BAIA)\\\\15 newHQ data\\\\_new\\\\Confluence New HQ\\\\20252807_CONFLUENCE_Parken.pdf', 'producer': 'PyPDF', 'page': 0, 'creationdate': '', 'page_label': '1', 'total_pages': 1, 'creator': 'PyPDF', 'subdirectory': 'Confluence New HQ', 'file_type': '.pdf'}, page_content='10) Parken & Mobilität\\nParken & Mobilität\\nParken & Mobilität\\nParkplatzbuchung\\nFahrrad\\nParkplatzbuchung\\nFrage Antwort\\n1 Welche Parkmöglichkeiten gibt es am \\nneuen Standort?\\nAm Standort gibt es 168 Pakplätze, davon 72 mit E-Ladesäulen. Sowie 157 Indoor-\\nFahrradstellplätze, 12 davon mit E-Ladesäule.\\n2 Wieviele Kundenparkplätze stehen zur \\nVerfügung?\\nInsgesamt gibt es 10 Kundenparkplätze.\\n3 Wie kann ich einen Parkplatz buchen?Die Buchung erfolgt über eine zentrale Park-App.\\n4 Kann ich mehrere Kennzeichen in der \\nApp hinterlegen?\\nJa, in der App können mehrere Kennzeichen hinterlegt werden.\\n5 Was passiert, wenn ich ohne Buchung in \\ndie Tiefgarage fahre?\\nWer ohne Buchung in die Tiefgarage fährt, kann sich spontan einen Parkplatz in der App \\nbuchen. Ansonsten wird kostenpflichtig abgeschleppt.\\n6 Wie komme ich in die Tiefgarage? Der Zutritt erfolgt entweder mit der App oder der Mitarbeiter-Zutrittskarte.\\n\\xa0Fahrrad\\nFrage Antwort\\n1 Wann kann ich mein Fahrrad im Gebäude abstellen \\noder abholen?'),\n",
       "  1.2384095191955566),\n",
       " (Document(id='80912238-f168-46e3-8b0f-c4782f9d83cb', metadata={'file_type': '.pdf', 'source': 'W:\\\\T1368-WAM AI\\\\03 Projects\\\\02 AI Projects\\\\01 Berenberg AI Assistant (BAIA)\\\\15 newHQ data\\\\_new\\\\Newsletter\\\\20240901_NEWSLETTER_Parken.pdf', 'creationdate': '2025-07-23T17:51:58+02:00', 'producer': 'Adobe PDF Library 17.0', 'total_pages': 2, 'creator': 'Adobe InDesign 19.4 (Windows)', 'page_label': '1', 'subdirectory': 'Newsletter', 'page': 0, 'moddate': '2025-07-23T17:51:58+02:00'}, page_content='5.  Sie können ebenfalls hinterlegen ob Sie einen\\n     Standard-Stellplatz, einen E-Stellplatz oder \\n     einen Behindertenstellplatz brauchen. \\n6.  Die Reservierung ist mit nur einem Klick in \\n     der App möglich, Sie erhalten sofort die \\n      Bestätigung!\\n7.   Sie können maximal 5 Tage auf \\n      einmal buchen.\\n8.   Am Buchungstag fahren Sie mit\\n      Ihrem Auto in die Tiefgarage und\\n     der Zugang erfolgt über Ihre all-\\n      gemeine Zutrittskarte.\\n9.   Es gibt eine In-App-Navigations-\\n      karte, die das Finden des Stell-\\n      platzes erleichtert.\\n10. Ende des Monats erfolgt die\\n      automatische Abrechnung \\n      der Stellplatznutzung.\\n168\\nPARKPLÄTZE - davon\\n46 PARKPLÄTZE - mit E-Ladesäule\\nParken im neuen Gebäude'),\n",
       "  1.349624752998352),\n",
       " (Document(id='04ab082f-1fce-4c01-9e0b-c20f91298969', metadata={'subdirectory': 'Newsletter', 'total_pages': 2, 'producer': 'Adobe PDF Library 17.0', 'creator': 'Adobe InDesign 19.4 (Windows)', 'file_type': '.pdf', 'page': 0, 'page_label': '1', 'creationdate': '2025-07-23T17:51:58+02:00', 'moddate': '2025-07-23T17:51:58+02:00', 'source': 'W:\\\\T1368-WAM AI\\\\03 Projects\\\\02 AI Projects\\\\01 Berenberg AI Assistant (BAIA)\\\\15 newHQ data\\\\_new\\\\Newsletter\\\\20240901_NEWSLETTER_Parken.pdf'}, page_content='5.  Sie können ebenfalls hinterlegen ob Sie einen\\n     Standard-Stellplatz, einen E-Stellplatz oder \\n     einen Behindertenstellplatz brauchen. \\n6.  Die Reservierung ist mit nur einem Klick in \\n     der App möglich, Sie erhalten sofort die \\n      Bestätigung!\\n7.   Sie können maximal 5 Tage auf \\n      einmal buchen.\\n8.   Am Buchungstag fahren Sie mit\\n      Ihrem Auto in die Tiefgarage und\\n     der Zugang erfolgt über Ihre all-\\n      gemeine Zutrittskarte.\\n9.   Es gibt eine In-App-Navigations-\\n      karte, die das Finden des Stell-\\n      platzes erleichtert.\\n10. Ende des Monats erfolgt die\\n      automatische Abrechnung \\n      der Stellplatznutzung.\\n168\\nPARKPLÄTZE - davon\\n46 PARKPLÄTZE - mit E-Ladesäule\\nParken im neuen Gebäude'),\n",
       "  1.349624752998352),\n",
       " (Document(id='b2d2c758-2455-4f34-a8c6-a1befa0013e1', metadata={'file_type': '.pdf', 'producer': 'Adobe PDF Library 17.0', 'creator': 'Adobe InDesign 19.4 (Windows)', 'page_label': '2', 'source': 'W:\\\\T1368-WAM AI\\\\03 Projects\\\\02 AI Projects\\\\01 Berenberg AI Assistant (BAIA)\\\\15 newHQ data\\\\_new\\\\Newsletter\\\\20240801_Newsletter_Faktencheck.pdf', 'creationdate': '2025-07-23T17:47:02+02:00', 'total_pages': 2, 'subdirectory': 'Newsletter', 'page': 1, 'moddate': '2025-07-23T17:47:02+02:00'}, page_content='INSIGHTS\\nPROJEKT\\nNEW HQ  NEWSLETTER                 # 06\\nNEW HQ\\nNEWSLETTER\\nZahlen - Daten - Fakten\\nFAKTENCHECK ZUM NEUEN HAUPTQUARTIER\\n168\\n157\\nPARKPLÄTZE \\nFAHRRADSTELLPLÄTZE\\n72 PARKPLÄTZE (inkl.) \\n- mit E-Ladesäule\\n12 PARKPLÄTZE (inkl.) \\n- mit E-Ladesäule\\n300\\n900\\n50\\n44\\n40\\n20\\n10\\n11\\n1\\n1\\n1\\n900\\nSpinde in UG 2 als Ergänzung\\nArbeitsplätze\\nTelefonboxen\\nMeetingräume\\nThink Tanks\\nOffice-For-One-Day\\n6 Dachterrassen+ 4 Balkone\\nDuschen\\nMitarbeiter Restaurant\\nMarketplace\\nMultifunktionsraum\\nSchließfächer'),\n",
       "  1.4270590543746948)]"
      ]
     },
     "execution_count": 7,
     "metadata": {},
     "output_type": "execute_result"
    }
   ],
   "source": [
    "results"
   ]
  },
  {
   "cell_type": "code",
   "execution_count": 8,
   "id": "44051373",
   "metadata": {},
   "outputs": [
    {
     "name": "stdout",
     "output_type": "stream",
     "text": [
      "=== Hit #1 (score: 1.2384) ===\n",
      "\n",
      "10) Parken & Mobilität\n",
      "Parken & Mobilität\n",
      "Parken & Mobilität\n",
      "Parkplatzbuchung\n",
      "Fahrrad\n",
      "Parkplatzbuchung\n",
      "Frage Antwort\n",
      "1 Welche Parkmöglichkeiten gibt es am \n",
      "neuen Standort?\n",
      "Am Standort gibt es 168 Pakplätze, davon 72 mit E-Ladesäulen. Sowie 157 Indoor-\n",
      "Fahrradstellplätze, 12 davon mit E-Ladesäule.\n",
      "2 Wieviele Kundenparkplätze stehen zur \n",
      "Verfügung?\n",
      "Insgesamt gibt es 10 Kundenparkplätze.\n",
      "3 Wie kann ich einen Parkplatz buchen?Die Buchung erfolgt über eine zentrale Park-App.\n",
      "4 Kann ich mehrere Kennze ...\n",
      "\n",
      "   ↳ metadata: {'source': 'W:\\\\T1368-WAM AI\\\\03 Projects\\\\02 AI Projects\\\\01 Berenberg AI Assistant (BAIA)\\\\15 newHQ data\\\\_new\\\\Confluence New HQ\\\\20252807_CONFLUENCE_Parken.pdf', 'total_pages': 1, 'subdirectory': 'Confluence New HQ', 'creator': 'PyPDF', 'page': 0, 'creationdate': '', 'producer': 'PyPDF', 'file_type': '.pdf', 'page_label': '1'} \n",
      "\n",
      "=== Hit #2 (score: 1.2384) ===\n",
      "\n",
      "10) Parken & Mobilität\n",
      "Parken & Mobilität\n",
      "Parken & Mobilität\n",
      "Parkplatzbuchung\n",
      "Fahrrad\n",
      "Parkplatzbuchung\n",
      "Frage Antwort\n",
      "1 Welche Parkmöglichkeiten gibt es am \n",
      "neuen Standort?\n",
      "Am Standort gibt es 168 Pakplätze, davon 72 mit E-Ladesäulen. Sowie 157 Indoor-\n",
      "Fahrradstellplätze, 12 davon mit E-Ladesäule.\n",
      "2 Wieviele Kundenparkplätze stehen zur \n",
      "Verfügung?\n",
      "Insgesamt gibt es 10 Kundenparkplätze.\n",
      "3 Wie kann ich einen Parkplatz buchen?Die Buchung erfolgt über eine zentrale Park-App.\n",
      "4 Kann ich mehrere Kennze ...\n",
      "\n",
      "   ↳ metadata: {'source': 'W:\\\\T1368-WAM AI\\\\03 Projects\\\\02 AI Projects\\\\01 Berenberg AI Assistant (BAIA)\\\\15 newHQ data\\\\_new\\\\Confluence New HQ\\\\20252807_CONFLUENCE_Parken.pdf', 'producer': 'PyPDF', 'page': 0, 'creationdate': '', 'page_label': '1', 'total_pages': 1, 'creator': 'PyPDF', 'subdirectory': 'Confluence New HQ', 'file_type': '.pdf'} \n",
      "\n",
      "=== Hit #3 (score: 1.3496) ===\n",
      "\n",
      "5.  Sie können ebenfalls hinterlegen ob Sie einen\n",
      "     Standard-Stellplatz, einen E-Stellplatz oder \n",
      "     einen Behindertenstellplatz brauchen. \n",
      "6.  Die Reservierung ist mit nur einem Klick in \n",
      "     der App möglich, Sie erhalten sofort die \n",
      "      Bestätigung!\n",
      "7.   Sie können maximal 5 Tage auf \n",
      "      einmal buchen.\n",
      "8.   Am Buchungstag fahren Sie mit\n",
      "      Ihrem Auto in die Tiefgarage und\n",
      "     der Zugang erfolgt über Ihre all-\n",
      "      gemeine Zutrittskarte.\n",
      "9.   Es gibt eine In-App-Navigations- ...\n",
      "\n",
      "   ↳ metadata: {'file_type': '.pdf', 'source': 'W:\\\\T1368-WAM AI\\\\03 Projects\\\\02 AI Projects\\\\01 Berenberg AI Assistant (BAIA)\\\\15 newHQ data\\\\_new\\\\Newsletter\\\\20240901_NEWSLETTER_Parken.pdf', 'creationdate': '2025-07-23T17:51:58+02:00', 'producer': 'Adobe PDF Library 17.0', 'total_pages': 2, 'creator': 'Adobe InDesign 19.4 (Windows)', 'page_label': '1', 'subdirectory': 'Newsletter', 'page': 0, 'moddate': '2025-07-23T17:51:58+02:00'} \n",
      "\n",
      "=== Hit #4 (score: 1.3496) ===\n",
      "\n",
      "5.  Sie können ebenfalls hinterlegen ob Sie einen\n",
      "     Standard-Stellplatz, einen E-Stellplatz oder \n",
      "     einen Behindertenstellplatz brauchen. \n",
      "6.  Die Reservierung ist mit nur einem Klick in \n",
      "     der App möglich, Sie erhalten sofort die \n",
      "      Bestätigung!\n",
      "7.   Sie können maximal 5 Tage auf \n",
      "      einmal buchen.\n",
      "8.   Am Buchungstag fahren Sie mit\n",
      "      Ihrem Auto in die Tiefgarage und\n",
      "     der Zugang erfolgt über Ihre all-\n",
      "      gemeine Zutrittskarte.\n",
      "9.   Es gibt eine In-App-Navigations- ...\n",
      "\n",
      "   ↳ metadata: {'subdirectory': 'Newsletter', 'total_pages': 2, 'producer': 'Adobe PDF Library 17.0', 'creator': 'Adobe InDesign 19.4 (Windows)', 'file_type': '.pdf', 'page': 0, 'page_label': '1', 'creationdate': '2025-07-23T17:51:58+02:00', 'moddate': '2025-07-23T17:51:58+02:00', 'source': 'W:\\\\T1368-WAM AI\\\\03 Projects\\\\02 AI Projects\\\\01 Berenberg AI Assistant (BAIA)\\\\15 newHQ data\\\\_new\\\\Newsletter\\\\20240901_NEWSLETTER_Parken.pdf'} \n",
      "\n",
      "=== Hit #5 (score: 1.4271) ===\n",
      "\n",
      "INSIGHTS\n",
      "PROJEKT\n",
      "NEW HQ  NEWSLETTER                 # 06\n",
      "NEW HQ\n",
      "NEWSLETTER\n",
      "Zahlen - Daten - Fakten\n",
      "FAKTENCHECK ZUM NEUEN HAUPTQUARTIER\n",
      "168\n",
      "157\n",
      "PARKPLÄTZE \n",
      "FAHRRADSTELLPLÄTZE\n",
      "72 PARKPLÄTZE (inkl.) \n",
      "- mit E-Ladesäule\n",
      "12 PARKPLÄTZE (inkl.) \n",
      "- mit E-Ladesäule\n",
      "300\n",
      "900\n",
      "50\n",
      "44\n",
      "40\n",
      "20\n",
      "10\n",
      "11\n",
      "1\n",
      "1\n",
      "1\n",
      "900\n",
      "Spinde in UG 2 als Ergänzung\n",
      "Arbeitsplätze\n",
      "Telefonboxen\n",
      "Meetingräume\n",
      "Think Tanks\n",
      "Office-For-One-Day\n",
      "6 Dachterrassen+ 4 Balkone\n",
      "Duschen\n",
      "Mitarbeiter Restaurant\n",
      "Marketplace\n",
      "Multifunktionsraum\n",
      "Schließfächer ...\n",
      "\n",
      "   ↳ metadata: {'file_type': '.pdf', 'producer': 'Adobe PDF Library 17.0', 'creator': 'Adobe InDesign 19.4 (Windows)', 'page_label': '2', 'source': 'W:\\\\T1368-WAM AI\\\\03 Projects\\\\02 AI Projects\\\\01 Berenberg AI Assistant (BAIA)\\\\15 newHQ data\\\\_new\\\\Newsletter\\\\20240801_Newsletter_Faktencheck.pdf', 'creationdate': '2025-07-23T17:47:02+02:00', 'total_pages': 2, 'subdirectory': 'Newsletter', 'page': 1, 'moddate': '2025-07-23T17:47:02+02:00'} \n",
      "\n"
     ]
    }
   ],
   "source": [
    "# 5) Inspect the top hits\n",
    "for rank, (doc, score) in enumerate(results, start=1):\n",
    "    print(f\"=== Hit #{rank} (score: {score:.4f}) ===\\n\")\n",
    "    print(doc.page_content[:500].strip(), \"...\\n\")\n",
    "    print(\"   ↳ metadata:\", doc.metadata, \"\\n\")"
   ]
  },
  {
   "cell_type": "code",
   "execution_count": 9,
   "id": "036b5cfa",
   "metadata": {},
   "outputs": [],
   "source": [
    "# Create retriever\n",
    "retriever = vectordb.as_retriever(search_kwargs={\"k\": 3})"
   ]
  },
  {
   "cell_type": "code",
   "execution_count": 10,
   "id": "da9e0a18",
   "metadata": {},
   "outputs": [],
   "source": [
    "from langchain.chains import RetrievalQA\n",
    "\n",
    "# Create QA chain\n",
    "qa_chain = RetrievalQA.from_chain_type(\n",
    "    llm=llm,\n",
    "    chain_type=\"refine\",\n",
    "    retriever=retriever,\n",
    "    return_source_documents=True\n",
    ")"
   ]
  },
  {
   "cell_type": "code",
   "execution_count": 11,
   "id": "70d8ba89",
   "metadata": {},
   "outputs": [
    {
     "ename": "APIConnectionError",
     "evalue": "Connection error.",
     "output_type": "error",
     "traceback": [
      "\u001b[31m---------------------------------------------------------------------------\u001b[39m",
      "\u001b[31mConnectError\u001b[39m                              Traceback (most recent call last)",
      "\u001b[36mFile \u001b[39m\u001b[32mc:\\Users\\fuhrmannd\\AppData\\Local\\Programs\\Python\\Python313\\Lib\\site-packages\\httpx\\_transports\\default.py:101\u001b[39m, in \u001b[36mmap_httpcore_exceptions\u001b[39m\u001b[34m()\u001b[39m\n\u001b[32m    100\u001b[39m \u001b[38;5;28;01mtry\u001b[39;00m:\n\u001b[32m--> \u001b[39m\u001b[32m101\u001b[39m     \u001b[38;5;28;01myield\u001b[39;00m\n\u001b[32m    102\u001b[39m \u001b[38;5;28;01mexcept\u001b[39;00m \u001b[38;5;167;01mException\u001b[39;00m \u001b[38;5;28;01mas\u001b[39;00m exc:\n",
      "\u001b[36mFile \u001b[39m\u001b[32mc:\\Users\\fuhrmannd\\AppData\\Local\\Programs\\Python\\Python313\\Lib\\site-packages\\httpx\\_transports\\default.py:250\u001b[39m, in \u001b[36mHTTPTransport.handle_request\u001b[39m\u001b[34m(self, request)\u001b[39m\n\u001b[32m    249\u001b[39m \u001b[38;5;28;01mwith\u001b[39;00m map_httpcore_exceptions():\n\u001b[32m--> \u001b[39m\u001b[32m250\u001b[39m     resp = \u001b[38;5;28;43mself\u001b[39;49m\u001b[43m.\u001b[49m\u001b[43m_pool\u001b[49m\u001b[43m.\u001b[49m\u001b[43mhandle_request\u001b[49m\u001b[43m(\u001b[49m\u001b[43mreq\u001b[49m\u001b[43m)\u001b[49m\n\u001b[32m    252\u001b[39m \u001b[38;5;28;01massert\u001b[39;00m \u001b[38;5;28misinstance\u001b[39m(resp.stream, typing.Iterable)\n",
      "\u001b[36mFile \u001b[39m\u001b[32mc:\\Users\\fuhrmannd\\AppData\\Local\\Programs\\Python\\Python313\\Lib\\site-packages\\httpcore\\_sync\\connection_pool.py:256\u001b[39m, in \u001b[36mConnectionPool.handle_request\u001b[39m\u001b[34m(self, request)\u001b[39m\n\u001b[32m    255\u001b[39m     \u001b[38;5;28mself\u001b[39m._close_connections(closing)\n\u001b[32m--> \u001b[39m\u001b[32m256\u001b[39m     \u001b[38;5;28;01mraise\u001b[39;00m exc \u001b[38;5;28;01mfrom\u001b[39;00m\u001b[38;5;250m \u001b[39m\u001b[38;5;28;01mNone\u001b[39;00m\n\u001b[32m    258\u001b[39m \u001b[38;5;66;03m# Return the response. Note that in this case we still have to manage\u001b[39;00m\n\u001b[32m    259\u001b[39m \u001b[38;5;66;03m# the point at which the response is closed.\u001b[39;00m\n",
      "\u001b[36mFile \u001b[39m\u001b[32mc:\\Users\\fuhrmannd\\AppData\\Local\\Programs\\Python\\Python313\\Lib\\site-packages\\httpcore\\_sync\\connection_pool.py:236\u001b[39m, in \u001b[36mConnectionPool.handle_request\u001b[39m\u001b[34m(self, request)\u001b[39m\n\u001b[32m    234\u001b[39m \u001b[38;5;28;01mtry\u001b[39;00m:\n\u001b[32m    235\u001b[39m     \u001b[38;5;66;03m# Send the request on the assigned connection.\u001b[39;00m\n\u001b[32m--> \u001b[39m\u001b[32m236\u001b[39m     response = \u001b[43mconnection\u001b[49m\u001b[43m.\u001b[49m\u001b[43mhandle_request\u001b[49m\u001b[43m(\u001b[49m\n\u001b[32m    237\u001b[39m \u001b[43m        \u001b[49m\u001b[43mpool_request\u001b[49m\u001b[43m.\u001b[49m\u001b[43mrequest\u001b[49m\n\u001b[32m    238\u001b[39m \u001b[43m    \u001b[49m\u001b[43m)\u001b[49m\n\u001b[32m    239\u001b[39m \u001b[38;5;28;01mexcept\u001b[39;00m ConnectionNotAvailable:\n\u001b[32m    240\u001b[39m     \u001b[38;5;66;03m# In some cases a connection may initially be available to\u001b[39;00m\n\u001b[32m    241\u001b[39m     \u001b[38;5;66;03m# handle a request, but then become unavailable.\u001b[39;00m\n\u001b[32m    242\u001b[39m     \u001b[38;5;66;03m#\u001b[39;00m\n\u001b[32m    243\u001b[39m     \u001b[38;5;66;03m# In this case we clear the connection and try again.\u001b[39;00m\n",
      "\u001b[36mFile \u001b[39m\u001b[32mc:\\Users\\fuhrmannd\\AppData\\Local\\Programs\\Python\\Python313\\Lib\\site-packages\\httpcore\\_sync\\http_proxy.py:316\u001b[39m, in \u001b[36mTunnelHTTPConnection.handle_request\u001b[39m\u001b[34m(self, request)\u001b[39m\n\u001b[32m    315\u001b[39m \u001b[38;5;28;01mwith\u001b[39;00m Trace(\u001b[33m\"\u001b[39m\u001b[33mstart_tls\u001b[39m\u001b[33m\"\u001b[39m, logger, request, kwargs) \u001b[38;5;28;01mas\u001b[39;00m trace:\n\u001b[32m--> \u001b[39m\u001b[32m316\u001b[39m     stream = \u001b[43mstream\u001b[49m\u001b[43m.\u001b[49m\u001b[43mstart_tls\u001b[49m\u001b[43m(\u001b[49m\u001b[43m*\u001b[49m\u001b[43m*\u001b[49m\u001b[43mkwargs\u001b[49m\u001b[43m)\u001b[49m\n\u001b[32m    317\u001b[39m     trace.return_value = stream\n",
      "\u001b[36mFile \u001b[39m\u001b[32mc:\\Users\\fuhrmannd\\AppData\\Local\\Programs\\Python\\Python313\\Lib\\site-packages\\httpcore\\_sync\\http11.py:376\u001b[39m, in \u001b[36mHTTP11UpgradeStream.start_tls\u001b[39m\u001b[34m(self, ssl_context, server_hostname, timeout)\u001b[39m\n\u001b[32m    370\u001b[39m \u001b[38;5;28;01mdef\u001b[39;00m\u001b[38;5;250m \u001b[39m\u001b[34mstart_tls\u001b[39m(\n\u001b[32m    371\u001b[39m     \u001b[38;5;28mself\u001b[39m,\n\u001b[32m    372\u001b[39m     ssl_context: ssl.SSLContext,\n\u001b[32m    373\u001b[39m     server_hostname: \u001b[38;5;28mstr\u001b[39m | \u001b[38;5;28;01mNone\u001b[39;00m = \u001b[38;5;28;01mNone\u001b[39;00m,\n\u001b[32m    374\u001b[39m     timeout: \u001b[38;5;28mfloat\u001b[39m | \u001b[38;5;28;01mNone\u001b[39;00m = \u001b[38;5;28;01mNone\u001b[39;00m,\n\u001b[32m    375\u001b[39m ) -> NetworkStream:\n\u001b[32m--> \u001b[39m\u001b[32m376\u001b[39m     \u001b[38;5;28;01mreturn\u001b[39;00m \u001b[38;5;28;43mself\u001b[39;49m\u001b[43m.\u001b[49m\u001b[43m_stream\u001b[49m\u001b[43m.\u001b[49m\u001b[43mstart_tls\u001b[49m\u001b[43m(\u001b[49m\u001b[43mssl_context\u001b[49m\u001b[43m,\u001b[49m\u001b[43m \u001b[49m\u001b[43mserver_hostname\u001b[49m\u001b[43m,\u001b[49m\u001b[43m \u001b[49m\u001b[43mtimeout\u001b[49m\u001b[43m)\u001b[49m\n",
      "\u001b[36mFile \u001b[39m\u001b[32mc:\\Users\\fuhrmannd\\AppData\\Local\\Programs\\Python\\Python313\\Lib\\site-packages\\httpcore\\_backends\\sync.py:154\u001b[39m, in \u001b[36mSyncStream.start_tls\u001b[39m\u001b[34m(self, ssl_context, server_hostname, timeout)\u001b[39m\n\u001b[32m    150\u001b[39m exc_map: ExceptionMapping = {\n\u001b[32m    151\u001b[39m     socket.timeout: ConnectTimeout,\n\u001b[32m    152\u001b[39m     \u001b[38;5;167;01mOSError\u001b[39;00m: ConnectError,\n\u001b[32m    153\u001b[39m }\n\u001b[32m--> \u001b[39m\u001b[32m154\u001b[39m \u001b[38;5;28;01mwith\u001b[39;00m map_exceptions(exc_map):\n\u001b[32m    155\u001b[39m     \u001b[38;5;28;01mtry\u001b[39;00m:\n",
      "\u001b[36mFile \u001b[39m\u001b[32mc:\\Users\\fuhrmannd\\AppData\\Local\\Programs\\Python\\Python313\\Lib\\contextlib.py:162\u001b[39m, in \u001b[36m_GeneratorContextManager.__exit__\u001b[39m\u001b[34m(self, typ, value, traceback)\u001b[39m\n\u001b[32m    161\u001b[39m \u001b[38;5;28;01mtry\u001b[39;00m:\n\u001b[32m--> \u001b[39m\u001b[32m162\u001b[39m     \u001b[38;5;28;43mself\u001b[39;49m\u001b[43m.\u001b[49m\u001b[43mgen\u001b[49m\u001b[43m.\u001b[49m\u001b[43mthrow\u001b[49m\u001b[43m(\u001b[49m\u001b[43mvalue\u001b[49m\u001b[43m)\u001b[49m\n\u001b[32m    163\u001b[39m \u001b[38;5;28;01mexcept\u001b[39;00m \u001b[38;5;167;01mStopIteration\u001b[39;00m \u001b[38;5;28;01mas\u001b[39;00m exc:\n\u001b[32m    164\u001b[39m     \u001b[38;5;66;03m# Suppress StopIteration *unless* it's the same exception that\u001b[39;00m\n\u001b[32m    165\u001b[39m     \u001b[38;5;66;03m# was passed to throw().  This prevents a StopIteration\u001b[39;00m\n\u001b[32m    166\u001b[39m     \u001b[38;5;66;03m# raised inside the \"with\" statement from being suppressed.\u001b[39;00m\n",
      "\u001b[36mFile \u001b[39m\u001b[32mc:\\Users\\fuhrmannd\\AppData\\Local\\Programs\\Python\\Python313\\Lib\\site-packages\\httpcore\\_exceptions.py:14\u001b[39m, in \u001b[36mmap_exceptions\u001b[39m\u001b[34m(map)\u001b[39m\n\u001b[32m     13\u001b[39m     \u001b[38;5;28;01mif\u001b[39;00m \u001b[38;5;28misinstance\u001b[39m(exc, from_exc):\n\u001b[32m---> \u001b[39m\u001b[32m14\u001b[39m         \u001b[38;5;28;01mraise\u001b[39;00m to_exc(exc) \u001b[38;5;28;01mfrom\u001b[39;00m\u001b[38;5;250m \u001b[39m\u001b[34;01mexc\u001b[39;00m\n\u001b[32m     15\u001b[39m \u001b[38;5;28;01mraise\u001b[39;00m\n",
      "\u001b[31mConnectError\u001b[39m: [SSL: CERTIFICATE_VERIFY_FAILED] certificate verify failed: self-signed certificate in certificate chain (_ssl.c:1020)",
      "\nThe above exception was the direct cause of the following exception:\n",
      "\u001b[31mConnectError\u001b[39m                              Traceback (most recent call last)",
      "\u001b[36mFile \u001b[39m\u001b[32mc:\\Users\\fuhrmannd\\AppData\\Local\\Programs\\Python\\Python313\\Lib\\site-packages\\openai\\_base_client.py:969\u001b[39m, in \u001b[36mSyncAPIClient.request\u001b[39m\u001b[34m(self, cast_to, options, stream, stream_cls)\u001b[39m\n\u001b[32m    968\u001b[39m \u001b[38;5;28;01mtry\u001b[39;00m:\n\u001b[32m--> \u001b[39m\u001b[32m969\u001b[39m     response = \u001b[38;5;28;43mself\u001b[39;49m\u001b[43m.\u001b[49m\u001b[43m_client\u001b[49m\u001b[43m.\u001b[49m\u001b[43msend\u001b[49m\u001b[43m(\u001b[49m\n\u001b[32m    970\u001b[39m \u001b[43m        \u001b[49m\u001b[43mrequest\u001b[49m\u001b[43m,\u001b[49m\n\u001b[32m    971\u001b[39m \u001b[43m        \u001b[49m\u001b[43mstream\u001b[49m\u001b[43m=\u001b[49m\u001b[43mstream\u001b[49m\u001b[43m \u001b[49m\u001b[38;5;129;43;01mor\u001b[39;49;00m\u001b[43m \u001b[49m\u001b[38;5;28;43mself\u001b[39;49m\u001b[43m.\u001b[49m\u001b[43m_should_stream_response_body\u001b[49m\u001b[43m(\u001b[49m\u001b[43mrequest\u001b[49m\u001b[43m=\u001b[49m\u001b[43mrequest\u001b[49m\u001b[43m)\u001b[49m\u001b[43m,\u001b[49m\n\u001b[32m    972\u001b[39m \u001b[43m        \u001b[49m\u001b[43m*\u001b[49m\u001b[43m*\u001b[49m\u001b[43mkwargs\u001b[49m\u001b[43m,\u001b[49m\n\u001b[32m    973\u001b[39m \u001b[43m    \u001b[49m\u001b[43m)\u001b[49m\n\u001b[32m    974\u001b[39m \u001b[38;5;28;01mexcept\u001b[39;00m httpx.TimeoutException \u001b[38;5;28;01mas\u001b[39;00m err:\n",
      "\u001b[36mFile \u001b[39m\u001b[32mc:\\Users\\fuhrmannd\\AppData\\Local\\Programs\\Python\\Python313\\Lib\\site-packages\\httpx\\_client.py:914\u001b[39m, in \u001b[36mClient.send\u001b[39m\u001b[34m(self, request, stream, auth, follow_redirects)\u001b[39m\n\u001b[32m    912\u001b[39m auth = \u001b[38;5;28mself\u001b[39m._build_request_auth(request, auth)\n\u001b[32m--> \u001b[39m\u001b[32m914\u001b[39m response = \u001b[38;5;28;43mself\u001b[39;49m\u001b[43m.\u001b[49m\u001b[43m_send_handling_auth\u001b[49m\u001b[43m(\u001b[49m\n\u001b[32m    915\u001b[39m \u001b[43m    \u001b[49m\u001b[43mrequest\u001b[49m\u001b[43m,\u001b[49m\n\u001b[32m    916\u001b[39m \u001b[43m    \u001b[49m\u001b[43mauth\u001b[49m\u001b[43m=\u001b[49m\u001b[43mauth\u001b[49m\u001b[43m,\u001b[49m\n\u001b[32m    917\u001b[39m \u001b[43m    \u001b[49m\u001b[43mfollow_redirects\u001b[49m\u001b[43m=\u001b[49m\u001b[43mfollow_redirects\u001b[49m\u001b[43m,\u001b[49m\n\u001b[32m    918\u001b[39m \u001b[43m    \u001b[49m\u001b[43mhistory\u001b[49m\u001b[43m=\u001b[49m\u001b[43m[\u001b[49m\u001b[43m]\u001b[49m\u001b[43m,\u001b[49m\n\u001b[32m    919\u001b[39m \u001b[43m\u001b[49m\u001b[43m)\u001b[49m\n\u001b[32m    920\u001b[39m \u001b[38;5;28;01mtry\u001b[39;00m:\n",
      "\u001b[36mFile \u001b[39m\u001b[32mc:\\Users\\fuhrmannd\\AppData\\Local\\Programs\\Python\\Python313\\Lib\\site-packages\\httpx\\_client.py:942\u001b[39m, in \u001b[36mClient._send_handling_auth\u001b[39m\u001b[34m(self, request, auth, follow_redirects, history)\u001b[39m\n\u001b[32m    941\u001b[39m \u001b[38;5;28;01mwhile\u001b[39;00m \u001b[38;5;28;01mTrue\u001b[39;00m:\n\u001b[32m--> \u001b[39m\u001b[32m942\u001b[39m     response = \u001b[38;5;28;43mself\u001b[39;49m\u001b[43m.\u001b[49m\u001b[43m_send_handling_redirects\u001b[49m\u001b[43m(\u001b[49m\n\u001b[32m    943\u001b[39m \u001b[43m        \u001b[49m\u001b[43mrequest\u001b[49m\u001b[43m,\u001b[49m\n\u001b[32m    944\u001b[39m \u001b[43m        \u001b[49m\u001b[43mfollow_redirects\u001b[49m\u001b[43m=\u001b[49m\u001b[43mfollow_redirects\u001b[49m\u001b[43m,\u001b[49m\n\u001b[32m    945\u001b[39m \u001b[43m        \u001b[49m\u001b[43mhistory\u001b[49m\u001b[43m=\u001b[49m\u001b[43mhistory\u001b[49m\u001b[43m,\u001b[49m\n\u001b[32m    946\u001b[39m \u001b[43m    \u001b[49m\u001b[43m)\u001b[49m\n\u001b[32m    947\u001b[39m     \u001b[38;5;28;01mtry\u001b[39;00m:\n",
      "\u001b[36mFile \u001b[39m\u001b[32mc:\\Users\\fuhrmannd\\AppData\\Local\\Programs\\Python\\Python313\\Lib\\site-packages\\httpx\\_client.py:979\u001b[39m, in \u001b[36mClient._send_handling_redirects\u001b[39m\u001b[34m(self, request, follow_redirects, history)\u001b[39m\n\u001b[32m    977\u001b[39m     hook(request)\n\u001b[32m--> \u001b[39m\u001b[32m979\u001b[39m response = \u001b[38;5;28;43mself\u001b[39;49m\u001b[43m.\u001b[49m\u001b[43m_send_single_request\u001b[49m\u001b[43m(\u001b[49m\u001b[43mrequest\u001b[49m\u001b[43m)\u001b[49m\n\u001b[32m    980\u001b[39m \u001b[38;5;28;01mtry\u001b[39;00m:\n",
      "\u001b[36mFile \u001b[39m\u001b[32mc:\\Users\\fuhrmannd\\AppData\\Local\\Programs\\Python\\Python313\\Lib\\site-packages\\httpx\\_client.py:1014\u001b[39m, in \u001b[36mClient._send_single_request\u001b[39m\u001b[34m(self, request)\u001b[39m\n\u001b[32m   1013\u001b[39m \u001b[38;5;28;01mwith\u001b[39;00m request_context(request=request):\n\u001b[32m-> \u001b[39m\u001b[32m1014\u001b[39m     response = \u001b[43mtransport\u001b[49m\u001b[43m.\u001b[49m\u001b[43mhandle_request\u001b[49m\u001b[43m(\u001b[49m\u001b[43mrequest\u001b[49m\u001b[43m)\u001b[49m\n\u001b[32m   1016\u001b[39m \u001b[38;5;28;01massert\u001b[39;00m \u001b[38;5;28misinstance\u001b[39m(response.stream, SyncByteStream)\n",
      "\u001b[36mFile \u001b[39m\u001b[32mc:\\Users\\fuhrmannd\\AppData\\Local\\Programs\\Python\\Python313\\Lib\\site-packages\\httpx\\_transports\\default.py:249\u001b[39m, in \u001b[36mHTTPTransport.handle_request\u001b[39m\u001b[34m(self, request)\u001b[39m\n\u001b[32m    237\u001b[39m req = httpcore.Request(\n\u001b[32m    238\u001b[39m     method=request.method,\n\u001b[32m    239\u001b[39m     url=httpcore.URL(\n\u001b[32m   (...)\u001b[39m\u001b[32m    247\u001b[39m     extensions=request.extensions,\n\u001b[32m    248\u001b[39m )\n\u001b[32m--> \u001b[39m\u001b[32m249\u001b[39m \u001b[38;5;28;01mwith\u001b[39;00m map_httpcore_exceptions():\n\u001b[32m    250\u001b[39m     resp = \u001b[38;5;28mself\u001b[39m._pool.handle_request(req)\n",
      "\u001b[36mFile \u001b[39m\u001b[32mc:\\Users\\fuhrmannd\\AppData\\Local\\Programs\\Python\\Python313\\Lib\\contextlib.py:162\u001b[39m, in \u001b[36m_GeneratorContextManager.__exit__\u001b[39m\u001b[34m(self, typ, value, traceback)\u001b[39m\n\u001b[32m    161\u001b[39m \u001b[38;5;28;01mtry\u001b[39;00m:\n\u001b[32m--> \u001b[39m\u001b[32m162\u001b[39m     \u001b[38;5;28;43mself\u001b[39;49m\u001b[43m.\u001b[49m\u001b[43mgen\u001b[49m\u001b[43m.\u001b[49m\u001b[43mthrow\u001b[49m\u001b[43m(\u001b[49m\u001b[43mvalue\u001b[49m\u001b[43m)\u001b[49m\n\u001b[32m    163\u001b[39m \u001b[38;5;28;01mexcept\u001b[39;00m \u001b[38;5;167;01mStopIteration\u001b[39;00m \u001b[38;5;28;01mas\u001b[39;00m exc:\n\u001b[32m    164\u001b[39m     \u001b[38;5;66;03m# Suppress StopIteration *unless* it's the same exception that\u001b[39;00m\n\u001b[32m    165\u001b[39m     \u001b[38;5;66;03m# was passed to throw().  This prevents a StopIteration\u001b[39;00m\n\u001b[32m    166\u001b[39m     \u001b[38;5;66;03m# raised inside the \"with\" statement from being suppressed.\u001b[39;00m\n",
      "\u001b[36mFile \u001b[39m\u001b[32mc:\\Users\\fuhrmannd\\AppData\\Local\\Programs\\Python\\Python313\\Lib\\site-packages\\httpx\\_transports\\default.py:118\u001b[39m, in \u001b[36mmap_httpcore_exceptions\u001b[39m\u001b[34m()\u001b[39m\n\u001b[32m    117\u001b[39m message = \u001b[38;5;28mstr\u001b[39m(exc)\n\u001b[32m--> \u001b[39m\u001b[32m118\u001b[39m \u001b[38;5;28;01mraise\u001b[39;00m mapped_exc(message) \u001b[38;5;28;01mfrom\u001b[39;00m\u001b[38;5;250m \u001b[39m\u001b[34;01mexc\u001b[39;00m\n",
      "\u001b[31mConnectError\u001b[39m: [SSL: CERTIFICATE_VERIFY_FAILED] certificate verify failed: self-signed certificate in certificate chain (_ssl.c:1020)",
      "\nThe above exception was the direct cause of the following exception:\n",
      "\u001b[31mAPIConnectionError\u001b[39m                        Traceback (most recent call last)",
      "\u001b[36mCell\u001b[39m\u001b[36m \u001b[39m\u001b[32mIn[11]\u001b[39m\u001b[32m, line 2\u001b[39m\n\u001b[32m      1\u001b[39m query = \u001b[33m\"\u001b[39m\u001b[33mWhat parking options are available?\u001b[39m\u001b[33m\"\u001b[39m\n\u001b[32m----> \u001b[39m\u001b[32m2\u001b[39m result = \u001b[43mqa_chain\u001b[49m\u001b[43m.\u001b[49m\u001b[43minvoke\u001b[49m\u001b[43m(\u001b[49m\u001b[43mquery\u001b[49m\u001b[43m)\u001b[49m\n\u001b[32m      3\u001b[39m \u001b[38;5;28mprint\u001b[39m(result)\n",
      "\u001b[36mFile \u001b[39m\u001b[32mc:\\Users\\fuhrmannd\\AppData\\Local\\Programs\\Python\\Python313\\Lib\\site-packages\\langchain\\chains\\base.py:165\u001b[39m, in \u001b[36mChain.invoke\u001b[39m\u001b[34m(self, input, config, **kwargs)\u001b[39m\n\u001b[32m    162\u001b[39m \u001b[38;5;28;01mtry\u001b[39;00m:\n\u001b[32m    163\u001b[39m     \u001b[38;5;28mself\u001b[39m._validate_inputs(inputs)\n\u001b[32m    164\u001b[39m     outputs = (\n\u001b[32m--> \u001b[39m\u001b[32m165\u001b[39m         \u001b[38;5;28;43mself\u001b[39;49m\u001b[43m.\u001b[49m\u001b[43m_call\u001b[49m\u001b[43m(\u001b[49m\u001b[43minputs\u001b[49m\u001b[43m,\u001b[49m\u001b[43m \u001b[49m\u001b[43mrun_manager\u001b[49m\u001b[43m=\u001b[49m\u001b[43mrun_manager\u001b[49m\u001b[43m)\u001b[49m\n\u001b[32m    166\u001b[39m         \u001b[38;5;28;01mif\u001b[39;00m new_arg_supported\n\u001b[32m    167\u001b[39m         \u001b[38;5;28;01melse\u001b[39;00m \u001b[38;5;28mself\u001b[39m._call(inputs)\n\u001b[32m    168\u001b[39m     )\n\u001b[32m    170\u001b[39m     final_outputs: \u001b[38;5;28mdict\u001b[39m[\u001b[38;5;28mstr\u001b[39m, Any] = \u001b[38;5;28mself\u001b[39m.prep_outputs(\n\u001b[32m    171\u001b[39m         inputs,\n\u001b[32m    172\u001b[39m         outputs,\n\u001b[32m    173\u001b[39m         return_only_outputs,\n\u001b[32m    174\u001b[39m     )\n\u001b[32m    175\u001b[39m \u001b[38;5;28;01mexcept\u001b[39;00m \u001b[38;5;167;01mBaseException\u001b[39;00m \u001b[38;5;28;01mas\u001b[39;00m e:\n",
      "\u001b[36mFile \u001b[39m\u001b[32mc:\\Users\\fuhrmannd\\AppData\\Local\\Programs\\Python\\Python313\\Lib\\site-packages\\langchain\\chains\\retrieval_qa\\base.py:159\u001b[39m, in \u001b[36mBaseRetrievalQA._call\u001b[39m\u001b[34m(self, inputs, run_manager)\u001b[39m\n\u001b[32m    157\u001b[39m \u001b[38;5;28;01melse\u001b[39;00m:\n\u001b[32m    158\u001b[39m     docs = \u001b[38;5;28mself\u001b[39m._get_docs(question)  \u001b[38;5;66;03m# type: ignore[call-arg]\u001b[39;00m\n\u001b[32m--> \u001b[39m\u001b[32m159\u001b[39m answer = \u001b[38;5;28;43mself\u001b[39;49m\u001b[43m.\u001b[49m\u001b[43mcombine_documents_chain\u001b[49m\u001b[43m.\u001b[49m\u001b[43mrun\u001b[49m\u001b[43m(\u001b[49m\n\u001b[32m    160\u001b[39m \u001b[43m    \u001b[49m\u001b[43minput_documents\u001b[49m\u001b[43m=\u001b[49m\u001b[43mdocs\u001b[49m\u001b[43m,\u001b[49m\n\u001b[32m    161\u001b[39m \u001b[43m    \u001b[49m\u001b[43mquestion\u001b[49m\u001b[43m=\u001b[49m\u001b[43mquestion\u001b[49m\u001b[43m,\u001b[49m\n\u001b[32m    162\u001b[39m \u001b[43m    \u001b[49m\u001b[43mcallbacks\u001b[49m\u001b[43m=\u001b[49m\u001b[43m_run_manager\u001b[49m\u001b[43m.\u001b[49m\u001b[43mget_child\u001b[49m\u001b[43m(\u001b[49m\u001b[43m)\u001b[49m\u001b[43m,\u001b[49m\n\u001b[32m    163\u001b[39m \u001b[43m\u001b[49m\u001b[43m)\u001b[49m\n\u001b[32m    165\u001b[39m \u001b[38;5;28;01mif\u001b[39;00m \u001b[38;5;28mself\u001b[39m.return_source_documents:\n\u001b[32m    166\u001b[39m     \u001b[38;5;28;01mreturn\u001b[39;00m {\u001b[38;5;28mself\u001b[39m.output_key: answer, \u001b[33m\"\u001b[39m\u001b[33msource_documents\u001b[39m\u001b[33m\"\u001b[39m: docs}\n",
      "\u001b[36mFile \u001b[39m\u001b[32mc:\\Users\\fuhrmannd\\AppData\\Local\\Programs\\Python\\Python313\\Lib\\site-packages\\langchain_core\\_api\\deprecation.py:189\u001b[39m, in \u001b[36mdeprecated.<locals>.deprecate.<locals>.warning_emitting_wrapper\u001b[39m\u001b[34m(*args, **kwargs)\u001b[39m\n\u001b[32m    187\u001b[39m     warned = \u001b[38;5;28;01mTrue\u001b[39;00m\n\u001b[32m    188\u001b[39m     emit_warning()\n\u001b[32m--> \u001b[39m\u001b[32m189\u001b[39m \u001b[38;5;28;01mreturn\u001b[39;00m \u001b[43mwrapped\u001b[49m\u001b[43m(\u001b[49m\u001b[43m*\u001b[49m\u001b[43margs\u001b[49m\u001b[43m,\u001b[49m\u001b[43m \u001b[49m\u001b[43m*\u001b[49m\u001b[43m*\u001b[49m\u001b[43mkwargs\u001b[49m\u001b[43m)\u001b[49m\n",
      "\u001b[36mFile \u001b[39m\u001b[32mc:\\Users\\fuhrmannd\\AppData\\Local\\Programs\\Python\\Python313\\Lib\\site-packages\\langchain\\chains\\base.py:632\u001b[39m, in \u001b[36mChain.run\u001b[39m\u001b[34m(self, callbacks, tags, metadata, *args, **kwargs)\u001b[39m\n\u001b[32m    627\u001b[39m     \u001b[38;5;28;01mreturn\u001b[39;00m \u001b[38;5;28mself\u001b[39m(args[\u001b[32m0\u001b[39m], callbacks=callbacks, tags=tags, metadata=metadata)[\n\u001b[32m    628\u001b[39m         _output_key\n\u001b[32m    629\u001b[39m     ]\n\u001b[32m    631\u001b[39m \u001b[38;5;28;01mif\u001b[39;00m kwargs \u001b[38;5;129;01mand\u001b[39;00m \u001b[38;5;129;01mnot\u001b[39;00m args:\n\u001b[32m--> \u001b[39m\u001b[32m632\u001b[39m     \u001b[38;5;28;01mreturn\u001b[39;00m \u001b[38;5;28;43mself\u001b[39;49m\u001b[43m(\u001b[49m\u001b[43mkwargs\u001b[49m\u001b[43m,\u001b[49m\u001b[43m \u001b[49m\u001b[43mcallbacks\u001b[49m\u001b[43m=\u001b[49m\u001b[43mcallbacks\u001b[49m\u001b[43m,\u001b[49m\u001b[43m \u001b[49m\u001b[43mtags\u001b[49m\u001b[43m=\u001b[49m\u001b[43mtags\u001b[49m\u001b[43m,\u001b[49m\u001b[43m \u001b[49m\u001b[43mmetadata\u001b[49m\u001b[43m=\u001b[49m\u001b[43mmetadata\u001b[49m\u001b[43m)\u001b[49m[\n\u001b[32m    633\u001b[39m         _output_key\n\u001b[32m    634\u001b[39m     ]\n\u001b[32m    636\u001b[39m \u001b[38;5;28;01mif\u001b[39;00m \u001b[38;5;129;01mnot\u001b[39;00m kwargs \u001b[38;5;129;01mand\u001b[39;00m \u001b[38;5;129;01mnot\u001b[39;00m args:\n\u001b[32m    637\u001b[39m     msg = (\n\u001b[32m    638\u001b[39m         \u001b[33m\"\u001b[39m\u001b[33m`run` supported with either positional arguments or keyword arguments,\u001b[39m\u001b[33m\"\u001b[39m\n\u001b[32m    639\u001b[39m         \u001b[33m\"\u001b[39m\u001b[33m but none were provided.\u001b[39m\u001b[33m\"\u001b[39m\n\u001b[32m    640\u001b[39m     )\n",
      "\u001b[36mFile \u001b[39m\u001b[32mc:\\Users\\fuhrmannd\\AppData\\Local\\Programs\\Python\\Python313\\Lib\\site-packages\\langchain_core\\_api\\deprecation.py:189\u001b[39m, in \u001b[36mdeprecated.<locals>.deprecate.<locals>.warning_emitting_wrapper\u001b[39m\u001b[34m(*args, **kwargs)\u001b[39m\n\u001b[32m    187\u001b[39m     warned = \u001b[38;5;28;01mTrue\u001b[39;00m\n\u001b[32m    188\u001b[39m     emit_warning()\n\u001b[32m--> \u001b[39m\u001b[32m189\u001b[39m \u001b[38;5;28;01mreturn\u001b[39;00m \u001b[43mwrapped\u001b[49m\u001b[43m(\u001b[49m\u001b[43m*\u001b[49m\u001b[43margs\u001b[49m\u001b[43m,\u001b[49m\u001b[43m \u001b[49m\u001b[43m*\u001b[49m\u001b[43m*\u001b[49m\u001b[43mkwargs\u001b[49m\u001b[43m)\u001b[49m\n",
      "\u001b[36mFile \u001b[39m\u001b[32mc:\\Users\\fuhrmannd\\AppData\\Local\\Programs\\Python\\Python313\\Lib\\site-packages\\langchain\\chains\\base.py:410\u001b[39m, in \u001b[36mChain.__call__\u001b[39m\u001b[34m(self, inputs, return_only_outputs, callbacks, tags, metadata, run_name, include_run_info)\u001b[39m\n\u001b[32m    378\u001b[39m \u001b[38;5;250m\u001b[39m\u001b[33;03m\"\"\"Execute the chain.\u001b[39;00m\n\u001b[32m    379\u001b[39m \n\u001b[32m    380\u001b[39m \u001b[33;03mArgs:\u001b[39;00m\n\u001b[32m   (...)\u001b[39m\u001b[32m    401\u001b[39m \u001b[33;03m        `Chain.output_keys`.\u001b[39;00m\n\u001b[32m    402\u001b[39m \u001b[33;03m\"\"\"\u001b[39;00m\n\u001b[32m    403\u001b[39m config = {\n\u001b[32m    404\u001b[39m     \u001b[33m\"\u001b[39m\u001b[33mcallbacks\u001b[39m\u001b[33m\"\u001b[39m: callbacks,\n\u001b[32m    405\u001b[39m     \u001b[33m\"\u001b[39m\u001b[33mtags\u001b[39m\u001b[33m\"\u001b[39m: tags,\n\u001b[32m    406\u001b[39m     \u001b[33m\"\u001b[39m\u001b[33mmetadata\u001b[39m\u001b[33m\"\u001b[39m: metadata,\n\u001b[32m    407\u001b[39m     \u001b[33m\"\u001b[39m\u001b[33mrun_name\u001b[39m\u001b[33m\"\u001b[39m: run_name,\n\u001b[32m    408\u001b[39m }\n\u001b[32m--> \u001b[39m\u001b[32m410\u001b[39m \u001b[38;5;28;01mreturn\u001b[39;00m \u001b[38;5;28;43mself\u001b[39;49m\u001b[43m.\u001b[49m\u001b[43minvoke\u001b[49m\u001b[43m(\u001b[49m\n\u001b[32m    411\u001b[39m \u001b[43m    \u001b[49m\u001b[43minputs\u001b[49m\u001b[43m,\u001b[49m\n\u001b[32m    412\u001b[39m \u001b[43m    \u001b[49m\u001b[43mcast\u001b[49m\u001b[43m(\u001b[49m\u001b[43mRunnableConfig\u001b[49m\u001b[43m,\u001b[49m\u001b[43m \u001b[49m\u001b[43m{\u001b[49m\u001b[43mk\u001b[49m\u001b[43m:\u001b[49m\u001b[43m \u001b[49m\u001b[43mv\u001b[49m\u001b[43m \u001b[49m\u001b[38;5;28;43;01mfor\u001b[39;49;00m\u001b[43m \u001b[49m\u001b[43mk\u001b[49m\u001b[43m,\u001b[49m\u001b[43m \u001b[49m\u001b[43mv\u001b[49m\u001b[43m \u001b[49m\u001b[38;5;129;43;01min\u001b[39;49;00m\u001b[43m \u001b[49m\u001b[43mconfig\u001b[49m\u001b[43m.\u001b[49m\u001b[43mitems\u001b[49m\u001b[43m(\u001b[49m\u001b[43m)\u001b[49m\u001b[43m \u001b[49m\u001b[38;5;28;43;01mif\u001b[39;49;00m\u001b[43m \u001b[49m\u001b[43mv\u001b[49m\u001b[43m \u001b[49m\u001b[38;5;129;43;01mis\u001b[39;49;00m\u001b[43m \u001b[49m\u001b[38;5;129;43;01mnot\u001b[39;49;00m\u001b[43m \u001b[49m\u001b[38;5;28;43;01mNone\u001b[39;49;00m\u001b[43m}\u001b[49m\u001b[43m)\u001b[49m\u001b[43m,\u001b[49m\n\u001b[32m    413\u001b[39m \u001b[43m    \u001b[49m\u001b[43mreturn_only_outputs\u001b[49m\u001b[43m=\u001b[49m\u001b[43mreturn_only_outputs\u001b[49m\u001b[43m,\u001b[49m\n\u001b[32m    414\u001b[39m \u001b[43m    \u001b[49m\u001b[43minclude_run_info\u001b[49m\u001b[43m=\u001b[49m\u001b[43minclude_run_info\u001b[49m\u001b[43m,\u001b[49m\n\u001b[32m    415\u001b[39m \u001b[43m\u001b[49m\u001b[43m)\u001b[49m\n",
      "\u001b[36mFile \u001b[39m\u001b[32mc:\\Users\\fuhrmannd\\AppData\\Local\\Programs\\Python\\Python313\\Lib\\site-packages\\langchain\\chains\\base.py:165\u001b[39m, in \u001b[36mChain.invoke\u001b[39m\u001b[34m(self, input, config, **kwargs)\u001b[39m\n\u001b[32m    162\u001b[39m \u001b[38;5;28;01mtry\u001b[39;00m:\n\u001b[32m    163\u001b[39m     \u001b[38;5;28mself\u001b[39m._validate_inputs(inputs)\n\u001b[32m    164\u001b[39m     outputs = (\n\u001b[32m--> \u001b[39m\u001b[32m165\u001b[39m         \u001b[38;5;28;43mself\u001b[39;49m\u001b[43m.\u001b[49m\u001b[43m_call\u001b[49m\u001b[43m(\u001b[49m\u001b[43minputs\u001b[49m\u001b[43m,\u001b[49m\u001b[43m \u001b[49m\u001b[43mrun_manager\u001b[49m\u001b[43m=\u001b[49m\u001b[43mrun_manager\u001b[49m\u001b[43m)\u001b[49m\n\u001b[32m    166\u001b[39m         \u001b[38;5;28;01mif\u001b[39;00m new_arg_supported\n\u001b[32m    167\u001b[39m         \u001b[38;5;28;01melse\u001b[39;00m \u001b[38;5;28mself\u001b[39m._call(inputs)\n\u001b[32m    168\u001b[39m     )\n\u001b[32m    170\u001b[39m     final_outputs: \u001b[38;5;28mdict\u001b[39m[\u001b[38;5;28mstr\u001b[39m, Any] = \u001b[38;5;28mself\u001b[39m.prep_outputs(\n\u001b[32m    171\u001b[39m         inputs,\n\u001b[32m    172\u001b[39m         outputs,\n\u001b[32m    173\u001b[39m         return_only_outputs,\n\u001b[32m    174\u001b[39m     )\n\u001b[32m    175\u001b[39m \u001b[38;5;28;01mexcept\u001b[39;00m \u001b[38;5;167;01mBaseException\u001b[39;00m \u001b[38;5;28;01mas\u001b[39;00m e:\n",
      "\u001b[36mFile \u001b[39m\u001b[32mc:\\Users\\fuhrmannd\\AppData\\Local\\Programs\\Python\\Python313\\Lib\\site-packages\\langchain\\chains\\combine_documents\\base.py:143\u001b[39m, in \u001b[36mBaseCombineDocumentsChain._call\u001b[39m\u001b[34m(self, inputs, run_manager)\u001b[39m\n\u001b[32m    141\u001b[39m \u001b[38;5;66;03m# Other keys are assumed to be needed for LLM prediction\u001b[39;00m\n\u001b[32m    142\u001b[39m other_keys = {k: v \u001b[38;5;28;01mfor\u001b[39;00m k, v \u001b[38;5;129;01min\u001b[39;00m inputs.items() \u001b[38;5;28;01mif\u001b[39;00m k != \u001b[38;5;28mself\u001b[39m.input_key}\n\u001b[32m--> \u001b[39m\u001b[32m143\u001b[39m output, extra_return_dict = \u001b[38;5;28;43mself\u001b[39;49m\u001b[43m.\u001b[49m\u001b[43mcombine_docs\u001b[49m\u001b[43m(\u001b[49m\n\u001b[32m    144\u001b[39m \u001b[43m    \u001b[49m\u001b[43mdocs\u001b[49m\u001b[43m,\u001b[49m\n\u001b[32m    145\u001b[39m \u001b[43m    \u001b[49m\u001b[43mcallbacks\u001b[49m\u001b[43m=\u001b[49m\u001b[43m_run_manager\u001b[49m\u001b[43m.\u001b[49m\u001b[43mget_child\u001b[49m\u001b[43m(\u001b[49m\u001b[43m)\u001b[49m\u001b[43m,\u001b[49m\n\u001b[32m    146\u001b[39m \u001b[43m    \u001b[49m\u001b[43m*\u001b[49m\u001b[43m*\u001b[49m\u001b[43mother_keys\u001b[49m\u001b[43m,\u001b[49m\n\u001b[32m    147\u001b[39m \u001b[43m\u001b[49m\u001b[43m)\u001b[49m\n\u001b[32m    148\u001b[39m extra_return_dict[\u001b[38;5;28mself\u001b[39m.output_key] = output\n\u001b[32m    149\u001b[39m \u001b[38;5;28;01mreturn\u001b[39;00m extra_return_dict\n",
      "\u001b[36mFile \u001b[39m\u001b[32mc:\\Users\\fuhrmannd\\AppData\\Local\\Programs\\Python\\Python313\\Lib\\site-packages\\langchain\\chains\\combine_documents\\refine.py:170\u001b[39m, in \u001b[36mRefineDocumentsChain.combine_docs\u001b[39m\u001b[34m(self, docs, callbacks, **kwargs)\u001b[39m\n\u001b[32m    157\u001b[39m \u001b[38;5;250m\u001b[39m\u001b[33;03m\"\"\"Combine by mapping first chain over all, then stuffing into final chain.\u001b[39;00m\n\u001b[32m    158\u001b[39m \n\u001b[32m    159\u001b[39m \u001b[33;03mArgs:\u001b[39;00m\n\u001b[32m   (...)\u001b[39m\u001b[32m    167\u001b[39m \u001b[33;03m    element returned is a dictionary of other keys to return.\u001b[39;00m\n\u001b[32m    168\u001b[39m \u001b[33;03m\"\"\"\u001b[39;00m\n\u001b[32m    169\u001b[39m inputs = \u001b[38;5;28mself\u001b[39m._construct_initial_inputs(docs, **kwargs)\n\u001b[32m--> \u001b[39m\u001b[32m170\u001b[39m res = \u001b[38;5;28;43mself\u001b[39;49m\u001b[43m.\u001b[49m\u001b[43minitial_llm_chain\u001b[49m\u001b[43m.\u001b[49m\u001b[43mpredict\u001b[49m\u001b[43m(\u001b[49m\u001b[43mcallbacks\u001b[49m\u001b[43m=\u001b[49m\u001b[43mcallbacks\u001b[49m\u001b[43m,\u001b[49m\u001b[43m \u001b[49m\u001b[43m*\u001b[49m\u001b[43m*\u001b[49m\u001b[43minputs\u001b[49m\u001b[43m)\u001b[49m\n\u001b[32m    171\u001b[39m refine_steps = [res]\n\u001b[32m    172\u001b[39m \u001b[38;5;28;01mfor\u001b[39;00m doc \u001b[38;5;129;01min\u001b[39;00m docs[\u001b[32m1\u001b[39m:]:\n",
      "\u001b[36mFile \u001b[39m\u001b[32mc:\\Users\\fuhrmannd\\AppData\\Local\\Programs\\Python\\Python313\\Lib\\site-packages\\langchain\\chains\\llm.py:325\u001b[39m, in \u001b[36mLLMChain.predict\u001b[39m\u001b[34m(self, callbacks, **kwargs)\u001b[39m\n\u001b[32m    310\u001b[39m \u001b[38;5;28;01mdef\u001b[39;00m\u001b[38;5;250m \u001b[39m\u001b[34mpredict\u001b[39m(\u001b[38;5;28mself\u001b[39m, callbacks: Callbacks = \u001b[38;5;28;01mNone\u001b[39;00m, **kwargs: Any) -> \u001b[38;5;28mstr\u001b[39m:\n\u001b[32m    311\u001b[39m \u001b[38;5;250m    \u001b[39m\u001b[33;03m\"\"\"Format prompt with kwargs and pass to LLM.\u001b[39;00m\n\u001b[32m    312\u001b[39m \n\u001b[32m    313\u001b[39m \u001b[33;03m    Args:\u001b[39;00m\n\u001b[32m   (...)\u001b[39m\u001b[32m    323\u001b[39m \u001b[33;03m            completion = llm.predict(adjective=\"funny\")\u001b[39;00m\n\u001b[32m    324\u001b[39m \u001b[33;03m    \"\"\"\u001b[39;00m\n\u001b[32m--> \u001b[39m\u001b[32m325\u001b[39m     \u001b[38;5;28;01mreturn\u001b[39;00m \u001b[38;5;28;43mself\u001b[39;49m\u001b[43m(\u001b[49m\u001b[43mkwargs\u001b[49m\u001b[43m,\u001b[49m\u001b[43m \u001b[49m\u001b[43mcallbacks\u001b[49m\u001b[43m=\u001b[49m\u001b[43mcallbacks\u001b[49m\u001b[43m)\u001b[49m[\u001b[38;5;28mself\u001b[39m.output_key]\n",
      "\u001b[36mFile \u001b[39m\u001b[32mc:\\Users\\fuhrmannd\\AppData\\Local\\Programs\\Python\\Python313\\Lib\\site-packages\\langchain_core\\_api\\deprecation.py:189\u001b[39m, in \u001b[36mdeprecated.<locals>.deprecate.<locals>.warning_emitting_wrapper\u001b[39m\u001b[34m(*args, **kwargs)\u001b[39m\n\u001b[32m    187\u001b[39m     warned = \u001b[38;5;28;01mTrue\u001b[39;00m\n\u001b[32m    188\u001b[39m     emit_warning()\n\u001b[32m--> \u001b[39m\u001b[32m189\u001b[39m \u001b[38;5;28;01mreturn\u001b[39;00m \u001b[43mwrapped\u001b[49m\u001b[43m(\u001b[49m\u001b[43m*\u001b[49m\u001b[43margs\u001b[49m\u001b[43m,\u001b[49m\u001b[43m \u001b[49m\u001b[43m*\u001b[49m\u001b[43m*\u001b[49m\u001b[43mkwargs\u001b[49m\u001b[43m)\u001b[49m\n",
      "\u001b[36mFile \u001b[39m\u001b[32mc:\\Users\\fuhrmannd\\AppData\\Local\\Programs\\Python\\Python313\\Lib\\site-packages\\langchain\\chains\\base.py:410\u001b[39m, in \u001b[36mChain.__call__\u001b[39m\u001b[34m(self, inputs, return_only_outputs, callbacks, tags, metadata, run_name, include_run_info)\u001b[39m\n\u001b[32m    378\u001b[39m \u001b[38;5;250m\u001b[39m\u001b[33;03m\"\"\"Execute the chain.\u001b[39;00m\n\u001b[32m    379\u001b[39m \n\u001b[32m    380\u001b[39m \u001b[33;03mArgs:\u001b[39;00m\n\u001b[32m   (...)\u001b[39m\u001b[32m    401\u001b[39m \u001b[33;03m        `Chain.output_keys`.\u001b[39;00m\n\u001b[32m    402\u001b[39m \u001b[33;03m\"\"\"\u001b[39;00m\n\u001b[32m    403\u001b[39m config = {\n\u001b[32m    404\u001b[39m     \u001b[33m\"\u001b[39m\u001b[33mcallbacks\u001b[39m\u001b[33m\"\u001b[39m: callbacks,\n\u001b[32m    405\u001b[39m     \u001b[33m\"\u001b[39m\u001b[33mtags\u001b[39m\u001b[33m\"\u001b[39m: tags,\n\u001b[32m    406\u001b[39m     \u001b[33m\"\u001b[39m\u001b[33mmetadata\u001b[39m\u001b[33m\"\u001b[39m: metadata,\n\u001b[32m    407\u001b[39m     \u001b[33m\"\u001b[39m\u001b[33mrun_name\u001b[39m\u001b[33m\"\u001b[39m: run_name,\n\u001b[32m    408\u001b[39m }\n\u001b[32m--> \u001b[39m\u001b[32m410\u001b[39m \u001b[38;5;28;01mreturn\u001b[39;00m \u001b[38;5;28;43mself\u001b[39;49m\u001b[43m.\u001b[49m\u001b[43minvoke\u001b[49m\u001b[43m(\u001b[49m\n\u001b[32m    411\u001b[39m \u001b[43m    \u001b[49m\u001b[43minputs\u001b[49m\u001b[43m,\u001b[49m\n\u001b[32m    412\u001b[39m \u001b[43m    \u001b[49m\u001b[43mcast\u001b[49m\u001b[43m(\u001b[49m\u001b[43mRunnableConfig\u001b[49m\u001b[43m,\u001b[49m\u001b[43m \u001b[49m\u001b[43m{\u001b[49m\u001b[43mk\u001b[49m\u001b[43m:\u001b[49m\u001b[43m \u001b[49m\u001b[43mv\u001b[49m\u001b[43m \u001b[49m\u001b[38;5;28;43;01mfor\u001b[39;49;00m\u001b[43m \u001b[49m\u001b[43mk\u001b[49m\u001b[43m,\u001b[49m\u001b[43m \u001b[49m\u001b[43mv\u001b[49m\u001b[43m \u001b[49m\u001b[38;5;129;43;01min\u001b[39;49;00m\u001b[43m \u001b[49m\u001b[43mconfig\u001b[49m\u001b[43m.\u001b[49m\u001b[43mitems\u001b[49m\u001b[43m(\u001b[49m\u001b[43m)\u001b[49m\u001b[43m \u001b[49m\u001b[38;5;28;43;01mif\u001b[39;49;00m\u001b[43m \u001b[49m\u001b[43mv\u001b[49m\u001b[43m \u001b[49m\u001b[38;5;129;43;01mis\u001b[39;49;00m\u001b[43m \u001b[49m\u001b[38;5;129;43;01mnot\u001b[39;49;00m\u001b[43m \u001b[49m\u001b[38;5;28;43;01mNone\u001b[39;49;00m\u001b[43m}\u001b[49m\u001b[43m)\u001b[49m\u001b[43m,\u001b[49m\n\u001b[32m    413\u001b[39m \u001b[43m    \u001b[49m\u001b[43mreturn_only_outputs\u001b[49m\u001b[43m=\u001b[49m\u001b[43mreturn_only_outputs\u001b[49m\u001b[43m,\u001b[49m\n\u001b[32m    414\u001b[39m \u001b[43m    \u001b[49m\u001b[43minclude_run_info\u001b[49m\u001b[43m=\u001b[49m\u001b[43minclude_run_info\u001b[49m\u001b[43m,\u001b[49m\n\u001b[32m    415\u001b[39m \u001b[43m\u001b[49m\u001b[43m)\u001b[49m\n",
      "\u001b[36mFile \u001b[39m\u001b[32mc:\\Users\\fuhrmannd\\AppData\\Local\\Programs\\Python\\Python313\\Lib\\site-packages\\langchain\\chains\\base.py:165\u001b[39m, in \u001b[36mChain.invoke\u001b[39m\u001b[34m(self, input, config, **kwargs)\u001b[39m\n\u001b[32m    162\u001b[39m \u001b[38;5;28;01mtry\u001b[39;00m:\n\u001b[32m    163\u001b[39m     \u001b[38;5;28mself\u001b[39m._validate_inputs(inputs)\n\u001b[32m    164\u001b[39m     outputs = (\n\u001b[32m--> \u001b[39m\u001b[32m165\u001b[39m         \u001b[38;5;28;43mself\u001b[39;49m\u001b[43m.\u001b[49m\u001b[43m_call\u001b[49m\u001b[43m(\u001b[49m\u001b[43minputs\u001b[49m\u001b[43m,\u001b[49m\u001b[43m \u001b[49m\u001b[43mrun_manager\u001b[49m\u001b[43m=\u001b[49m\u001b[43mrun_manager\u001b[49m\u001b[43m)\u001b[49m\n\u001b[32m    166\u001b[39m         \u001b[38;5;28;01mif\u001b[39;00m new_arg_supported\n\u001b[32m    167\u001b[39m         \u001b[38;5;28;01melse\u001b[39;00m \u001b[38;5;28mself\u001b[39m._call(inputs)\n\u001b[32m    168\u001b[39m     )\n\u001b[32m    170\u001b[39m     final_outputs: \u001b[38;5;28mdict\u001b[39m[\u001b[38;5;28mstr\u001b[39m, Any] = \u001b[38;5;28mself\u001b[39m.prep_outputs(\n\u001b[32m    171\u001b[39m         inputs,\n\u001b[32m    172\u001b[39m         outputs,\n\u001b[32m    173\u001b[39m         return_only_outputs,\n\u001b[32m    174\u001b[39m     )\n\u001b[32m    175\u001b[39m \u001b[38;5;28;01mexcept\u001b[39;00m \u001b[38;5;167;01mBaseException\u001b[39;00m \u001b[38;5;28;01mas\u001b[39;00m e:\n",
      "\u001b[36mFile \u001b[39m\u001b[32mc:\\Users\\fuhrmannd\\AppData\\Local\\Programs\\Python\\Python313\\Lib\\site-packages\\langchain\\chains\\llm.py:127\u001b[39m, in \u001b[36mLLMChain._call\u001b[39m\u001b[34m(self, inputs, run_manager)\u001b[39m\n\u001b[32m    122\u001b[39m \u001b[38;5;28;01mdef\u001b[39;00m\u001b[38;5;250m \u001b[39m\u001b[34m_call\u001b[39m(\n\u001b[32m    123\u001b[39m     \u001b[38;5;28mself\u001b[39m,\n\u001b[32m    124\u001b[39m     inputs: \u001b[38;5;28mdict\u001b[39m[\u001b[38;5;28mstr\u001b[39m, Any],\n\u001b[32m    125\u001b[39m     run_manager: Optional[CallbackManagerForChainRun] = \u001b[38;5;28;01mNone\u001b[39;00m,\n\u001b[32m    126\u001b[39m ) -> \u001b[38;5;28mdict\u001b[39m[\u001b[38;5;28mstr\u001b[39m, \u001b[38;5;28mstr\u001b[39m]:\n\u001b[32m--> \u001b[39m\u001b[32m127\u001b[39m     response = \u001b[38;5;28;43mself\u001b[39;49m\u001b[43m.\u001b[49m\u001b[43mgenerate\u001b[49m\u001b[43m(\u001b[49m\u001b[43m[\u001b[49m\u001b[43minputs\u001b[49m\u001b[43m]\u001b[49m\u001b[43m,\u001b[49m\u001b[43m \u001b[49m\u001b[43mrun_manager\u001b[49m\u001b[43m=\u001b[49m\u001b[43mrun_manager\u001b[49m\u001b[43m)\u001b[49m\n\u001b[32m    128\u001b[39m     \u001b[38;5;28;01mreturn\u001b[39;00m \u001b[38;5;28mself\u001b[39m.create_outputs(response)[\u001b[32m0\u001b[39m]\n",
      "\u001b[36mFile \u001b[39m\u001b[32mc:\\Users\\fuhrmannd\\AppData\\Local\\Programs\\Python\\Python313\\Lib\\site-packages\\langchain\\chains\\llm.py:139\u001b[39m, in \u001b[36mLLMChain.generate\u001b[39m\u001b[34m(self, input_list, run_manager)\u001b[39m\n\u001b[32m    137\u001b[39m callbacks = run_manager.get_child() \u001b[38;5;28;01mif\u001b[39;00m run_manager \u001b[38;5;28;01melse\u001b[39;00m \u001b[38;5;28;01mNone\u001b[39;00m\n\u001b[32m    138\u001b[39m \u001b[38;5;28;01mif\u001b[39;00m \u001b[38;5;28misinstance\u001b[39m(\u001b[38;5;28mself\u001b[39m.llm, BaseLanguageModel):\n\u001b[32m--> \u001b[39m\u001b[32m139\u001b[39m     \u001b[38;5;28;01mreturn\u001b[39;00m \u001b[38;5;28;43mself\u001b[39;49m\u001b[43m.\u001b[49m\u001b[43mllm\u001b[49m\u001b[43m.\u001b[49m\u001b[43mgenerate_prompt\u001b[49m\u001b[43m(\u001b[49m\n\u001b[32m    140\u001b[39m \u001b[43m        \u001b[49m\u001b[43mprompts\u001b[49m\u001b[43m,\u001b[49m\n\u001b[32m    141\u001b[39m \u001b[43m        \u001b[49m\u001b[43mstop\u001b[49m\u001b[43m,\u001b[49m\n\u001b[32m    142\u001b[39m \u001b[43m        \u001b[49m\u001b[43mcallbacks\u001b[49m\u001b[43m=\u001b[49m\u001b[43mcallbacks\u001b[49m\u001b[43m,\u001b[49m\n\u001b[32m    143\u001b[39m \u001b[43m        \u001b[49m\u001b[43m*\u001b[49m\u001b[43m*\u001b[49m\u001b[38;5;28;43mself\u001b[39;49m\u001b[43m.\u001b[49m\u001b[43mllm_kwargs\u001b[49m\u001b[43m,\u001b[49m\n\u001b[32m    144\u001b[39m \u001b[43m    \u001b[49m\u001b[43m)\u001b[49m\n\u001b[32m    145\u001b[39m results = \u001b[38;5;28mself\u001b[39m.llm.bind(stop=stop, **\u001b[38;5;28mself\u001b[39m.llm_kwargs).batch(\n\u001b[32m    146\u001b[39m     cast(\u001b[38;5;28mlist\u001b[39m, prompts),\n\u001b[32m    147\u001b[39m     {\u001b[33m\"\u001b[39m\u001b[33mcallbacks\u001b[39m\u001b[33m\"\u001b[39m: callbacks},\n\u001b[32m    148\u001b[39m )\n\u001b[32m    149\u001b[39m generations: \u001b[38;5;28mlist\u001b[39m[\u001b[38;5;28mlist\u001b[39m[Generation]] = []\n",
      "\u001b[36mFile \u001b[39m\u001b[32mc:\\Users\\fuhrmannd\\AppData\\Local\\Programs\\Python\\Python313\\Lib\\site-packages\\langchain_core\\language_models\\chat_models.py:980\u001b[39m, in \u001b[36mBaseChatModel.generate_prompt\u001b[39m\u001b[34m(self, prompts, stop, callbacks, **kwargs)\u001b[39m\n\u001b[32m    971\u001b[39m \u001b[38;5;129m@override\u001b[39m\n\u001b[32m    972\u001b[39m \u001b[38;5;28;01mdef\u001b[39;00m\u001b[38;5;250m \u001b[39m\u001b[34mgenerate_prompt\u001b[39m(\n\u001b[32m    973\u001b[39m     \u001b[38;5;28mself\u001b[39m,\n\u001b[32m   (...)\u001b[39m\u001b[32m    977\u001b[39m     **kwargs: Any,\n\u001b[32m    978\u001b[39m ) -> LLMResult:\n\u001b[32m    979\u001b[39m     prompt_messages = [p.to_messages() \u001b[38;5;28;01mfor\u001b[39;00m p \u001b[38;5;129;01min\u001b[39;00m prompts]\n\u001b[32m--> \u001b[39m\u001b[32m980\u001b[39m     \u001b[38;5;28;01mreturn\u001b[39;00m \u001b[38;5;28;43mself\u001b[39;49m\u001b[43m.\u001b[49m\u001b[43mgenerate\u001b[49m\u001b[43m(\u001b[49m\u001b[43mprompt_messages\u001b[49m\u001b[43m,\u001b[49m\u001b[43m \u001b[49m\u001b[43mstop\u001b[49m\u001b[43m=\u001b[49m\u001b[43mstop\u001b[49m\u001b[43m,\u001b[49m\u001b[43m \u001b[49m\u001b[43mcallbacks\u001b[49m\u001b[43m=\u001b[49m\u001b[43mcallbacks\u001b[49m\u001b[43m,\u001b[49m\u001b[43m \u001b[49m\u001b[43m*\u001b[49m\u001b[43m*\u001b[49m\u001b[43mkwargs\u001b[49m\u001b[43m)\u001b[49m\n",
      "\u001b[36mFile \u001b[39m\u001b[32mc:\\Users\\fuhrmannd\\AppData\\Local\\Programs\\Python\\Python313\\Lib\\site-packages\\langchain_core\\language_models\\chat_models.py:799\u001b[39m, in \u001b[36mBaseChatModel.generate\u001b[39m\u001b[34m(self, messages, stop, callbacks, tags, metadata, run_name, run_id, **kwargs)\u001b[39m\n\u001b[32m    796\u001b[39m \u001b[38;5;28;01mfor\u001b[39;00m i, m \u001b[38;5;129;01min\u001b[39;00m \u001b[38;5;28menumerate\u001b[39m(input_messages):\n\u001b[32m    797\u001b[39m     \u001b[38;5;28;01mtry\u001b[39;00m:\n\u001b[32m    798\u001b[39m         results.append(\n\u001b[32m--> \u001b[39m\u001b[32m799\u001b[39m             \u001b[38;5;28;43mself\u001b[39;49m\u001b[43m.\u001b[49m\u001b[43m_generate_with_cache\u001b[49m\u001b[43m(\u001b[49m\n\u001b[32m    800\u001b[39m \u001b[43m                \u001b[49m\u001b[43mm\u001b[49m\u001b[43m,\u001b[49m\n\u001b[32m    801\u001b[39m \u001b[43m                \u001b[49m\u001b[43mstop\u001b[49m\u001b[43m=\u001b[49m\u001b[43mstop\u001b[49m\u001b[43m,\u001b[49m\n\u001b[32m    802\u001b[39m \u001b[43m                \u001b[49m\u001b[43mrun_manager\u001b[49m\u001b[43m=\u001b[49m\u001b[43mrun_managers\u001b[49m\u001b[43m[\u001b[49m\u001b[43mi\u001b[49m\u001b[43m]\u001b[49m\u001b[43m \u001b[49m\u001b[38;5;28;43;01mif\u001b[39;49;00m\u001b[43m \u001b[49m\u001b[43mrun_managers\u001b[49m\u001b[43m \u001b[49m\u001b[38;5;28;43;01melse\u001b[39;49;00m\u001b[43m \u001b[49m\u001b[38;5;28;43;01mNone\u001b[39;49;00m\u001b[43m,\u001b[49m\n\u001b[32m    803\u001b[39m \u001b[43m                \u001b[49m\u001b[43m*\u001b[49m\u001b[43m*\u001b[49m\u001b[43mkwargs\u001b[49m\u001b[43m,\u001b[49m\n\u001b[32m    804\u001b[39m \u001b[43m            \u001b[49m\u001b[43m)\u001b[49m\n\u001b[32m    805\u001b[39m         )\n\u001b[32m    806\u001b[39m     \u001b[38;5;28;01mexcept\u001b[39;00m \u001b[38;5;167;01mBaseException\u001b[39;00m \u001b[38;5;28;01mas\u001b[39;00m e:\n\u001b[32m    807\u001b[39m         \u001b[38;5;28;01mif\u001b[39;00m run_managers:\n",
      "\u001b[36mFile \u001b[39m\u001b[32mc:\\Users\\fuhrmannd\\AppData\\Local\\Programs\\Python\\Python313\\Lib\\site-packages\\langchain_core\\language_models\\chat_models.py:1045\u001b[39m, in \u001b[36mBaseChatModel._generate_with_cache\u001b[39m\u001b[34m(self, messages, stop, run_manager, **kwargs)\u001b[39m\n\u001b[32m   1043\u001b[39m     result = generate_from_stream(\u001b[38;5;28miter\u001b[39m(chunks))\n\u001b[32m   1044\u001b[39m \u001b[38;5;28;01melif\u001b[39;00m inspect.signature(\u001b[38;5;28mself\u001b[39m._generate).parameters.get(\u001b[33m\"\u001b[39m\u001b[33mrun_manager\u001b[39m\u001b[33m\"\u001b[39m):\n\u001b[32m-> \u001b[39m\u001b[32m1045\u001b[39m     result = \u001b[38;5;28;43mself\u001b[39;49m\u001b[43m.\u001b[49m\u001b[43m_generate\u001b[49m\u001b[43m(\u001b[49m\n\u001b[32m   1046\u001b[39m \u001b[43m        \u001b[49m\u001b[43mmessages\u001b[49m\u001b[43m,\u001b[49m\u001b[43m \u001b[49m\u001b[43mstop\u001b[49m\u001b[43m=\u001b[49m\u001b[43mstop\u001b[49m\u001b[43m,\u001b[49m\u001b[43m \u001b[49m\u001b[43mrun_manager\u001b[49m\u001b[43m=\u001b[49m\u001b[43mrun_manager\u001b[49m\u001b[43m,\u001b[49m\u001b[43m \u001b[49m\u001b[43m*\u001b[49m\u001b[43m*\u001b[49m\u001b[43mkwargs\u001b[49m\n\u001b[32m   1047\u001b[39m \u001b[43m    \u001b[49m\u001b[43m)\u001b[49m\n\u001b[32m   1048\u001b[39m \u001b[38;5;28;01melse\u001b[39;00m:\n\u001b[32m   1049\u001b[39m     result = \u001b[38;5;28mself\u001b[39m._generate(messages, stop=stop, **kwargs)\n",
      "\u001b[36mFile \u001b[39m\u001b[32mc:\\Users\\fuhrmannd\\AppData\\Local\\Programs\\Python\\Python313\\Lib\\site-packages\\langchain_openai\\chat_models\\base.py:955\u001b[39m, in \u001b[36mBaseChatOpenAI._generate\u001b[39m\u001b[34m(self, messages, stop, run_manager, **kwargs)\u001b[39m\n\u001b[32m    953\u001b[39m     generation_info = {\u001b[33m\"\u001b[39m\u001b[33mheaders\u001b[39m\u001b[33m\"\u001b[39m: \u001b[38;5;28mdict\u001b[39m(raw_response.headers)}\n\u001b[32m    954\u001b[39m \u001b[38;5;28;01melse\u001b[39;00m:\n\u001b[32m--> \u001b[39m\u001b[32m955\u001b[39m     response = \u001b[38;5;28;43mself\u001b[39;49m\u001b[43m.\u001b[49m\u001b[43mclient\u001b[49m\u001b[43m.\u001b[49m\u001b[43mcreate\u001b[49m\u001b[43m(\u001b[49m\u001b[43m*\u001b[49m\u001b[43m*\u001b[49m\u001b[43mpayload\u001b[49m\u001b[43m)\u001b[49m\n\u001b[32m    956\u001b[39m \u001b[38;5;28;01mreturn\u001b[39;00m \u001b[38;5;28mself\u001b[39m._create_chat_result(response, generation_info)\n",
      "\u001b[36mFile \u001b[39m\u001b[32mc:\\Users\\fuhrmannd\\AppData\\Local\\Programs\\Python\\Python313\\Lib\\site-packages\\openai\\_utils\\_utils.py:287\u001b[39m, in \u001b[36mrequired_args.<locals>.inner.<locals>.wrapper\u001b[39m\u001b[34m(*args, **kwargs)\u001b[39m\n\u001b[32m    285\u001b[39m             msg = \u001b[33mf\u001b[39m\u001b[33m\"\u001b[39m\u001b[33mMissing required argument: \u001b[39m\u001b[38;5;132;01m{\u001b[39;00mquote(missing[\u001b[32m0\u001b[39m])\u001b[38;5;132;01m}\u001b[39;00m\u001b[33m\"\u001b[39m\n\u001b[32m    286\u001b[39m     \u001b[38;5;28;01mraise\u001b[39;00m \u001b[38;5;167;01mTypeError\u001b[39;00m(msg)\n\u001b[32m--> \u001b[39m\u001b[32m287\u001b[39m \u001b[38;5;28;01mreturn\u001b[39;00m \u001b[43mfunc\u001b[49m\u001b[43m(\u001b[49m\u001b[43m*\u001b[49m\u001b[43margs\u001b[49m\u001b[43m,\u001b[49m\u001b[43m \u001b[49m\u001b[43m*\u001b[49m\u001b[43m*\u001b[49m\u001b[43mkwargs\u001b[49m\u001b[43m)\u001b[49m\n",
      "\u001b[36mFile \u001b[39m\u001b[32mc:\\Users\\fuhrmannd\\AppData\\Local\\Programs\\Python\\Python313\\Lib\\site-packages\\openai\\resources\\chat\\completions\\completions.py:925\u001b[39m, in \u001b[36mCompletions.create\u001b[39m\u001b[34m(self, messages, model, audio, frequency_penalty, function_call, functions, logit_bias, logprobs, max_completion_tokens, max_tokens, metadata, modalities, n, parallel_tool_calls, prediction, presence_penalty, reasoning_effort, response_format, seed, service_tier, stop, store, stream, stream_options, temperature, tool_choice, tools, top_logprobs, top_p, user, web_search_options, extra_headers, extra_query, extra_body, timeout)\u001b[39m\n\u001b[32m    882\u001b[39m \u001b[38;5;129m@required_args\u001b[39m([\u001b[33m\"\u001b[39m\u001b[33mmessages\u001b[39m\u001b[33m\"\u001b[39m, \u001b[33m\"\u001b[39m\u001b[33mmodel\u001b[39m\u001b[33m\"\u001b[39m], [\u001b[33m\"\u001b[39m\u001b[33mmessages\u001b[39m\u001b[33m\"\u001b[39m, \u001b[33m\"\u001b[39m\u001b[33mmodel\u001b[39m\u001b[33m\"\u001b[39m, \u001b[33m\"\u001b[39m\u001b[33mstream\u001b[39m\u001b[33m\"\u001b[39m])\n\u001b[32m    883\u001b[39m \u001b[38;5;28;01mdef\u001b[39;00m\u001b[38;5;250m \u001b[39m\u001b[34mcreate\u001b[39m(\n\u001b[32m    884\u001b[39m     \u001b[38;5;28mself\u001b[39m,\n\u001b[32m   (...)\u001b[39m\u001b[32m    922\u001b[39m     timeout: \u001b[38;5;28mfloat\u001b[39m | httpx.Timeout | \u001b[38;5;28;01mNone\u001b[39;00m | NotGiven = NOT_GIVEN,\n\u001b[32m    923\u001b[39m ) -> ChatCompletion | Stream[ChatCompletionChunk]:\n\u001b[32m    924\u001b[39m     validate_response_format(response_format)\n\u001b[32m--> \u001b[39m\u001b[32m925\u001b[39m     \u001b[38;5;28;01mreturn\u001b[39;00m \u001b[38;5;28;43mself\u001b[39;49m\u001b[43m.\u001b[49m\u001b[43m_post\u001b[49m\u001b[43m(\u001b[49m\n\u001b[32m    926\u001b[39m \u001b[43m        \u001b[49m\u001b[33;43m\"\u001b[39;49m\u001b[33;43m/chat/completions\u001b[39;49m\u001b[33;43m\"\u001b[39;49m\u001b[43m,\u001b[49m\n\u001b[32m    927\u001b[39m \u001b[43m        \u001b[49m\u001b[43mbody\u001b[49m\u001b[43m=\u001b[49m\u001b[43mmaybe_transform\u001b[49m\u001b[43m(\u001b[49m\n\u001b[32m    928\u001b[39m \u001b[43m            \u001b[49m\u001b[43m{\u001b[49m\n\u001b[32m    929\u001b[39m \u001b[43m                \u001b[49m\u001b[33;43m\"\u001b[39;49m\u001b[33;43mmessages\u001b[39;49m\u001b[33;43m\"\u001b[39;49m\u001b[43m:\u001b[49m\u001b[43m \u001b[49m\u001b[43mmessages\u001b[49m\u001b[43m,\u001b[49m\n\u001b[32m    930\u001b[39m \u001b[43m                \u001b[49m\u001b[33;43m\"\u001b[39;49m\u001b[33;43mmodel\u001b[39;49m\u001b[33;43m\"\u001b[39;49m\u001b[43m:\u001b[49m\u001b[43m \u001b[49m\u001b[43mmodel\u001b[49m\u001b[43m,\u001b[49m\n\u001b[32m    931\u001b[39m \u001b[43m                \u001b[49m\u001b[33;43m\"\u001b[39;49m\u001b[33;43maudio\u001b[39;49m\u001b[33;43m\"\u001b[39;49m\u001b[43m:\u001b[49m\u001b[43m \u001b[49m\u001b[43maudio\u001b[49m\u001b[43m,\u001b[49m\n\u001b[32m    932\u001b[39m \u001b[43m                \u001b[49m\u001b[33;43m\"\u001b[39;49m\u001b[33;43mfrequency_penalty\u001b[39;49m\u001b[33;43m\"\u001b[39;49m\u001b[43m:\u001b[49m\u001b[43m \u001b[49m\u001b[43mfrequency_penalty\u001b[49m\u001b[43m,\u001b[49m\n\u001b[32m    933\u001b[39m \u001b[43m                \u001b[49m\u001b[33;43m\"\u001b[39;49m\u001b[33;43mfunction_call\u001b[39;49m\u001b[33;43m\"\u001b[39;49m\u001b[43m:\u001b[49m\u001b[43m \u001b[49m\u001b[43mfunction_call\u001b[49m\u001b[43m,\u001b[49m\n\u001b[32m    934\u001b[39m \u001b[43m                \u001b[49m\u001b[33;43m\"\u001b[39;49m\u001b[33;43mfunctions\u001b[39;49m\u001b[33;43m\"\u001b[39;49m\u001b[43m:\u001b[49m\u001b[43m \u001b[49m\u001b[43mfunctions\u001b[49m\u001b[43m,\u001b[49m\n\u001b[32m    935\u001b[39m \u001b[43m                \u001b[49m\u001b[33;43m\"\u001b[39;49m\u001b[33;43mlogit_bias\u001b[39;49m\u001b[33;43m\"\u001b[39;49m\u001b[43m:\u001b[49m\u001b[43m \u001b[49m\u001b[43mlogit_bias\u001b[49m\u001b[43m,\u001b[49m\n\u001b[32m    936\u001b[39m \u001b[43m                \u001b[49m\u001b[33;43m\"\u001b[39;49m\u001b[33;43mlogprobs\u001b[39;49m\u001b[33;43m\"\u001b[39;49m\u001b[43m:\u001b[49m\u001b[43m \u001b[49m\u001b[43mlogprobs\u001b[49m\u001b[43m,\u001b[49m\n\u001b[32m    937\u001b[39m \u001b[43m                \u001b[49m\u001b[33;43m\"\u001b[39;49m\u001b[33;43mmax_completion_tokens\u001b[39;49m\u001b[33;43m\"\u001b[39;49m\u001b[43m:\u001b[49m\u001b[43m \u001b[49m\u001b[43mmax_completion_tokens\u001b[49m\u001b[43m,\u001b[49m\n\u001b[32m    938\u001b[39m \u001b[43m                \u001b[49m\u001b[33;43m\"\u001b[39;49m\u001b[33;43mmax_tokens\u001b[39;49m\u001b[33;43m\"\u001b[39;49m\u001b[43m:\u001b[49m\u001b[43m \u001b[49m\u001b[43mmax_tokens\u001b[49m\u001b[43m,\u001b[49m\n\u001b[32m    939\u001b[39m \u001b[43m                \u001b[49m\u001b[33;43m\"\u001b[39;49m\u001b[33;43mmetadata\u001b[39;49m\u001b[33;43m\"\u001b[39;49m\u001b[43m:\u001b[49m\u001b[43m \u001b[49m\u001b[43mmetadata\u001b[49m\u001b[43m,\u001b[49m\n\u001b[32m    940\u001b[39m \u001b[43m                \u001b[49m\u001b[33;43m\"\u001b[39;49m\u001b[33;43mmodalities\u001b[39;49m\u001b[33;43m\"\u001b[39;49m\u001b[43m:\u001b[49m\u001b[43m \u001b[49m\u001b[43mmodalities\u001b[49m\u001b[43m,\u001b[49m\n\u001b[32m    941\u001b[39m \u001b[43m                \u001b[49m\u001b[33;43m\"\u001b[39;49m\u001b[33;43mn\u001b[39;49m\u001b[33;43m\"\u001b[39;49m\u001b[43m:\u001b[49m\u001b[43m \u001b[49m\u001b[43mn\u001b[49m\u001b[43m,\u001b[49m\n\u001b[32m    942\u001b[39m \u001b[43m                \u001b[49m\u001b[33;43m\"\u001b[39;49m\u001b[33;43mparallel_tool_calls\u001b[39;49m\u001b[33;43m\"\u001b[39;49m\u001b[43m:\u001b[49m\u001b[43m \u001b[49m\u001b[43mparallel_tool_calls\u001b[49m\u001b[43m,\u001b[49m\n\u001b[32m    943\u001b[39m \u001b[43m                \u001b[49m\u001b[33;43m\"\u001b[39;49m\u001b[33;43mprediction\u001b[39;49m\u001b[33;43m\"\u001b[39;49m\u001b[43m:\u001b[49m\u001b[43m \u001b[49m\u001b[43mprediction\u001b[49m\u001b[43m,\u001b[49m\n\u001b[32m    944\u001b[39m \u001b[43m                \u001b[49m\u001b[33;43m\"\u001b[39;49m\u001b[33;43mpresence_penalty\u001b[39;49m\u001b[33;43m\"\u001b[39;49m\u001b[43m:\u001b[49m\u001b[43m \u001b[49m\u001b[43mpresence_penalty\u001b[49m\u001b[43m,\u001b[49m\n\u001b[32m    945\u001b[39m \u001b[43m                \u001b[49m\u001b[33;43m\"\u001b[39;49m\u001b[33;43mreasoning_effort\u001b[39;49m\u001b[33;43m\"\u001b[39;49m\u001b[43m:\u001b[49m\u001b[43m \u001b[49m\u001b[43mreasoning_effort\u001b[49m\u001b[43m,\u001b[49m\n\u001b[32m    946\u001b[39m \u001b[43m                \u001b[49m\u001b[33;43m\"\u001b[39;49m\u001b[33;43mresponse_format\u001b[39;49m\u001b[33;43m\"\u001b[39;49m\u001b[43m:\u001b[49m\u001b[43m \u001b[49m\u001b[43mresponse_format\u001b[49m\u001b[43m,\u001b[49m\n\u001b[32m    947\u001b[39m \u001b[43m                \u001b[49m\u001b[33;43m\"\u001b[39;49m\u001b[33;43mseed\u001b[39;49m\u001b[33;43m\"\u001b[39;49m\u001b[43m:\u001b[49m\u001b[43m \u001b[49m\u001b[43mseed\u001b[49m\u001b[43m,\u001b[49m\n\u001b[32m    948\u001b[39m \u001b[43m                \u001b[49m\u001b[33;43m\"\u001b[39;49m\u001b[33;43mservice_tier\u001b[39;49m\u001b[33;43m\"\u001b[39;49m\u001b[43m:\u001b[49m\u001b[43m \u001b[49m\u001b[43mservice_tier\u001b[49m\u001b[43m,\u001b[49m\n\u001b[32m    949\u001b[39m \u001b[43m                \u001b[49m\u001b[33;43m\"\u001b[39;49m\u001b[33;43mstop\u001b[39;49m\u001b[33;43m\"\u001b[39;49m\u001b[43m:\u001b[49m\u001b[43m \u001b[49m\u001b[43mstop\u001b[49m\u001b[43m,\u001b[49m\n\u001b[32m    950\u001b[39m \u001b[43m                \u001b[49m\u001b[33;43m\"\u001b[39;49m\u001b[33;43mstore\u001b[39;49m\u001b[33;43m\"\u001b[39;49m\u001b[43m:\u001b[49m\u001b[43m \u001b[49m\u001b[43mstore\u001b[49m\u001b[43m,\u001b[49m\n\u001b[32m    951\u001b[39m \u001b[43m                \u001b[49m\u001b[33;43m\"\u001b[39;49m\u001b[33;43mstream\u001b[39;49m\u001b[33;43m\"\u001b[39;49m\u001b[43m:\u001b[49m\u001b[43m \u001b[49m\u001b[43mstream\u001b[49m\u001b[43m,\u001b[49m\n\u001b[32m    952\u001b[39m \u001b[43m                \u001b[49m\u001b[33;43m\"\u001b[39;49m\u001b[33;43mstream_options\u001b[39;49m\u001b[33;43m\"\u001b[39;49m\u001b[43m:\u001b[49m\u001b[43m \u001b[49m\u001b[43mstream_options\u001b[49m\u001b[43m,\u001b[49m\n\u001b[32m    953\u001b[39m \u001b[43m                \u001b[49m\u001b[33;43m\"\u001b[39;49m\u001b[33;43mtemperature\u001b[39;49m\u001b[33;43m\"\u001b[39;49m\u001b[43m:\u001b[49m\u001b[43m \u001b[49m\u001b[43mtemperature\u001b[49m\u001b[43m,\u001b[49m\n\u001b[32m    954\u001b[39m \u001b[43m                \u001b[49m\u001b[33;43m\"\u001b[39;49m\u001b[33;43mtool_choice\u001b[39;49m\u001b[33;43m\"\u001b[39;49m\u001b[43m:\u001b[49m\u001b[43m \u001b[49m\u001b[43mtool_choice\u001b[49m\u001b[43m,\u001b[49m\n\u001b[32m    955\u001b[39m \u001b[43m                \u001b[49m\u001b[33;43m\"\u001b[39;49m\u001b[33;43mtools\u001b[39;49m\u001b[33;43m\"\u001b[39;49m\u001b[43m:\u001b[49m\u001b[43m \u001b[49m\u001b[43mtools\u001b[49m\u001b[43m,\u001b[49m\n\u001b[32m    956\u001b[39m \u001b[43m                \u001b[49m\u001b[33;43m\"\u001b[39;49m\u001b[33;43mtop_logprobs\u001b[39;49m\u001b[33;43m\"\u001b[39;49m\u001b[43m:\u001b[49m\u001b[43m \u001b[49m\u001b[43mtop_logprobs\u001b[49m\u001b[43m,\u001b[49m\n\u001b[32m    957\u001b[39m \u001b[43m                \u001b[49m\u001b[33;43m\"\u001b[39;49m\u001b[33;43mtop_p\u001b[39;49m\u001b[33;43m\"\u001b[39;49m\u001b[43m:\u001b[49m\u001b[43m \u001b[49m\u001b[43mtop_p\u001b[49m\u001b[43m,\u001b[49m\n\u001b[32m    958\u001b[39m \u001b[43m                \u001b[49m\u001b[33;43m\"\u001b[39;49m\u001b[33;43muser\u001b[39;49m\u001b[33;43m\"\u001b[39;49m\u001b[43m:\u001b[49m\u001b[43m \u001b[49m\u001b[43muser\u001b[49m\u001b[43m,\u001b[49m\n\u001b[32m    959\u001b[39m \u001b[43m                \u001b[49m\u001b[33;43m\"\u001b[39;49m\u001b[33;43mweb_search_options\u001b[39;49m\u001b[33;43m\"\u001b[39;49m\u001b[43m:\u001b[49m\u001b[43m \u001b[49m\u001b[43mweb_search_options\u001b[49m\u001b[43m,\u001b[49m\n\u001b[32m    960\u001b[39m \u001b[43m            \u001b[49m\u001b[43m}\u001b[49m\u001b[43m,\u001b[49m\n\u001b[32m    961\u001b[39m \u001b[43m            \u001b[49m\u001b[43mcompletion_create_params\u001b[49m\u001b[43m.\u001b[49m\u001b[43mCompletionCreateParamsStreaming\u001b[49m\n\u001b[32m    962\u001b[39m \u001b[43m            \u001b[49m\u001b[38;5;28;43;01mif\u001b[39;49;00m\u001b[43m \u001b[49m\u001b[43mstream\u001b[49m\n\u001b[32m    963\u001b[39m \u001b[43m            \u001b[49m\u001b[38;5;28;43;01melse\u001b[39;49;00m\u001b[43m \u001b[49m\u001b[43mcompletion_create_params\u001b[49m\u001b[43m.\u001b[49m\u001b[43mCompletionCreateParamsNonStreaming\u001b[49m\u001b[43m,\u001b[49m\n\u001b[32m    964\u001b[39m \u001b[43m        \u001b[49m\u001b[43m)\u001b[49m\u001b[43m,\u001b[49m\n\u001b[32m    965\u001b[39m \u001b[43m        \u001b[49m\u001b[43moptions\u001b[49m\u001b[43m=\u001b[49m\u001b[43mmake_request_options\u001b[49m\u001b[43m(\u001b[49m\n\u001b[32m    966\u001b[39m \u001b[43m            \u001b[49m\u001b[43mextra_headers\u001b[49m\u001b[43m=\u001b[49m\u001b[43mextra_headers\u001b[49m\u001b[43m,\u001b[49m\u001b[43m \u001b[49m\u001b[43mextra_query\u001b[49m\u001b[43m=\u001b[49m\u001b[43mextra_query\u001b[49m\u001b[43m,\u001b[49m\u001b[43m \u001b[49m\u001b[43mextra_body\u001b[49m\u001b[43m=\u001b[49m\u001b[43mextra_body\u001b[49m\u001b[43m,\u001b[49m\u001b[43m \u001b[49m\u001b[43mtimeout\u001b[49m\u001b[43m=\u001b[49m\u001b[43mtimeout\u001b[49m\n\u001b[32m    967\u001b[39m \u001b[43m        \u001b[49m\u001b[43m)\u001b[49m\u001b[43m,\u001b[49m\n\u001b[32m    968\u001b[39m \u001b[43m        \u001b[49m\u001b[43mcast_to\u001b[49m\u001b[43m=\u001b[49m\u001b[43mChatCompletion\u001b[49m\u001b[43m,\u001b[49m\n\u001b[32m    969\u001b[39m \u001b[43m        \u001b[49m\u001b[43mstream\u001b[49m\u001b[43m=\u001b[49m\u001b[43mstream\u001b[49m\u001b[43m \u001b[49m\u001b[38;5;129;43;01mor\u001b[39;49;00m\u001b[43m \u001b[49m\u001b[38;5;28;43;01mFalse\u001b[39;49;00m\u001b[43m,\u001b[49m\n\u001b[32m    970\u001b[39m \u001b[43m        \u001b[49m\u001b[43mstream_cls\u001b[49m\u001b[43m=\u001b[49m\u001b[43mStream\u001b[49m\u001b[43m[\u001b[49m\u001b[43mChatCompletionChunk\u001b[49m\u001b[43m]\u001b[49m\u001b[43m,\u001b[49m\n\u001b[32m    971\u001b[39m \u001b[43m    \u001b[49m\u001b[43m)\u001b[49m\n",
      "\u001b[36mFile \u001b[39m\u001b[32mc:\\Users\\fuhrmannd\\AppData\\Local\\Programs\\Python\\Python313\\Lib\\site-packages\\openai\\_base_client.py:1239\u001b[39m, in \u001b[36mSyncAPIClient.post\u001b[39m\u001b[34m(self, path, cast_to, body, options, files, stream, stream_cls)\u001b[39m\n\u001b[32m   1225\u001b[39m \u001b[38;5;28;01mdef\u001b[39;00m\u001b[38;5;250m \u001b[39m\u001b[34mpost\u001b[39m(\n\u001b[32m   1226\u001b[39m     \u001b[38;5;28mself\u001b[39m,\n\u001b[32m   1227\u001b[39m     path: \u001b[38;5;28mstr\u001b[39m,\n\u001b[32m   (...)\u001b[39m\u001b[32m   1234\u001b[39m     stream_cls: \u001b[38;5;28mtype\u001b[39m[_StreamT] | \u001b[38;5;28;01mNone\u001b[39;00m = \u001b[38;5;28;01mNone\u001b[39;00m,\n\u001b[32m   1235\u001b[39m ) -> ResponseT | _StreamT:\n\u001b[32m   1236\u001b[39m     opts = FinalRequestOptions.construct(\n\u001b[32m   1237\u001b[39m         method=\u001b[33m\"\u001b[39m\u001b[33mpost\u001b[39m\u001b[33m\"\u001b[39m, url=path, json_data=body, files=to_httpx_files(files), **options\n\u001b[32m   1238\u001b[39m     )\n\u001b[32m-> \u001b[39m\u001b[32m1239\u001b[39m     \u001b[38;5;28;01mreturn\u001b[39;00m cast(ResponseT, \u001b[38;5;28;43mself\u001b[39;49m\u001b[43m.\u001b[49m\u001b[43mrequest\u001b[49m\u001b[43m(\u001b[49m\u001b[43mcast_to\u001b[49m\u001b[43m,\u001b[49m\u001b[43m \u001b[49m\u001b[43mopts\u001b[49m\u001b[43m,\u001b[49m\u001b[43m \u001b[49m\u001b[43mstream\u001b[49m\u001b[43m=\u001b[49m\u001b[43mstream\u001b[49m\u001b[43m,\u001b[49m\u001b[43m \u001b[49m\u001b[43mstream_cls\u001b[49m\u001b[43m=\u001b[49m\u001b[43mstream_cls\u001b[49m\u001b[43m)\u001b[49m)\n",
      "\u001b[36mFile \u001b[39m\u001b[32mc:\\Users\\fuhrmannd\\AppData\\Local\\Programs\\Python\\Python313\\Lib\\site-packages\\openai\\_base_client.py:1001\u001b[39m, in \u001b[36mSyncAPIClient.request\u001b[39m\u001b[34m(self, cast_to, options, stream, stream_cls)\u001b[39m\n\u001b[32m    998\u001b[39m         \u001b[38;5;28;01mcontinue\u001b[39;00m\n\u001b[32m   1000\u001b[39m     log.debug(\u001b[33m\"\u001b[39m\u001b[33mRaising connection error\u001b[39m\u001b[33m\"\u001b[39m)\n\u001b[32m-> \u001b[39m\u001b[32m1001\u001b[39m     \u001b[38;5;28;01mraise\u001b[39;00m APIConnectionError(request=request) \u001b[38;5;28;01mfrom\u001b[39;00m\u001b[38;5;250m \u001b[39m\u001b[34;01merr\u001b[39;00m\n\u001b[32m   1003\u001b[39m log.debug(\n\u001b[32m   1004\u001b[39m     \u001b[33m'\u001b[39m\u001b[33mHTTP Response: \u001b[39m\u001b[38;5;132;01m%s\u001b[39;00m\u001b[33m \u001b[39m\u001b[38;5;132;01m%s\u001b[39;00m\u001b[33m \u001b[39m\u001b[33m\"\u001b[39m\u001b[38;5;132;01m%i\u001b[39;00m\u001b[33m \u001b[39m\u001b[38;5;132;01m%s\u001b[39;00m\u001b[33m\"\u001b[39m\u001b[33m \u001b[39m\u001b[38;5;132;01m%s\u001b[39;00m\u001b[33m'\u001b[39m,\n\u001b[32m   1005\u001b[39m     request.method,\n\u001b[32m   (...)\u001b[39m\u001b[32m   1009\u001b[39m     response.headers,\n\u001b[32m   1010\u001b[39m )\n\u001b[32m   1011\u001b[39m log.debug(\u001b[33m\"\u001b[39m\u001b[33mrequest_id: \u001b[39m\u001b[38;5;132;01m%s\u001b[39;00m\u001b[33m\"\u001b[39m, response.headers.get(\u001b[33m\"\u001b[39m\u001b[33mx-request-id\u001b[39m\u001b[33m\"\u001b[39m))\n",
      "\u001b[31mAPIConnectionError\u001b[39m: Connection error."
     ]
    }
   ],
   "source": [
    "query = \"What parking options are available?\"\n",
    "result = qa_chain.invoke(query)\n",
    "print(result)"
   ]
  },
  {
   "cell_type": "code",
   "execution_count": null,
   "id": "d2d5eb88",
   "metadata": {},
   "outputs": [
    {
     "data": {
      "text/plain": [
       "{'query': 'What parking options are available?',\n",
       " 'result': 'At the new location, there are 168 parking spaces available, including 46 equipped with E-charging stations. You can specify whether you need a standard parking space, an E-parking space, or a disabled parking space when making a reservation. \\n\\nParking can be easily booked through a central parking app with just one click, and you will receive immediate confirmation. You can reserve a spot for a maximum of 5 days at a time. On the day of your booking, you can access the underground garage using your general access card. \\n\\nAdditionally, the app features an in-app navigation map to help you find your designated parking space easily. At the end of the month, the usage of the parking space will be automatically billed. For customers, there are also 10 designated parking spaces available. If you enter the underground garage without a reservation, you can book a spot spontaneously via the app, but unauthorized vehicles may be subject to towing. Access to the garage is granted through the app or a staff access card.',\n",
       " 'source_documents': [Document(id='77f3b202-ba4b-4788-825a-6f11fc2ee780', metadata={'producer': 'PyPDF', 'creator': 'PyPDF', 'total_pages': 1, 'file_type': '.pdf', 'source': 'W:\\\\T1368-WAM AI\\\\03 Projects\\\\02 AI Projects\\\\01 Berenberg AI Assistant (BAIA)\\\\15 newHQ data\\\\_new\\\\Confluence New HQ\\\\20252807_CONFLUENCE_Parken.pdf', 'page': 0, 'subdirectory': 'Confluence New HQ', 'creationdate': '', 'page_label': '1'}, page_content='10) Parken & Mobilität\\nParken & Mobilität\\nParken & Mobilität\\nParkplatzbuchung\\nFahrrad\\nParkplatzbuchung\\nFrage Antwort\\n1 Welche Parkmöglichkeiten gibt es am \\nneuen Standort?\\nAm Standort gibt es 168 Pakplätze, davon 72 mit E-Ladesäulen. Sowie 157 Indoor-\\nFahrradstellplätze, 12 davon mit E-Ladesäule.\\n2 Wieviele Kundenparkplätze stehen zur \\nVerfügung?\\nInsgesamt gibt es 10 Kundenparkplätze.\\n3 Wie kann ich einen Parkplatz buchen?Die Buchung erfolgt über eine zentrale Park-App.\\n4 Kann ich mehrere Kennzeichen in der \\nApp hinterlegen?\\nJa, in der App können mehrere Kennzeichen hinterlegt werden.\\n5 Was passiert, wenn ich ohne Buchung in \\ndie Tiefgarage fahre?\\nWer ohne Buchung in die Tiefgarage fährt, kann sich spontan einen Parkplatz in der App \\nbuchen. Ansonsten wird kostenpflichtig abgeschleppt.\\n6 Wie komme ich in die Tiefgarage? Der Zutritt erfolgt entweder mit der App oder der Mitarbeiter-Zutrittskarte.\\n\\xa0Fahrrad\\nFrage Antwort\\n1 Wann kann ich mein Fahrrad im Gebäude abstellen \\noder abholen?'),\n",
       "  Document(id='6d75f9e3-3594-4c9e-8d1a-e31178ccbdaf', metadata={'producer': 'PyPDF', 'creationdate': '', 'page_label': '1', 'creator': 'PyPDF', 'file_type': '.pdf', 'subdirectory': 'Confluence New HQ', 'source': 'W:\\\\T1368-WAM AI\\\\03 Projects\\\\02 AI Projects\\\\01 Berenberg AI Assistant (BAIA)\\\\15 newHQ data\\\\_new\\\\Confluence New HQ\\\\20252807_CONFLUENCE_Parken.pdf', 'page': 0, 'total_pages': 1}, page_content='10) Parken & Mobilität\\nParken & Mobilität\\nParken & Mobilität\\nParkplatzbuchung\\nFahrrad\\nParkplatzbuchung\\nFrage Antwort\\n1 Welche Parkmöglichkeiten gibt es am \\nneuen Standort?\\nAm Standort gibt es 168 Pakplätze, davon 72 mit E-Ladesäulen. Sowie 157 Indoor-\\nFahrradstellplätze, 12 davon mit E-Ladesäule.\\n2 Wieviele Kundenparkplätze stehen zur \\nVerfügung?\\nInsgesamt gibt es 10 Kundenparkplätze.\\n3 Wie kann ich einen Parkplatz buchen?Die Buchung erfolgt über eine zentrale Park-App.\\n4 Kann ich mehrere Kennzeichen in der \\nApp hinterlegen?\\nJa, in der App können mehrere Kennzeichen hinterlegt werden.\\n5 Was passiert, wenn ich ohne Buchung in \\ndie Tiefgarage fahre?\\nWer ohne Buchung in die Tiefgarage fährt, kann sich spontan einen Parkplatz in der App \\nbuchen. Ansonsten wird kostenpflichtig abgeschleppt.\\n6 Wie komme ich in die Tiefgarage? Der Zutritt erfolgt entweder mit der App oder der Mitarbeiter-Zutrittskarte.\\n\\xa0Fahrrad\\nFrage Antwort\\n1 Wann kann ich mein Fahrrad im Gebäude abstellen \\noder abholen?'),\n",
       "  Document(id='80912238-f168-46e3-8b0f-c4782f9d83cb', metadata={'creationdate': '2025-07-23T17:51:58+02:00', 'producer': 'Adobe PDF Library 17.0', 'file_type': '.pdf', 'page': 0, 'creator': 'Adobe InDesign 19.4 (Windows)', 'source': 'W:\\\\T1368-WAM AI\\\\03 Projects\\\\02 AI Projects\\\\01 Berenberg AI Assistant (BAIA)\\\\15 newHQ data\\\\_new\\\\Newsletter\\\\20240901_NEWSLETTER_Parken.pdf', 'page_label': '1', 'moddate': '2025-07-23T17:51:58+02:00', 'total_pages': 2, 'subdirectory': 'Newsletter'}, page_content='5.  Sie können ebenfalls hinterlegen ob Sie einen\\n     Standard-Stellplatz, einen E-Stellplatz oder \\n     einen Behindertenstellplatz brauchen. \\n6.  Die Reservierung ist mit nur einem Klick in \\n     der App möglich, Sie erhalten sofort die \\n      Bestätigung!\\n7.   Sie können maximal 5 Tage auf \\n      einmal buchen.\\n8.   Am Buchungstag fahren Sie mit\\n      Ihrem Auto in die Tiefgarage und\\n     der Zugang erfolgt über Ihre all-\\n      gemeine Zutrittskarte.\\n9.   Es gibt eine In-App-Navigations-\\n      karte, die das Finden des Stell-\\n      platzes erleichtert.\\n10. Ende des Monats erfolgt die\\n      automatische Abrechnung \\n      der Stellplatznutzung.\\n168\\nPARKPLÄTZE - davon\\n46 PARKPLÄTZE - mit E-Ladesäule\\nParken im neuen Gebäude')]}"
      ]
     },
     "execution_count": 12,
     "metadata": {},
     "output_type": "execute_result"
    }
   ],
   "source": [
    "result"
   ]
  },
  {
   "cell_type": "code",
   "execution_count": null,
   "id": "356033c1",
   "metadata": {},
   "outputs": [
    {
     "name": "stdout",
     "output_type": "stream",
     "text": [
      "{'query': 'What parking options are available?', 'result': 'At the new location, there are a total of 168 parking spaces, of which 72 are equipped with E-charging stations. Additionally, there are 157 indoor bicycle parking spaces, with 12 of those also having E-charging stations.', 'source_documents': [Document(id='77f3b202-ba4b-4788-825a-6f11fc2ee780', metadata={'creator': 'PyPDF', 'producer': 'PyPDF', 'page': 0, 'subdirectory': 'Confluence New HQ', 'creationdate': '', 'total_pages': 1, 'page_label': '1', 'file_type': '.pdf', 'source': 'W:\\\\T1368-WAM AI\\\\03 Projects\\\\02 AI Projects\\\\01 Berenberg AI Assistant (BAIA)\\\\15 newHQ data\\\\_new\\\\Confluence New HQ\\\\20252807_CONFLUENCE_Parken.pdf'}, page_content='10) Parken & Mobilität\\nParken & Mobilität\\nParken & Mobilität\\nParkplatzbuchung\\nFahrrad\\nParkplatzbuchung\\nFrage Antwort\\n1 Welche Parkmöglichkeiten gibt es am \\nneuen Standort?\\nAm Standort gibt es 168 Pakplätze, davon 72 mit E-Ladesäulen. Sowie 157 Indoor-\\nFahrradstellplätze, 12 davon mit E-Ladesäule.\\n2 Wieviele Kundenparkplätze stehen zur \\nVerfügung?\\nInsgesamt gibt es 10 Kundenparkplätze.\\n3 Wie kann ich einen Parkplatz buchen?Die Buchung erfolgt über eine zentrale Park-App.\\n4 Kann ich mehrere Kennzeichen in der \\nApp hinterlegen?\\nJa, in der App können mehrere Kennzeichen hinterlegt werden.\\n5 Was passiert, wenn ich ohne Buchung in \\ndie Tiefgarage fahre?\\nWer ohne Buchung in die Tiefgarage fährt, kann sich spontan einen Parkplatz in der App \\nbuchen. Ansonsten wird kostenpflichtig abgeschleppt.\\n6 Wie komme ich in die Tiefgarage? Der Zutritt erfolgt entweder mit der App oder der Mitarbeiter-Zutrittskarte.\\n\\xa0Fahrrad\\nFrage Antwort\\n1 Wann kann ich mein Fahrrad im Gebäude abstellen \\noder abholen?'), Document(id='6d75f9e3-3594-4c9e-8d1a-e31178ccbdaf', metadata={'file_type': '.pdf', 'total_pages': 1, 'producer': 'PyPDF', 'page': 0, 'creationdate': '', 'creator': 'PyPDF', 'source': 'W:\\\\T1368-WAM AI\\\\03 Projects\\\\02 AI Projects\\\\01 Berenberg AI Assistant (BAIA)\\\\15 newHQ data\\\\_new\\\\Confluence New HQ\\\\20252807_CONFLUENCE_Parken.pdf', 'page_label': '1', 'subdirectory': 'Confluence New HQ'}, page_content='10) Parken & Mobilität\\nParken & Mobilität\\nParken & Mobilität\\nParkplatzbuchung\\nFahrrad\\nParkplatzbuchung\\nFrage Antwort\\n1 Welche Parkmöglichkeiten gibt es am \\nneuen Standort?\\nAm Standort gibt es 168 Pakplätze, davon 72 mit E-Ladesäulen. Sowie 157 Indoor-\\nFahrradstellplätze, 12 davon mit E-Ladesäule.\\n2 Wieviele Kundenparkplätze stehen zur \\nVerfügung?\\nInsgesamt gibt es 10 Kundenparkplätze.\\n3 Wie kann ich einen Parkplatz buchen?Die Buchung erfolgt über eine zentrale Park-App.\\n4 Kann ich mehrere Kennzeichen in der \\nApp hinterlegen?\\nJa, in der App können mehrere Kennzeichen hinterlegt werden.\\n5 Was passiert, wenn ich ohne Buchung in \\ndie Tiefgarage fahre?\\nWer ohne Buchung in die Tiefgarage fährt, kann sich spontan einen Parkplatz in der App \\nbuchen. Ansonsten wird kostenpflichtig abgeschleppt.\\n6 Wie komme ich in die Tiefgarage? Der Zutritt erfolgt entweder mit der App oder der Mitarbeiter-Zutrittskarte.\\n\\xa0Fahrrad\\nFrage Antwort\\n1 Wann kann ich mein Fahrrad im Gebäude abstellen \\noder abholen?'), Document(id='80912238-f168-46e3-8b0f-c4782f9d83cb', metadata={'source': 'W:\\\\T1368-WAM AI\\\\03 Projects\\\\02 AI Projects\\\\01 Berenberg AI Assistant (BAIA)\\\\15 newHQ data\\\\_new\\\\Newsletter\\\\20240901_NEWSLETTER_Parken.pdf', 'creationdate': '2025-07-23T17:51:58+02:00', 'page': 0, 'total_pages': 2, 'creator': 'Adobe InDesign 19.4 (Windows)', 'moddate': '2025-07-23T17:51:58+02:00', 'subdirectory': 'Newsletter', 'file_type': '.pdf', 'page_label': '1', 'producer': 'Adobe PDF Library 17.0'}, page_content='5.  Sie können ebenfalls hinterlegen ob Sie einen\\n     Standard-Stellplatz, einen E-Stellplatz oder \\n     einen Behindertenstellplatz brauchen. \\n6.  Die Reservierung ist mit nur einem Klick in \\n     der App möglich, Sie erhalten sofort die \\n      Bestätigung!\\n7.   Sie können maximal 5 Tage auf \\n      einmal buchen.\\n8.   Am Buchungstag fahren Sie mit\\n      Ihrem Auto in die Tiefgarage und\\n     der Zugang erfolgt über Ihre all-\\n      gemeine Zutrittskarte.\\n9.   Es gibt eine In-App-Navigations-\\n      karte, die das Finden des Stell-\\n      platzes erleichtert.\\n10. Ende des Monats erfolgt die\\n      automatische Abrechnung \\n      der Stellplatznutzung.\\n168\\nPARKPLÄTZE - davon\\n46 PARKPLÄTZE - mit E-Ladesäule\\nParken im neuen Gebäude')]}\n"
     ]
    }
   ],
   "source": [
    "from langchain_core.prompts import PromptTemplate\n",
    "\n",
    "custom_prompt_template = \"\"\"You are a Confluence chatbot answering questions. Use the following pieces of context to answer the question at the end. If you don't know the answer, say that you don't know, don't try to make up an answer.\n",
    "\n",
    "{context}\n",
    "\n",
    "Question: {question}\n",
    "Helpful Answer:\"\"\"\n",
    "CUSTOMPROMPT = PromptTemplate(\n",
    "    template=custom_prompt_template, input_variables=[\"context\", \"question\"]\n",
    ")\n",
    "\n",
    "qa_chain = RetrievalQA.from_chain_type(\n",
    "    llm=llm,\n",
    "    chain_type=\"stuff\",\n",
    "    retriever=retriever,\n",
    "    return_source_documents=True,\n",
    "    chain_type_kwargs={\"prompt\": CUSTOMPROMPT}\n",
    ")\n",
    "\n",
    "query = \"What parking options are available?\"\n",
    "result = qa_chain.invoke(query)\n",
    "print(result)"
   ]
  },
  {
   "cell_type": "code",
   "execution_count": null,
   "id": "2c287536",
   "metadata": {},
   "outputs": [
    {
     "data": {
      "text/plain": [
       "{'query': 'What parking options are available?',\n",
       " 'result': 'At the new location, there are a total of 168 parking spaces, of which 72 are equipped with E-charging stations. Additionally, there are 157 indoor bicycle parking spaces, with 12 of those also having E-charging stations.',\n",
       " 'source_documents': [Document(id='77f3b202-ba4b-4788-825a-6f11fc2ee780', metadata={'creator': 'PyPDF', 'producer': 'PyPDF', 'page': 0, 'subdirectory': 'Confluence New HQ', 'creationdate': '', 'total_pages': 1, 'page_label': '1', 'file_type': '.pdf', 'source': 'W:\\\\T1368-WAM AI\\\\03 Projects\\\\02 AI Projects\\\\01 Berenberg AI Assistant (BAIA)\\\\15 newHQ data\\\\_new\\\\Confluence New HQ\\\\20252807_CONFLUENCE_Parken.pdf'}, page_content='10) Parken & Mobilität\\nParken & Mobilität\\nParken & Mobilität\\nParkplatzbuchung\\nFahrrad\\nParkplatzbuchung\\nFrage Antwort\\n1 Welche Parkmöglichkeiten gibt es am \\nneuen Standort?\\nAm Standort gibt es 168 Pakplätze, davon 72 mit E-Ladesäulen. Sowie 157 Indoor-\\nFahrradstellplätze, 12 davon mit E-Ladesäule.\\n2 Wieviele Kundenparkplätze stehen zur \\nVerfügung?\\nInsgesamt gibt es 10 Kundenparkplätze.\\n3 Wie kann ich einen Parkplatz buchen?Die Buchung erfolgt über eine zentrale Park-App.\\n4 Kann ich mehrere Kennzeichen in der \\nApp hinterlegen?\\nJa, in der App können mehrere Kennzeichen hinterlegt werden.\\n5 Was passiert, wenn ich ohne Buchung in \\ndie Tiefgarage fahre?\\nWer ohne Buchung in die Tiefgarage fährt, kann sich spontan einen Parkplatz in der App \\nbuchen. Ansonsten wird kostenpflichtig abgeschleppt.\\n6 Wie komme ich in die Tiefgarage? Der Zutritt erfolgt entweder mit der App oder der Mitarbeiter-Zutrittskarte.\\n\\xa0Fahrrad\\nFrage Antwort\\n1 Wann kann ich mein Fahrrad im Gebäude abstellen \\noder abholen?'),\n",
       "  Document(id='6d75f9e3-3594-4c9e-8d1a-e31178ccbdaf', metadata={'file_type': '.pdf', 'total_pages': 1, 'producer': 'PyPDF', 'page': 0, 'creationdate': '', 'creator': 'PyPDF', 'source': 'W:\\\\T1368-WAM AI\\\\03 Projects\\\\02 AI Projects\\\\01 Berenberg AI Assistant (BAIA)\\\\15 newHQ data\\\\_new\\\\Confluence New HQ\\\\20252807_CONFLUENCE_Parken.pdf', 'page_label': '1', 'subdirectory': 'Confluence New HQ'}, page_content='10) Parken & Mobilität\\nParken & Mobilität\\nParken & Mobilität\\nParkplatzbuchung\\nFahrrad\\nParkplatzbuchung\\nFrage Antwort\\n1 Welche Parkmöglichkeiten gibt es am \\nneuen Standort?\\nAm Standort gibt es 168 Pakplätze, davon 72 mit E-Ladesäulen. Sowie 157 Indoor-\\nFahrradstellplätze, 12 davon mit E-Ladesäule.\\n2 Wieviele Kundenparkplätze stehen zur \\nVerfügung?\\nInsgesamt gibt es 10 Kundenparkplätze.\\n3 Wie kann ich einen Parkplatz buchen?Die Buchung erfolgt über eine zentrale Park-App.\\n4 Kann ich mehrere Kennzeichen in der \\nApp hinterlegen?\\nJa, in der App können mehrere Kennzeichen hinterlegt werden.\\n5 Was passiert, wenn ich ohne Buchung in \\ndie Tiefgarage fahre?\\nWer ohne Buchung in die Tiefgarage fährt, kann sich spontan einen Parkplatz in der App \\nbuchen. Ansonsten wird kostenpflichtig abgeschleppt.\\n6 Wie komme ich in die Tiefgarage? Der Zutritt erfolgt entweder mit der App oder der Mitarbeiter-Zutrittskarte.\\n\\xa0Fahrrad\\nFrage Antwort\\n1 Wann kann ich mein Fahrrad im Gebäude abstellen \\noder abholen?'),\n",
       "  Document(id='80912238-f168-46e3-8b0f-c4782f9d83cb', metadata={'source': 'W:\\\\T1368-WAM AI\\\\03 Projects\\\\02 AI Projects\\\\01 Berenberg AI Assistant (BAIA)\\\\15 newHQ data\\\\_new\\\\Newsletter\\\\20240901_NEWSLETTER_Parken.pdf', 'creationdate': '2025-07-23T17:51:58+02:00', 'page': 0, 'total_pages': 2, 'creator': 'Adobe InDesign 19.4 (Windows)', 'moddate': '2025-07-23T17:51:58+02:00', 'subdirectory': 'Newsletter', 'file_type': '.pdf', 'page_label': '1', 'producer': 'Adobe PDF Library 17.0'}, page_content='5.  Sie können ebenfalls hinterlegen ob Sie einen\\n     Standard-Stellplatz, einen E-Stellplatz oder \\n     einen Behindertenstellplatz brauchen. \\n6.  Die Reservierung ist mit nur einem Klick in \\n     der App möglich, Sie erhalten sofort die \\n      Bestätigung!\\n7.   Sie können maximal 5 Tage auf \\n      einmal buchen.\\n8.   Am Buchungstag fahren Sie mit\\n      Ihrem Auto in die Tiefgarage und\\n     der Zugang erfolgt über Ihre all-\\n      gemeine Zutrittskarte.\\n9.   Es gibt eine In-App-Navigations-\\n      karte, die das Finden des Stell-\\n      platzes erleichtert.\\n10. Ende des Monats erfolgt die\\n      automatische Abrechnung \\n      der Stellplatznutzung.\\n168\\nPARKPLÄTZE - davon\\n46 PARKPLÄTZE - mit E-Ladesäule\\nParken im neuen Gebäude')]}"
      ]
     },
     "execution_count": 17,
     "metadata": {},
     "output_type": "execute_result"
    }
   ],
   "source": [
    "result"
   ]
  },
  {
   "cell_type": "code",
   "execution_count": null,
   "id": "1e525b55",
   "metadata": {},
   "outputs": [
    {
     "data": {
      "text/plain": [
       "'At the new location, there are a total of 168 parking spaces, of which 72 are equipped with E-charging stations. Additionally, there are 157 indoor bicycle parking spaces, with 12 of those also having E-charging stations.'"
      ]
     },
     "execution_count": 26,
     "metadata": {},
     "output_type": "execute_result"
    },
    {
     "ename": "",
     "evalue": "",
     "output_type": "error",
     "traceback": [
      "\u001b[1;31mThe Kernel crashed while executing code in the current cell or a previous cell. \n",
      "\u001b[1;31mPlease review the code in the cell(s) to identify a possible cause of the failure. \n",
      "\u001b[1;31mClick <a href='https://aka.ms/vscodeJupyterKernelCrash'>here</a> for more info. \n",
      "\u001b[1;31mView Jupyter <a href='command:jupyter.viewOutput'>log</a> for further details."
     ]
    }
   ],
   "source": [
    "result['result']"
   ]
  }
 ],
 "metadata": {
  "kernelspec": {
   "display_name": "Python 3",
   "language": "python",
   "name": "python3"
  },
  "language_info": {
   "codemirror_mode": {
    "name": "ipython",
    "version": 3
   },
   "file_extension": ".py",
   "mimetype": "text/x-python",
   "name": "python",
   "nbconvert_exporter": "python",
   "pygments_lexer": "ipython3",
   "version": "3.13.0"
  }
 },
 "nbformat": 4,
 "nbformat_minor": 5
}
