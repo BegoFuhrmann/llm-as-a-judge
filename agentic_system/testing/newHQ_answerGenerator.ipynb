{
 "cells": [
  {
   "cell_type": "markdown",
   "id": "75d7e624",
   "metadata": {},
   "source": [
    "# init azure openai"
   ]
  },
  {
   "cell_type": "code",
   "execution_count": 1,
   "id": "2db38b4a",
   "metadata": {},
   "outputs": [],
   "source": [
    "# set NO_PROXY=localhost,127.0.0.1,::1\n",
    "import os\n",
    "os.environ[\"NO_PROXY\"] = \"localhost,127.0.1,::1\""
   ]
  },
  {
   "cell_type": "code",
   "execution_count": 2,
   "id": "71d47b0b",
   "metadata": {},
   "outputs": [],
   "source": [
    "# Azure OpenAI setup\n",
    "from azure.identity import DefaultAzureCredential\n",
    "from langchain_openai import AzureChatOpenAI\n",
    "import os\n",
    "\n",
    "from dotenv import load_dotenv\n",
    "\n",
    "load_dotenv()\n",
    "\n",
    "default_credential = DefaultAzureCredential()\n",
    "token = default_credential.get_token(\"https://cognitiveservices.azure.com/.default\")\n",
    "api_key = token.token\n",
    "\n",
    "# set token to the env variable AZURE_OPENAI_API_KEY\n",
    "os.environ[\"AZURE_OPENAI_API_KEY\"] = token.token"
   ]
  },
  {
   "cell_type": "code",
   "execution_count": 3,
   "id": "8142383f",
   "metadata": {},
   "outputs": [],
   "source": [
    "llm = AzureChatOpenAI(\n",
    "    azure_endpoint=\"https://begobaiatest.openai.azure.com/\",\n",
    "    azure_deployment=\"gpt-4o-mini\",\n",
    "    openai_api_version=\"2024-05-01-preview\",\n",
    "    temperature=0,\n",
    "    max_tokens=None,\n",
    "    timeout=None,\n",
    "    max_retries=2,\n",
    ")"
   ]
  },
  {
   "cell_type": "markdown",
   "id": "1f708520",
   "metadata": {},
   "source": [
    "## init embeddings"
   ]
  },
  {
   "cell_type": "code",
   "execution_count": 4,
   "id": "1594e007",
   "metadata": {},
   "outputs": [],
   "source": [
    "# Import and initialize HuggingFace embedder\n",
    "from langchain_huggingface import HuggingFaceEmbeddings\n",
    "\n",
    "EMBEDDING_MODEL = \"sentence-transformers/all-MiniLM-L6-v2\"\n",
    "embeddings = HuggingFaceEmbeddings(\n",
    "    model_name=EMBEDDING_MODEL,\n",
    "    model_kwargs={\"device\": \"cpu\"}\n",
    ")"
   ]
  },
  {
   "cell_type": "markdown",
   "id": "771a015f",
   "metadata": {},
   "source": [
    "## Query ChromaDB (newHQ)"
   ]
  },
  {
   "cell_type": "code",
   "execution_count": 5,
   "id": "ecdf7c98",
   "metadata": {},
   "outputs": [],
   "source": [
    "# 3) Load your existing ChromaDB using the UNC path\n",
    "from langchain_chroma import Chroma\n",
    "\n",
    "PERSIST_DIR     = r\"\\\\dnsbego.de\\dfsbego\\home04\\FuhrmannD\\Documents\\01_Trainee\\Master\\Thesis\\code\\agentic_system\\data\\newHQ_chroma_db\"\n",
    "COLLECTION_NAME = \"berenberg_newhq_docs\"\n",
    "\n",
    "vectordb = Chroma(\n",
    "    persist_directory=PERSIST_DIR,\n",
    "    embedding_function=embeddings,\n",
    "    collection_name=COLLECTION_NAME\n",
    ")"
   ]
  },
  {
   "cell_type": "code",
   "execution_count": 6,
   "id": "b7f48f65",
   "metadata": {},
   "outputs": [],
   "source": [
    "# 4) Do a semantic search\n",
    "query = \"What parking options are available?\"\n",
    "TOP_K = 5\n",
    "\n",
    "results = vectordb.similarity_search_with_score(query, k=TOP_K)"
   ]
  },
  {
   "cell_type": "code",
   "execution_count": 7,
   "id": "deea3d61",
   "metadata": {},
   "outputs": [
    {
     "data": {
      "text/plain": [
       "[(Document(id='77f3b202-ba4b-4788-825a-6f11fc2ee780', metadata={'page_label': '1', 'file_type': '.pdf', 'creator': 'PyPDF', 'total_pages': 1, 'subdirectory': 'Confluence New HQ', 'producer': 'PyPDF', 'source': 'W:\\\\T1368-WAM AI\\\\03 Projects\\\\02 AI Projects\\\\01 Berenberg AI Assistant (BAIA)\\\\15 newHQ data\\\\_new\\\\Confluence New HQ\\\\20252807_CONFLUENCE_Parken.pdf', 'creationdate': '', 'page': 0}, page_content='10) Parken & Mobilität\\nParken & Mobilität\\nParken & Mobilität\\nParkplatzbuchung\\nFahrrad\\nParkplatzbuchung\\nFrage Antwort\\n1 Welche Parkmöglichkeiten gibt es am \\nneuen Standort?\\nAm Standort gibt es 168 Pakplätze, davon 72 mit E-Ladesäulen. Sowie 157 Indoor-\\nFahrradstellplätze, 12 davon mit E-Ladesäule.\\n2 Wieviele Kundenparkplätze stehen zur \\nVerfügung?\\nInsgesamt gibt es 10 Kundenparkplätze.\\n3 Wie kann ich einen Parkplatz buchen?Die Buchung erfolgt über eine zentrale Park-App.\\n4 Kann ich mehrere Kennzeichen in der \\nApp hinterlegen?\\nJa, in der App können mehrere Kennzeichen hinterlegt werden.\\n5 Was passiert, wenn ich ohne Buchung in \\ndie Tiefgarage fahre?\\nWer ohne Buchung in die Tiefgarage fährt, kann sich spontan einen Parkplatz in der App \\nbuchen. Ansonsten wird kostenpflichtig abgeschleppt.\\n6 Wie komme ich in die Tiefgarage? Der Zutritt erfolgt entweder mit der App oder der Mitarbeiter-Zutrittskarte.\\n\\xa0Fahrrad\\nFrage Antwort\\n1 Wann kann ich mein Fahrrad im Gebäude abstellen \\noder abholen?'),\n",
       "  1.2384095191955566),\n",
       " (Document(id='6d75f9e3-3594-4c9e-8d1a-e31178ccbdaf', metadata={'subdirectory': 'Confluence New HQ', 'producer': 'PyPDF', 'page_label': '1', 'source': 'W:\\\\T1368-WAM AI\\\\03 Projects\\\\02 AI Projects\\\\01 Berenberg AI Assistant (BAIA)\\\\15 newHQ data\\\\_new\\\\Confluence New HQ\\\\20252807_CONFLUENCE_Parken.pdf', 'creator': 'PyPDF', 'total_pages': 1, 'page': 0, 'creationdate': '', 'file_type': '.pdf'}, page_content='10) Parken & Mobilität\\nParken & Mobilität\\nParken & Mobilität\\nParkplatzbuchung\\nFahrrad\\nParkplatzbuchung\\nFrage Antwort\\n1 Welche Parkmöglichkeiten gibt es am \\nneuen Standort?\\nAm Standort gibt es 168 Pakplätze, davon 72 mit E-Ladesäulen. Sowie 157 Indoor-\\nFahrradstellplätze, 12 davon mit E-Ladesäule.\\n2 Wieviele Kundenparkplätze stehen zur \\nVerfügung?\\nInsgesamt gibt es 10 Kundenparkplätze.\\n3 Wie kann ich einen Parkplatz buchen?Die Buchung erfolgt über eine zentrale Park-App.\\n4 Kann ich mehrere Kennzeichen in der \\nApp hinterlegen?\\nJa, in der App können mehrere Kennzeichen hinterlegt werden.\\n5 Was passiert, wenn ich ohne Buchung in \\ndie Tiefgarage fahre?\\nWer ohne Buchung in die Tiefgarage fährt, kann sich spontan einen Parkplatz in der App \\nbuchen. Ansonsten wird kostenpflichtig abgeschleppt.\\n6 Wie komme ich in die Tiefgarage? Der Zutritt erfolgt entweder mit der App oder der Mitarbeiter-Zutrittskarte.\\n\\xa0Fahrrad\\nFrage Antwort\\n1 Wann kann ich mein Fahrrad im Gebäude abstellen \\noder abholen?'),\n",
       "  1.2384095191955566),\n",
       " (Document(id='80912238-f168-46e3-8b0f-c4782f9d83cb', metadata={'page': 0, 'page_label': '1', 'producer': 'Adobe PDF Library 17.0', 'creator': 'Adobe InDesign 19.4 (Windows)', 'moddate': '2025-07-23T17:51:58+02:00', 'subdirectory': 'Newsletter', 'creationdate': '2025-07-23T17:51:58+02:00', 'total_pages': 2, 'file_type': '.pdf', 'source': 'W:\\\\T1368-WAM AI\\\\03 Projects\\\\02 AI Projects\\\\01 Berenberg AI Assistant (BAIA)\\\\15 newHQ data\\\\_new\\\\Newsletter\\\\20240901_NEWSLETTER_Parken.pdf'}, page_content='5.  Sie können ebenfalls hinterlegen ob Sie einen\\n     Standard-Stellplatz, einen E-Stellplatz oder \\n     einen Behindertenstellplatz brauchen. \\n6.  Die Reservierung ist mit nur einem Klick in \\n     der App möglich, Sie erhalten sofort die \\n      Bestätigung!\\n7.   Sie können maximal 5 Tage auf \\n      einmal buchen.\\n8.   Am Buchungstag fahren Sie mit\\n      Ihrem Auto in die Tiefgarage und\\n     der Zugang erfolgt über Ihre all-\\n      gemeine Zutrittskarte.\\n9.   Es gibt eine In-App-Navigations-\\n      karte, die das Finden des Stell-\\n      platzes erleichtert.\\n10. Ende des Monats erfolgt die\\n      automatische Abrechnung \\n      der Stellplatznutzung.\\n168\\nPARKPLÄTZE - davon\\n46 PARKPLÄTZE - mit E-Ladesäule\\nParken im neuen Gebäude'),\n",
       "  1.349624752998352),\n",
       " (Document(id='04ab082f-1fce-4c01-9e0b-c20f91298969', metadata={'creationdate': '2025-07-23T17:51:58+02:00', 'page': 0, 'creator': 'Adobe InDesign 19.4 (Windows)', 'total_pages': 2, 'file_type': '.pdf', 'page_label': '1', 'moddate': '2025-07-23T17:51:58+02:00', 'producer': 'Adobe PDF Library 17.0', 'source': 'W:\\\\T1368-WAM AI\\\\03 Projects\\\\02 AI Projects\\\\01 Berenberg AI Assistant (BAIA)\\\\15 newHQ data\\\\_new\\\\Newsletter\\\\20240901_NEWSLETTER_Parken.pdf', 'subdirectory': 'Newsletter'}, page_content='5.  Sie können ebenfalls hinterlegen ob Sie einen\\n     Standard-Stellplatz, einen E-Stellplatz oder \\n     einen Behindertenstellplatz brauchen. \\n6.  Die Reservierung ist mit nur einem Klick in \\n     der App möglich, Sie erhalten sofort die \\n      Bestätigung!\\n7.   Sie können maximal 5 Tage auf \\n      einmal buchen.\\n8.   Am Buchungstag fahren Sie mit\\n      Ihrem Auto in die Tiefgarage und\\n     der Zugang erfolgt über Ihre all-\\n      gemeine Zutrittskarte.\\n9.   Es gibt eine In-App-Navigations-\\n      karte, die das Finden des Stell-\\n      platzes erleichtert.\\n10. Ende des Monats erfolgt die\\n      automatische Abrechnung \\n      der Stellplatznutzung.\\n168\\nPARKPLÄTZE - davon\\n46 PARKPLÄTZE - mit E-Ladesäule\\nParken im neuen Gebäude'),\n",
       "  1.349624752998352),\n",
       " (Document(id='b2d2c758-2455-4f34-a8c6-a1befa0013e1', metadata={'page_label': '2', 'creator': 'Adobe InDesign 19.4 (Windows)', 'file_type': '.pdf', 'creationdate': '2025-07-23T17:47:02+02:00', 'moddate': '2025-07-23T17:47:02+02:00', 'producer': 'Adobe PDF Library 17.0', 'subdirectory': 'Newsletter', 'page': 1, 'total_pages': 2, 'source': 'W:\\\\T1368-WAM AI\\\\03 Projects\\\\02 AI Projects\\\\01 Berenberg AI Assistant (BAIA)\\\\15 newHQ data\\\\_new\\\\Newsletter\\\\20240801_Newsletter_Faktencheck.pdf'}, page_content='INSIGHTS\\nPROJEKT\\nNEW HQ  NEWSLETTER                 # 06\\nNEW HQ\\nNEWSLETTER\\nZahlen - Daten - Fakten\\nFAKTENCHECK ZUM NEUEN HAUPTQUARTIER\\n168\\n157\\nPARKPLÄTZE \\nFAHRRADSTELLPLÄTZE\\n72 PARKPLÄTZE (inkl.) \\n- mit E-Ladesäule\\n12 PARKPLÄTZE (inkl.) \\n- mit E-Ladesäule\\n300\\n900\\n50\\n44\\n40\\n20\\n10\\n11\\n1\\n1\\n1\\n900\\nSpinde in UG 2 als Ergänzung\\nArbeitsplätze\\nTelefonboxen\\nMeetingräume\\nThink Tanks\\nOffice-For-One-Day\\n6 Dachterrassen+ 4 Balkone\\nDuschen\\nMitarbeiter Restaurant\\nMarketplace\\nMultifunktionsraum\\nSchließfächer'),\n",
       "  1.4270590543746948)]"
      ]
     },
     "execution_count": 7,
     "metadata": {},
     "output_type": "execute_result"
    }
   ],
   "source": [
    "results"
   ]
  },
  {
   "cell_type": "code",
   "execution_count": 8,
   "id": "44051373",
   "metadata": {},
   "outputs": [
    {
     "name": "stdout",
     "output_type": "stream",
     "text": [
      "=== Hit #1 (score: 1.2384) ===\n",
      "\n",
      "10) Parken & Mobilität\n",
      "Parken & Mobilität\n",
      "Parken & Mobilität\n",
      "Parkplatzbuchung\n",
      "Fahrrad\n",
      "Parkplatzbuchung\n",
      "Frage Antwort\n",
      "1 Welche Parkmöglichkeiten gibt es am \n",
      "neuen Standort?\n",
      "Am Standort gibt es 168 Pakplätze, davon 72 mit E-Ladesäulen. Sowie 157 Indoor-\n",
      "Fahrradstellplätze, 12 davon mit E-Ladesäule.\n",
      "2 Wieviele Kundenparkplätze stehen zur \n",
      "Verfügung?\n",
      "Insgesamt gibt es 10 Kundenparkplätze.\n",
      "3 Wie kann ich einen Parkplatz buchen?Die Buchung erfolgt über eine zentrale Park-App.\n",
      "4 Kann ich mehrere Kennze ...\n",
      "\n",
      "   ↳ metadata: {'page_label': '1', 'file_type': '.pdf', 'creator': 'PyPDF', 'total_pages': 1, 'subdirectory': 'Confluence New HQ', 'producer': 'PyPDF', 'source': 'W:\\\\T1368-WAM AI\\\\03 Projects\\\\02 AI Projects\\\\01 Berenberg AI Assistant (BAIA)\\\\15 newHQ data\\\\_new\\\\Confluence New HQ\\\\20252807_CONFLUENCE_Parken.pdf', 'creationdate': '', 'page': 0} \n",
      "\n",
      "=== Hit #2 (score: 1.2384) ===\n",
      "\n",
      "10) Parken & Mobilität\n",
      "Parken & Mobilität\n",
      "Parken & Mobilität\n",
      "Parkplatzbuchung\n",
      "Fahrrad\n",
      "Parkplatzbuchung\n",
      "Frage Antwort\n",
      "1 Welche Parkmöglichkeiten gibt es am \n",
      "neuen Standort?\n",
      "Am Standort gibt es 168 Pakplätze, davon 72 mit E-Ladesäulen. Sowie 157 Indoor-\n",
      "Fahrradstellplätze, 12 davon mit E-Ladesäule.\n",
      "2 Wieviele Kundenparkplätze stehen zur \n",
      "Verfügung?\n",
      "Insgesamt gibt es 10 Kundenparkplätze.\n",
      "3 Wie kann ich einen Parkplatz buchen?Die Buchung erfolgt über eine zentrale Park-App.\n",
      "4 Kann ich mehrere Kennze ...\n",
      "\n",
      "   ↳ metadata: {'subdirectory': 'Confluence New HQ', 'producer': 'PyPDF', 'page_label': '1', 'source': 'W:\\\\T1368-WAM AI\\\\03 Projects\\\\02 AI Projects\\\\01 Berenberg AI Assistant (BAIA)\\\\15 newHQ data\\\\_new\\\\Confluence New HQ\\\\20252807_CONFLUENCE_Parken.pdf', 'creator': 'PyPDF', 'total_pages': 1, 'page': 0, 'creationdate': '', 'file_type': '.pdf'} \n",
      "\n",
      "=== Hit #3 (score: 1.3496) ===\n",
      "\n",
      "5.  Sie können ebenfalls hinterlegen ob Sie einen\n",
      "     Standard-Stellplatz, einen E-Stellplatz oder \n",
      "     einen Behindertenstellplatz brauchen. \n",
      "6.  Die Reservierung ist mit nur einem Klick in \n",
      "     der App möglich, Sie erhalten sofort die \n",
      "      Bestätigung!\n",
      "7.   Sie können maximal 5 Tage auf \n",
      "      einmal buchen.\n",
      "8.   Am Buchungstag fahren Sie mit\n",
      "      Ihrem Auto in die Tiefgarage und\n",
      "     der Zugang erfolgt über Ihre all-\n",
      "      gemeine Zutrittskarte.\n",
      "9.   Es gibt eine In-App-Navigations- ...\n",
      "\n",
      "   ↳ metadata: {'page': 0, 'page_label': '1', 'producer': 'Adobe PDF Library 17.0', 'creator': 'Adobe InDesign 19.4 (Windows)', 'moddate': '2025-07-23T17:51:58+02:00', 'subdirectory': 'Newsletter', 'creationdate': '2025-07-23T17:51:58+02:00', 'total_pages': 2, 'file_type': '.pdf', 'source': 'W:\\\\T1368-WAM AI\\\\03 Projects\\\\02 AI Projects\\\\01 Berenberg AI Assistant (BAIA)\\\\15 newHQ data\\\\_new\\\\Newsletter\\\\20240901_NEWSLETTER_Parken.pdf'} \n",
      "\n",
      "=== Hit #4 (score: 1.3496) ===\n",
      "\n",
      "5.  Sie können ebenfalls hinterlegen ob Sie einen\n",
      "     Standard-Stellplatz, einen E-Stellplatz oder \n",
      "     einen Behindertenstellplatz brauchen. \n",
      "6.  Die Reservierung ist mit nur einem Klick in \n",
      "     der App möglich, Sie erhalten sofort die \n",
      "      Bestätigung!\n",
      "7.   Sie können maximal 5 Tage auf \n",
      "      einmal buchen.\n",
      "8.   Am Buchungstag fahren Sie mit\n",
      "      Ihrem Auto in die Tiefgarage und\n",
      "     der Zugang erfolgt über Ihre all-\n",
      "      gemeine Zutrittskarte.\n",
      "9.   Es gibt eine In-App-Navigations- ...\n",
      "\n",
      "   ↳ metadata: {'creationdate': '2025-07-23T17:51:58+02:00', 'page': 0, 'creator': 'Adobe InDesign 19.4 (Windows)', 'total_pages': 2, 'file_type': '.pdf', 'page_label': '1', 'moddate': '2025-07-23T17:51:58+02:00', 'producer': 'Adobe PDF Library 17.0', 'source': 'W:\\\\T1368-WAM AI\\\\03 Projects\\\\02 AI Projects\\\\01 Berenberg AI Assistant (BAIA)\\\\15 newHQ data\\\\_new\\\\Newsletter\\\\20240901_NEWSLETTER_Parken.pdf', 'subdirectory': 'Newsletter'} \n",
      "\n",
      "=== Hit #5 (score: 1.4271) ===\n",
      "\n",
      "INSIGHTS\n",
      "PROJEKT\n",
      "NEW HQ  NEWSLETTER                 # 06\n",
      "NEW HQ\n",
      "NEWSLETTER\n",
      "Zahlen - Daten - Fakten\n",
      "FAKTENCHECK ZUM NEUEN HAUPTQUARTIER\n",
      "168\n",
      "157\n",
      "PARKPLÄTZE \n",
      "FAHRRADSTELLPLÄTZE\n",
      "72 PARKPLÄTZE (inkl.) \n",
      "- mit E-Ladesäule\n",
      "12 PARKPLÄTZE (inkl.) \n",
      "- mit E-Ladesäule\n",
      "300\n",
      "900\n",
      "50\n",
      "44\n",
      "40\n",
      "20\n",
      "10\n",
      "11\n",
      "1\n",
      "1\n",
      "1\n",
      "900\n",
      "Spinde in UG 2 als Ergänzung\n",
      "Arbeitsplätze\n",
      "Telefonboxen\n",
      "Meetingräume\n",
      "Think Tanks\n",
      "Office-For-One-Day\n",
      "6 Dachterrassen+ 4 Balkone\n",
      "Duschen\n",
      "Mitarbeiter Restaurant\n",
      "Marketplace\n",
      "Multifunktionsraum\n",
      "Schließfächer ...\n",
      "\n",
      "   ↳ metadata: {'page_label': '2', 'creator': 'Adobe InDesign 19.4 (Windows)', 'file_type': '.pdf', 'creationdate': '2025-07-23T17:47:02+02:00', 'moddate': '2025-07-23T17:47:02+02:00', 'producer': 'Adobe PDF Library 17.0', 'subdirectory': 'Newsletter', 'page': 1, 'total_pages': 2, 'source': 'W:\\\\T1368-WAM AI\\\\03 Projects\\\\02 AI Projects\\\\01 Berenberg AI Assistant (BAIA)\\\\15 newHQ data\\\\_new\\\\Newsletter\\\\20240801_Newsletter_Faktencheck.pdf'} \n",
      "\n"
     ]
    }
   ],
   "source": [
    "# 5) Inspect the top hits\n",
    "for rank, (doc, score) in enumerate(results, start=1):\n",
    "    print(f\"=== Hit #{rank} (score: {score:.4f}) ===\\n\")\n",
    "    print(doc.page_content[:500].strip(), \"...\\n\")\n",
    "    print(\"   ↳ metadata:\", doc.metadata, \"\\n\")"
   ]
  },
  {
   "cell_type": "code",
   "execution_count": 9,
   "id": "036b5cfa",
   "metadata": {},
   "outputs": [],
   "source": [
    "# Create retriever\n",
    "retriever = vectordb.as_retriever(search_kwargs={\"k\": 3})"
   ]
  },
  {
   "cell_type": "code",
   "execution_count": 10,
   "id": "da9e0a18",
   "metadata": {},
   "outputs": [],
   "source": [
    "from langchain.chains import RetrievalQA\n",
    "\n",
    "# Create QA chain\n",
    "qa_chain = RetrievalQA.from_chain_type(\n",
    "    llm=llm,\n",
    "    chain_type=\"refine\",\n",
    "    retriever=retriever,\n",
    "    return_source_documents=True\n",
    ")"
   ]
  },
  {
   "cell_type": "code",
   "execution_count": 11,
   "id": "70d8ba89",
   "metadata": {},
   "outputs": [
    {
     "name": "stdout",
     "output_type": "stream",
     "text": [
      "{'query': 'What parking options are available?', 'result': 'At the new location, there are 168 parking spaces available, including 46 equipped with E-charging stations. You can specify whether you need a standard parking space, an E-parking space, or a disabled parking space when making a reservation. \\n\\nParking can be easily booked through a central parking app with just one click, and you will receive immediate confirmation. You can reserve a spot for a maximum of 5 days at a time. On the day of your booking, you can access the underground garage using your general access card. \\n\\nAdditionally, the app features an in-app navigation map to help you find your designated parking space easily. At the end of the month, the usage of the parking space will be automatically billed. For customers, there are also 10 designated parking spaces available. If you enter the underground garage without a reservation, you can book a spot spontaneously via the app, but unauthorized vehicles may be subject to towing. Access to the garage is granted through the app or a staff access card.', 'source_documents': [Document(id='77f3b202-ba4b-4788-825a-6f11fc2ee780', metadata={'producer': 'PyPDF', 'creator': 'PyPDF', 'total_pages': 1, 'file_type': '.pdf', 'source': 'W:\\\\T1368-WAM AI\\\\03 Projects\\\\02 AI Projects\\\\01 Berenberg AI Assistant (BAIA)\\\\15 newHQ data\\\\_new\\\\Confluence New HQ\\\\20252807_CONFLUENCE_Parken.pdf', 'page': 0, 'subdirectory': 'Confluence New HQ', 'creationdate': '', 'page_label': '1'}, page_content='10) Parken & Mobilität\\nParken & Mobilität\\nParken & Mobilität\\nParkplatzbuchung\\nFahrrad\\nParkplatzbuchung\\nFrage Antwort\\n1 Welche Parkmöglichkeiten gibt es am \\nneuen Standort?\\nAm Standort gibt es 168 Pakplätze, davon 72 mit E-Ladesäulen. Sowie 157 Indoor-\\nFahrradstellplätze, 12 davon mit E-Ladesäule.\\n2 Wieviele Kundenparkplätze stehen zur \\nVerfügung?\\nInsgesamt gibt es 10 Kundenparkplätze.\\n3 Wie kann ich einen Parkplatz buchen?Die Buchung erfolgt über eine zentrale Park-App.\\n4 Kann ich mehrere Kennzeichen in der \\nApp hinterlegen?\\nJa, in der App können mehrere Kennzeichen hinterlegt werden.\\n5 Was passiert, wenn ich ohne Buchung in \\ndie Tiefgarage fahre?\\nWer ohne Buchung in die Tiefgarage fährt, kann sich spontan einen Parkplatz in der App \\nbuchen. Ansonsten wird kostenpflichtig abgeschleppt.\\n6 Wie komme ich in die Tiefgarage? Der Zutritt erfolgt entweder mit der App oder der Mitarbeiter-Zutrittskarte.\\n\\xa0Fahrrad\\nFrage Antwort\\n1 Wann kann ich mein Fahrrad im Gebäude abstellen \\noder abholen?'), Document(id='6d75f9e3-3594-4c9e-8d1a-e31178ccbdaf', metadata={'producer': 'PyPDF', 'creationdate': '', 'page_label': '1', 'creator': 'PyPDF', 'file_type': '.pdf', 'subdirectory': 'Confluence New HQ', 'source': 'W:\\\\T1368-WAM AI\\\\03 Projects\\\\02 AI Projects\\\\01 Berenberg AI Assistant (BAIA)\\\\15 newHQ data\\\\_new\\\\Confluence New HQ\\\\20252807_CONFLUENCE_Parken.pdf', 'page': 0, 'total_pages': 1}, page_content='10) Parken & Mobilität\\nParken & Mobilität\\nParken & Mobilität\\nParkplatzbuchung\\nFahrrad\\nParkplatzbuchung\\nFrage Antwort\\n1 Welche Parkmöglichkeiten gibt es am \\nneuen Standort?\\nAm Standort gibt es 168 Pakplätze, davon 72 mit E-Ladesäulen. Sowie 157 Indoor-\\nFahrradstellplätze, 12 davon mit E-Ladesäule.\\n2 Wieviele Kundenparkplätze stehen zur \\nVerfügung?\\nInsgesamt gibt es 10 Kundenparkplätze.\\n3 Wie kann ich einen Parkplatz buchen?Die Buchung erfolgt über eine zentrale Park-App.\\n4 Kann ich mehrere Kennzeichen in der \\nApp hinterlegen?\\nJa, in der App können mehrere Kennzeichen hinterlegt werden.\\n5 Was passiert, wenn ich ohne Buchung in \\ndie Tiefgarage fahre?\\nWer ohne Buchung in die Tiefgarage fährt, kann sich spontan einen Parkplatz in der App \\nbuchen. Ansonsten wird kostenpflichtig abgeschleppt.\\n6 Wie komme ich in die Tiefgarage? Der Zutritt erfolgt entweder mit der App oder der Mitarbeiter-Zutrittskarte.\\n\\xa0Fahrrad\\nFrage Antwort\\n1 Wann kann ich mein Fahrrad im Gebäude abstellen \\noder abholen?'), Document(id='80912238-f168-46e3-8b0f-c4782f9d83cb', metadata={'creationdate': '2025-07-23T17:51:58+02:00', 'producer': 'Adobe PDF Library 17.0', 'file_type': '.pdf', 'page': 0, 'creator': 'Adobe InDesign 19.4 (Windows)', 'source': 'W:\\\\T1368-WAM AI\\\\03 Projects\\\\02 AI Projects\\\\01 Berenberg AI Assistant (BAIA)\\\\15 newHQ data\\\\_new\\\\Newsletter\\\\20240901_NEWSLETTER_Parken.pdf', 'page_label': '1', 'moddate': '2025-07-23T17:51:58+02:00', 'total_pages': 2, 'subdirectory': 'Newsletter'}, page_content='5.  Sie können ebenfalls hinterlegen ob Sie einen\\n     Standard-Stellplatz, einen E-Stellplatz oder \\n     einen Behindertenstellplatz brauchen. \\n6.  Die Reservierung ist mit nur einem Klick in \\n     der App möglich, Sie erhalten sofort die \\n      Bestätigung!\\n7.   Sie können maximal 5 Tage auf \\n      einmal buchen.\\n8.   Am Buchungstag fahren Sie mit\\n      Ihrem Auto in die Tiefgarage und\\n     der Zugang erfolgt über Ihre all-\\n      gemeine Zutrittskarte.\\n9.   Es gibt eine In-App-Navigations-\\n      karte, die das Finden des Stell-\\n      platzes erleichtert.\\n10. Ende des Monats erfolgt die\\n      automatische Abrechnung \\n      der Stellplatznutzung.\\n168\\nPARKPLÄTZE - davon\\n46 PARKPLÄTZE - mit E-Ladesäule\\nParken im neuen Gebäude')]}\n"
     ]
    }
   ],
   "source": [
    "query = \"What parking options are available?\"\n",
    "result = qa_chain.invoke(query)\n",
    "print(result)"
   ]
  },
  {
   "cell_type": "code",
   "execution_count": 12,
   "id": "d2d5eb88",
   "metadata": {},
   "outputs": [
    {
     "data": {
      "text/plain": [
       "{'query': 'What parking options are available?',\n",
       " 'result': 'At the new location, there are 168 parking spaces available, including 46 equipped with E-charging stations. You can specify whether you need a standard parking space, an E-parking space, or a disabled parking space when making a reservation. \\n\\nParking can be easily booked through a central parking app with just one click, and you will receive immediate confirmation. You can reserve a spot for a maximum of 5 days at a time. On the day of your booking, you can access the underground garage using your general access card. \\n\\nAdditionally, the app features an in-app navigation map to help you find your designated parking space easily. At the end of the month, the usage of the parking space will be automatically billed. For customers, there are also 10 designated parking spaces available. If you enter the underground garage without a reservation, you can book a spot spontaneously via the app, but unauthorized vehicles may be subject to towing. Access to the garage is granted through the app or a staff access card.',\n",
       " 'source_documents': [Document(id='77f3b202-ba4b-4788-825a-6f11fc2ee780', metadata={'producer': 'PyPDF', 'creator': 'PyPDF', 'total_pages': 1, 'file_type': '.pdf', 'source': 'W:\\\\T1368-WAM AI\\\\03 Projects\\\\02 AI Projects\\\\01 Berenberg AI Assistant (BAIA)\\\\15 newHQ data\\\\_new\\\\Confluence New HQ\\\\20252807_CONFLUENCE_Parken.pdf', 'page': 0, 'subdirectory': 'Confluence New HQ', 'creationdate': '', 'page_label': '1'}, page_content='10) Parken & Mobilität\\nParken & Mobilität\\nParken & Mobilität\\nParkplatzbuchung\\nFahrrad\\nParkplatzbuchung\\nFrage Antwort\\n1 Welche Parkmöglichkeiten gibt es am \\nneuen Standort?\\nAm Standort gibt es 168 Pakplätze, davon 72 mit E-Ladesäulen. Sowie 157 Indoor-\\nFahrradstellplätze, 12 davon mit E-Ladesäule.\\n2 Wieviele Kundenparkplätze stehen zur \\nVerfügung?\\nInsgesamt gibt es 10 Kundenparkplätze.\\n3 Wie kann ich einen Parkplatz buchen?Die Buchung erfolgt über eine zentrale Park-App.\\n4 Kann ich mehrere Kennzeichen in der \\nApp hinterlegen?\\nJa, in der App können mehrere Kennzeichen hinterlegt werden.\\n5 Was passiert, wenn ich ohne Buchung in \\ndie Tiefgarage fahre?\\nWer ohne Buchung in die Tiefgarage fährt, kann sich spontan einen Parkplatz in der App \\nbuchen. Ansonsten wird kostenpflichtig abgeschleppt.\\n6 Wie komme ich in die Tiefgarage? Der Zutritt erfolgt entweder mit der App oder der Mitarbeiter-Zutrittskarte.\\n\\xa0Fahrrad\\nFrage Antwort\\n1 Wann kann ich mein Fahrrad im Gebäude abstellen \\noder abholen?'),\n",
       "  Document(id='6d75f9e3-3594-4c9e-8d1a-e31178ccbdaf', metadata={'producer': 'PyPDF', 'creationdate': '', 'page_label': '1', 'creator': 'PyPDF', 'file_type': '.pdf', 'subdirectory': 'Confluence New HQ', 'source': 'W:\\\\T1368-WAM AI\\\\03 Projects\\\\02 AI Projects\\\\01 Berenberg AI Assistant (BAIA)\\\\15 newHQ data\\\\_new\\\\Confluence New HQ\\\\20252807_CONFLUENCE_Parken.pdf', 'page': 0, 'total_pages': 1}, page_content='10) Parken & Mobilität\\nParken & Mobilität\\nParken & Mobilität\\nParkplatzbuchung\\nFahrrad\\nParkplatzbuchung\\nFrage Antwort\\n1 Welche Parkmöglichkeiten gibt es am \\nneuen Standort?\\nAm Standort gibt es 168 Pakplätze, davon 72 mit E-Ladesäulen. Sowie 157 Indoor-\\nFahrradstellplätze, 12 davon mit E-Ladesäule.\\n2 Wieviele Kundenparkplätze stehen zur \\nVerfügung?\\nInsgesamt gibt es 10 Kundenparkplätze.\\n3 Wie kann ich einen Parkplatz buchen?Die Buchung erfolgt über eine zentrale Park-App.\\n4 Kann ich mehrere Kennzeichen in der \\nApp hinterlegen?\\nJa, in der App können mehrere Kennzeichen hinterlegt werden.\\n5 Was passiert, wenn ich ohne Buchung in \\ndie Tiefgarage fahre?\\nWer ohne Buchung in die Tiefgarage fährt, kann sich spontan einen Parkplatz in der App \\nbuchen. Ansonsten wird kostenpflichtig abgeschleppt.\\n6 Wie komme ich in die Tiefgarage? Der Zutritt erfolgt entweder mit der App oder der Mitarbeiter-Zutrittskarte.\\n\\xa0Fahrrad\\nFrage Antwort\\n1 Wann kann ich mein Fahrrad im Gebäude abstellen \\noder abholen?'),\n",
       "  Document(id='80912238-f168-46e3-8b0f-c4782f9d83cb', metadata={'creationdate': '2025-07-23T17:51:58+02:00', 'producer': 'Adobe PDF Library 17.0', 'file_type': '.pdf', 'page': 0, 'creator': 'Adobe InDesign 19.4 (Windows)', 'source': 'W:\\\\T1368-WAM AI\\\\03 Projects\\\\02 AI Projects\\\\01 Berenberg AI Assistant (BAIA)\\\\15 newHQ data\\\\_new\\\\Newsletter\\\\20240901_NEWSLETTER_Parken.pdf', 'page_label': '1', 'moddate': '2025-07-23T17:51:58+02:00', 'total_pages': 2, 'subdirectory': 'Newsletter'}, page_content='5.  Sie können ebenfalls hinterlegen ob Sie einen\\n     Standard-Stellplatz, einen E-Stellplatz oder \\n     einen Behindertenstellplatz brauchen. \\n6.  Die Reservierung ist mit nur einem Klick in \\n     der App möglich, Sie erhalten sofort die \\n      Bestätigung!\\n7.   Sie können maximal 5 Tage auf \\n      einmal buchen.\\n8.   Am Buchungstag fahren Sie mit\\n      Ihrem Auto in die Tiefgarage und\\n     der Zugang erfolgt über Ihre all-\\n      gemeine Zutrittskarte.\\n9.   Es gibt eine In-App-Navigations-\\n      karte, die das Finden des Stell-\\n      platzes erleichtert.\\n10. Ende des Monats erfolgt die\\n      automatische Abrechnung \\n      der Stellplatznutzung.\\n168\\nPARKPLÄTZE - davon\\n46 PARKPLÄTZE - mit E-Ladesäule\\nParken im neuen Gebäude')]}"
      ]
     },
     "execution_count": 12,
     "metadata": {},
     "output_type": "execute_result"
    }
   ],
   "source": [
    "result"
   ]
  },
  {
   "cell_type": "code",
   "execution_count": 14,
   "id": "356033c1",
   "metadata": {},
   "outputs": [
    {
     "name": "stdout",
     "output_type": "stream",
     "text": [
      "{'query': 'What parking options are available?', 'result': 'At the new location, there are a total of 168 parking spaces, of which 72 are equipped with E-charging stations. Additionally, there are 157 indoor bicycle parking spaces, with 12 of those also having E-charging stations.', 'source_documents': [Document(id='77f3b202-ba4b-4788-825a-6f11fc2ee780', metadata={'creator': 'PyPDF', 'producer': 'PyPDF', 'page': 0, 'subdirectory': 'Confluence New HQ', 'creationdate': '', 'total_pages': 1, 'page_label': '1', 'file_type': '.pdf', 'source': 'W:\\\\T1368-WAM AI\\\\03 Projects\\\\02 AI Projects\\\\01 Berenberg AI Assistant (BAIA)\\\\15 newHQ data\\\\_new\\\\Confluence New HQ\\\\20252807_CONFLUENCE_Parken.pdf'}, page_content='10) Parken & Mobilität\\nParken & Mobilität\\nParken & Mobilität\\nParkplatzbuchung\\nFahrrad\\nParkplatzbuchung\\nFrage Antwort\\n1 Welche Parkmöglichkeiten gibt es am \\nneuen Standort?\\nAm Standort gibt es 168 Pakplätze, davon 72 mit E-Ladesäulen. Sowie 157 Indoor-\\nFahrradstellplätze, 12 davon mit E-Ladesäule.\\n2 Wieviele Kundenparkplätze stehen zur \\nVerfügung?\\nInsgesamt gibt es 10 Kundenparkplätze.\\n3 Wie kann ich einen Parkplatz buchen?Die Buchung erfolgt über eine zentrale Park-App.\\n4 Kann ich mehrere Kennzeichen in der \\nApp hinterlegen?\\nJa, in der App können mehrere Kennzeichen hinterlegt werden.\\n5 Was passiert, wenn ich ohne Buchung in \\ndie Tiefgarage fahre?\\nWer ohne Buchung in die Tiefgarage fährt, kann sich spontan einen Parkplatz in der App \\nbuchen. Ansonsten wird kostenpflichtig abgeschleppt.\\n6 Wie komme ich in die Tiefgarage? Der Zutritt erfolgt entweder mit der App oder der Mitarbeiter-Zutrittskarte.\\n\\xa0Fahrrad\\nFrage Antwort\\n1 Wann kann ich mein Fahrrad im Gebäude abstellen \\noder abholen?'), Document(id='6d75f9e3-3594-4c9e-8d1a-e31178ccbdaf', metadata={'file_type': '.pdf', 'total_pages': 1, 'producer': 'PyPDF', 'page': 0, 'creationdate': '', 'creator': 'PyPDF', 'source': 'W:\\\\T1368-WAM AI\\\\03 Projects\\\\02 AI Projects\\\\01 Berenberg AI Assistant (BAIA)\\\\15 newHQ data\\\\_new\\\\Confluence New HQ\\\\20252807_CONFLUENCE_Parken.pdf', 'page_label': '1', 'subdirectory': 'Confluence New HQ'}, page_content='10) Parken & Mobilität\\nParken & Mobilität\\nParken & Mobilität\\nParkplatzbuchung\\nFahrrad\\nParkplatzbuchung\\nFrage Antwort\\n1 Welche Parkmöglichkeiten gibt es am \\nneuen Standort?\\nAm Standort gibt es 168 Pakplätze, davon 72 mit E-Ladesäulen. Sowie 157 Indoor-\\nFahrradstellplätze, 12 davon mit E-Ladesäule.\\n2 Wieviele Kundenparkplätze stehen zur \\nVerfügung?\\nInsgesamt gibt es 10 Kundenparkplätze.\\n3 Wie kann ich einen Parkplatz buchen?Die Buchung erfolgt über eine zentrale Park-App.\\n4 Kann ich mehrere Kennzeichen in der \\nApp hinterlegen?\\nJa, in der App können mehrere Kennzeichen hinterlegt werden.\\n5 Was passiert, wenn ich ohne Buchung in \\ndie Tiefgarage fahre?\\nWer ohne Buchung in die Tiefgarage fährt, kann sich spontan einen Parkplatz in der App \\nbuchen. Ansonsten wird kostenpflichtig abgeschleppt.\\n6 Wie komme ich in die Tiefgarage? Der Zutritt erfolgt entweder mit der App oder der Mitarbeiter-Zutrittskarte.\\n\\xa0Fahrrad\\nFrage Antwort\\n1 Wann kann ich mein Fahrrad im Gebäude abstellen \\noder abholen?'), Document(id='80912238-f168-46e3-8b0f-c4782f9d83cb', metadata={'source': 'W:\\\\T1368-WAM AI\\\\03 Projects\\\\02 AI Projects\\\\01 Berenberg AI Assistant (BAIA)\\\\15 newHQ data\\\\_new\\\\Newsletter\\\\20240901_NEWSLETTER_Parken.pdf', 'creationdate': '2025-07-23T17:51:58+02:00', 'page': 0, 'total_pages': 2, 'creator': 'Adobe InDesign 19.4 (Windows)', 'moddate': '2025-07-23T17:51:58+02:00', 'subdirectory': 'Newsletter', 'file_type': '.pdf', 'page_label': '1', 'producer': 'Adobe PDF Library 17.0'}, page_content='5.  Sie können ebenfalls hinterlegen ob Sie einen\\n     Standard-Stellplatz, einen E-Stellplatz oder \\n     einen Behindertenstellplatz brauchen. \\n6.  Die Reservierung ist mit nur einem Klick in \\n     der App möglich, Sie erhalten sofort die \\n      Bestätigung!\\n7.   Sie können maximal 5 Tage auf \\n      einmal buchen.\\n8.   Am Buchungstag fahren Sie mit\\n      Ihrem Auto in die Tiefgarage und\\n     der Zugang erfolgt über Ihre all-\\n      gemeine Zutrittskarte.\\n9.   Es gibt eine In-App-Navigations-\\n      karte, die das Finden des Stell-\\n      platzes erleichtert.\\n10. Ende des Monats erfolgt die\\n      automatische Abrechnung \\n      der Stellplatznutzung.\\n168\\nPARKPLÄTZE - davon\\n46 PARKPLÄTZE - mit E-Ladesäule\\nParken im neuen Gebäude')]}\n"
     ]
    }
   ],
   "source": [
    "from langchain_core.prompts import PromptTemplate\n",
    "\n",
    "custom_prompt_template = \"\"\"You are a Confluence chatbot answering questions. Use the following pieces of context to answer the question at the end. If you don't know the answer, say that you don't know, don't try to make up an answer.\n",
    "\n",
    "{context}\n",
    "\n",
    "Question: {question}\n",
    "Helpful Answer:\"\"\"\n",
    "CUSTOMPROMPT = PromptTemplate(\n",
    "    template=custom_prompt_template, input_variables=[\"context\", \"question\"]\n",
    ")\n",
    "\n",
    "qa_chain = RetrievalQA.from_chain_type(\n",
    "    llm=llm,\n",
    "    chain_type=\"stuff\",\n",
    "    retriever=retriever,\n",
    "    return_source_documents=True,\n",
    "    chain_type_kwargs={\"prompt\": CUSTOMPROMPT}\n",
    ")\n",
    "\n",
    "query = \"What parking options are available?\"\n",
    "result = qa_chain.invoke(query)\n",
    "print(result)"
   ]
  },
  {
   "cell_type": "code",
   "execution_count": null,
   "id": "2c287536",
   "metadata": {},
   "outputs": [
    {
     "data": {
      "text/plain": [
       "{'query': 'What parking options are available?',\n",
       " 'result': 'At the new location, there are a total of 168 parking spaces, of which 72 are equipped with E-charging stations. Additionally, there are 157 indoor bicycle parking spaces, with 12 of those also having E-charging stations.',\n",
       " 'source_documents': [Document(id='77f3b202-ba4b-4788-825a-6f11fc2ee780', metadata={'creator': 'PyPDF', 'producer': 'PyPDF', 'page': 0, 'subdirectory': 'Confluence New HQ', 'creationdate': '', 'total_pages': 1, 'page_label': '1', 'file_type': '.pdf', 'source': 'W:\\\\T1368-WAM AI\\\\03 Projects\\\\02 AI Projects\\\\01 Berenberg AI Assistant (BAIA)\\\\15 newHQ data\\\\_new\\\\Confluence New HQ\\\\20252807_CONFLUENCE_Parken.pdf'}, page_content='10) Parken & Mobilität\\nParken & Mobilität\\nParken & Mobilität\\nParkplatzbuchung\\nFahrrad\\nParkplatzbuchung\\nFrage Antwort\\n1 Welche Parkmöglichkeiten gibt es am \\nneuen Standort?\\nAm Standort gibt es 168 Pakplätze, davon 72 mit E-Ladesäulen. Sowie 157 Indoor-\\nFahrradstellplätze, 12 davon mit E-Ladesäule.\\n2 Wieviele Kundenparkplätze stehen zur \\nVerfügung?\\nInsgesamt gibt es 10 Kundenparkplätze.\\n3 Wie kann ich einen Parkplatz buchen?Die Buchung erfolgt über eine zentrale Park-App.\\n4 Kann ich mehrere Kennzeichen in der \\nApp hinterlegen?\\nJa, in der App können mehrere Kennzeichen hinterlegt werden.\\n5 Was passiert, wenn ich ohne Buchung in \\ndie Tiefgarage fahre?\\nWer ohne Buchung in die Tiefgarage fährt, kann sich spontan einen Parkplatz in der App \\nbuchen. Ansonsten wird kostenpflichtig abgeschleppt.\\n6 Wie komme ich in die Tiefgarage? Der Zutritt erfolgt entweder mit der App oder der Mitarbeiter-Zutrittskarte.\\n\\xa0Fahrrad\\nFrage Antwort\\n1 Wann kann ich mein Fahrrad im Gebäude abstellen \\noder abholen?'),\n",
       "  Document(id='6d75f9e3-3594-4c9e-8d1a-e31178ccbdaf', metadata={'file_type': '.pdf', 'total_pages': 1, 'producer': 'PyPDF', 'page': 0, 'creationdate': '', 'creator': 'PyPDF', 'source': 'W:\\\\T1368-WAM AI\\\\03 Projects\\\\02 AI Projects\\\\01 Berenberg AI Assistant (BAIA)\\\\15 newHQ data\\\\_new\\\\Confluence New HQ\\\\20252807_CONFLUENCE_Parken.pdf', 'page_label': '1', 'subdirectory': 'Confluence New HQ'}, page_content='10) Parken & Mobilität\\nParken & Mobilität\\nParken & Mobilität\\nParkplatzbuchung\\nFahrrad\\nParkplatzbuchung\\nFrage Antwort\\n1 Welche Parkmöglichkeiten gibt es am \\nneuen Standort?\\nAm Standort gibt es 168 Pakplätze, davon 72 mit E-Ladesäulen. Sowie 157 Indoor-\\nFahrradstellplätze, 12 davon mit E-Ladesäule.\\n2 Wieviele Kundenparkplätze stehen zur \\nVerfügung?\\nInsgesamt gibt es 10 Kundenparkplätze.\\n3 Wie kann ich einen Parkplatz buchen?Die Buchung erfolgt über eine zentrale Park-App.\\n4 Kann ich mehrere Kennzeichen in der \\nApp hinterlegen?\\nJa, in der App können mehrere Kennzeichen hinterlegt werden.\\n5 Was passiert, wenn ich ohne Buchung in \\ndie Tiefgarage fahre?\\nWer ohne Buchung in die Tiefgarage fährt, kann sich spontan einen Parkplatz in der App \\nbuchen. Ansonsten wird kostenpflichtig abgeschleppt.\\n6 Wie komme ich in die Tiefgarage? Der Zutritt erfolgt entweder mit der App oder der Mitarbeiter-Zutrittskarte.\\n\\xa0Fahrrad\\nFrage Antwort\\n1 Wann kann ich mein Fahrrad im Gebäude abstellen \\noder abholen?'),\n",
       "  Document(id='80912238-f168-46e3-8b0f-c4782f9d83cb', metadata={'source': 'W:\\\\T1368-WAM AI\\\\03 Projects\\\\02 AI Projects\\\\01 Berenberg AI Assistant (BAIA)\\\\15 newHQ data\\\\_new\\\\Newsletter\\\\20240901_NEWSLETTER_Parken.pdf', 'creationdate': '2025-07-23T17:51:58+02:00', 'page': 0, 'total_pages': 2, 'creator': 'Adobe InDesign 19.4 (Windows)', 'moddate': '2025-07-23T17:51:58+02:00', 'subdirectory': 'Newsletter', 'file_type': '.pdf', 'page_label': '1', 'producer': 'Adobe PDF Library 17.0'}, page_content='5.  Sie können ebenfalls hinterlegen ob Sie einen\\n     Standard-Stellplatz, einen E-Stellplatz oder \\n     einen Behindertenstellplatz brauchen. \\n6.  Die Reservierung ist mit nur einem Klick in \\n     der App möglich, Sie erhalten sofort die \\n      Bestätigung!\\n7.   Sie können maximal 5 Tage auf \\n      einmal buchen.\\n8.   Am Buchungstag fahren Sie mit\\n      Ihrem Auto in die Tiefgarage und\\n     der Zugang erfolgt über Ihre all-\\n      gemeine Zutrittskarte.\\n9.   Es gibt eine In-App-Navigations-\\n      karte, die das Finden des Stell-\\n      platzes erleichtert.\\n10. Ende des Monats erfolgt die\\n      automatische Abrechnung \\n      der Stellplatznutzung.\\n168\\nPARKPLÄTZE - davon\\n46 PARKPLÄTZE - mit E-Ladesäule\\nParken im neuen Gebäude')]}"
      ]
     },
     "execution_count": 17,
     "metadata": {},
     "output_type": "execute_result"
    }
   ],
   "source": [
    "result"
   ]
  },
  {
   "cell_type": "code",
   "execution_count": 26,
   "id": "1e525b55",
   "metadata": {},
   "outputs": [
    {
     "data": {
      "text/plain": [
       "'At the new location, there are a total of 168 parking spaces, of which 72 are equipped with E-charging stations. Additionally, there are 157 indoor bicycle parking spaces, with 12 of those also having E-charging stations.'"
      ]
     },
     "execution_count": 26,
     "metadata": {},
     "output_type": "execute_result"
    }
   ],
   "source": [
    "result['result']"
   ]
  }
 ],
 "metadata": {
  "kernelspec": {
   "display_name": "Python 3",
   "language": "python",
   "name": "python3"
  },
  "language_info": {
   "codemirror_mode": {
    "name": "ipython",
    "version": 3
   },
   "file_extension": ".py",
   "mimetype": "text/x-python",
   "name": "python",
   "nbconvert_exporter": "python",
   "pygments_lexer": "ipython3",
   "version": "3.13.0"
  }
 },
 "nbformat": 4,
 "nbformat_minor": 5
}
