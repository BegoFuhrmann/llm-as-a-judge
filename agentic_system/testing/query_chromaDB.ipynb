{
 "cells": [
  {
   "cell_type": "markdown",
   "id": "c5a1de84",
   "metadata": {},
   "source": [
    "# init azure openai"
   ]
  },
  {
   "cell_type": "code",
   "execution_count": 79,
   "id": "7d372bc8",
   "metadata": {},
   "outputs": [],
   "source": [
    "# set NO_PROXY=localhost,127.0.0.1,::1\n",
    "import os\n",
    "os.environ[\"NO_PROXY\"] = \"localhost,127.0.1,::1\""
   ]
  },
  {
   "cell_type": "code",
   "execution_count": 80,
   "id": "8bf60908",
   "metadata": {},
   "outputs": [],
   "source": [
    "# Azure OpenAI setup\n",
    "from azure.identity import DefaultAzureCredential\n",
    "from langchain_openai import AzureChatOpenAI\n",
    "import os\n",
    "\n",
    "from dotenv import load_dotenv\n",
    "\n",
    "load_dotenv()\n",
    "\n",
    "default_credential = DefaultAzureCredential()\n",
    "token = default_credential.get_token(\"https://cognitiveservices.azure.com/.default\")\n",
    "api_key = token.token\n",
    "\n",
    "# set token to the env variable AZURE_OPENAI_API_KEY\n",
    "os.environ[\"AZURE_OPENAI_API_KEY\"] = token.token"
   ]
  },
  {
   "cell_type": "code",
   "execution_count": 81,
   "id": "f3ab7385",
   "metadata": {},
   "outputs": [],
   "source": [
    "llm = AzureChatOpenAI(\n",
    "    azure_endpoint=\"https://begobaiatest.openai.azure.com/\",\n",
    "    azure_deployment=\"gpt-4o-mini\",\n",
    "    openai_api_version=\"2024-05-01-preview\",\n",
    "    temperature=0,\n",
    "    max_tokens=None,\n",
    "    timeout=None,\n",
    "    max_retries=2,\n",
    ")"
   ]
  },
  {
   "cell_type": "markdown",
   "id": "78989497",
   "metadata": {},
   "source": [
    "## init embeddings"
   ]
  },
  {
   "cell_type": "code",
   "execution_count": 83,
   "id": "655f60dc",
   "metadata": {},
   "outputs": [],
   "source": [
    "# Import and initialize HuggingFace embedder\n",
    "from langchain_huggingface import HuggingFaceEmbeddings\n",
    "\n",
    "EMBEDDING_MODEL = \"sentence-transformers/all-MiniLM-L6-v2\"\n",
    "embeddings = HuggingFaceEmbeddings(\n",
    "    model_name=EMBEDDING_MODEL,\n",
    "    model_kwargs={\"device\": \"cpu\"}\n",
    ")"
   ]
  },
  {
   "cell_type": "markdown",
   "id": "f530edfa",
   "metadata": {},
   "source": [
    "## Get Bego Confluence data"
   ]
  },
  {
   "cell_type": "code",
   "execution_count": 76,
   "id": "974322d3",
   "metadata": {},
   "outputs": [],
   "source": [
    "from langchain_community.document_loaders import ConfluenceLoader\n",
    "\n",
    "loader = ConfluenceLoader(\n",
    "    url='https://confluence.berenberg.io/',\n",
    "    token=\"MTE0MDMyNjMyMTQ1OkenuaSV/rjfpZWQntgILL5Y9d6K\",\n",
    "    space_key='WIA',\n",
    "    limit=50\n",
    ")\n",
    "documents = loader.load()"
   ]
  },
  {
   "cell_type": "code",
   "execution_count": 77,
   "id": "2c54ac51",
   "metadata": {},
   "outputs": [
    {
     "data": {
      "text/plain": [
       "Document(metadata={'title': '01. RPA Processes', 'id': '273802773', 'source': 'https://confluence.berenberg.io/spaces/WIA/pages/273802773/01.+RPA+Processes', 'when': '2025-03-21T09:13:57.000+01:00'}, page_content='Processes dd.mm.yy false true . 3 false SELECT * FROM T* true false false false false false 1725266198999_0 false 365|5|8|y w d h m|y w d h m true true 2 RPA never page-descendants')"
      ]
     },
     "execution_count": 77,
     "metadata": {},
     "output_type": "execute_result"
    }
   ],
   "source": [
    "documents[1]"
   ]
  },
  {
   "cell_type": "code",
   "execution_count": 78,
   "id": "6bf44ef9",
   "metadata": {},
   "outputs": [],
   "source": [
    "from langchain.text_splitter import RecursiveCharacterTextSplitter\n",
    "text_splitter = RecursiveCharacterTextSplitter(\n",
    "    chunk_size=1000,\n",
    "    chunk_overlap=100,\n",
    "    length_function=len,\n",
    "    add_start_index=True)\n",
    "\n",
    "splits = text_splitter.split_documents(documents)"
   ]
  },
  {
   "cell_type": "code",
   "execution_count": 84,
   "id": "a116c539",
   "metadata": {},
   "outputs": [],
   "source": [
    "from langchain_chroma import Chroma\n",
    "\n",
    "# Create and persist vector database\n",
    "persist_directory = \"confluence_chroma_db\"\n",
    "vectordb = Chroma.from_documents(\n",
    "    documents=splits,\n",
    "    embedding=embeddings,\n",
    "    persist_directory=persist_directory\n",
    ")"
   ]
  },
  {
   "cell_type": "markdown",
   "id": "c9653223",
   "metadata": {},
   "source": [
    "## Query ChromaDB (confluence)"
   ]
  },
  {
   "cell_type": "code",
   "execution_count": 85,
   "id": "e3619fd5",
   "metadata": {},
   "outputs": [],
   "source": [
    "# Create retriever\n",
    "retriever = vectordb.as_retriever(search_kwargs={\"k\": 5})"
   ]
  },
  {
   "cell_type": "code",
   "execution_count": 86,
   "id": "c236cedd",
   "metadata": {},
   "outputs": [],
   "source": [
    "from langchain.chains import RetrievalQA\n",
    "\n",
    "# Create QA chain\n",
    "qa_chain = RetrievalQA.from_chain_type(\n",
    "    llm=llm,\n",
    "    chain_type=\"refine\",\n",
    "    retriever=retriever,\n",
    "    return_source_documents=True\n",
    ")"
   ]
  },
  {
   "cell_type": "code",
   "execution_count": 87,
   "id": "f96ca01c",
   "metadata": {},
   "outputs": [
    {
     "name": "stdout",
     "output_type": "stream",
     "text": [
      "{'query': 'Welches Risiko birgt BAIA laut dem EU-AI-Act?', 'result': 'The additional context provided does not significantly alter the original answer regarding the risks associated with BAIA under the EU AI Act. However, it does highlight specific business units and processes involved, which can be integrated into the response for clarity.\\n\\n---\\n\\nBAIA is classified as \"Limited Risk\" under the EU AI Act due to its interaction with users and the logging of data, which necessitates appropriate safeguards. By leveraging the standard OpenAI model and implementing robust data protection measures, BAIA emphasizes security, privacy, and transparency within the Wealth & Asset Management (WAM) Middle Office, particularly in processes like EUC-1059.\\n\\nKey aspects of BAIA\\'s compliance include:\\n\\n1. **GDPR Compliance**: BAIA adheres to the General Data Protection Regulation (GDPR) by ensuring the lawful, fair, and transparent processing of personal data.\\n\\n2. **Lawful Basis for Processing**: The logging of user interactions is based on legitimate interests, such as system improvement and compliance obligations.\\n\\n3. **Data Subject Rights**: Users have the right to access, rectify, or request deletion of their personal data in accordance with GDPR provisions.\\n\\n4. **Privacy Notices**: Clear information is provided to users about how their data is collected, used, and protected.\\n\\n5. **Transparency and Accountability**: Users are informed that their interactions are logged and associated with their accounts, ensuring clear communication about data handling practices.\\n\\nOverall, while BAIA presents limited risk, its design as a valuable tool for employees in the WAM Middle Office upholds the highest standards of compliance and ethical AI deployment. It is essential to maintain robust data protection measures to safeguard user information and comply with regulatory requirements, particularly in the context of processes managed through platforms like UiPath Orchestrator.', 'source_documents': [Document(id='04aa5764-9ae1-4522-b0f6-94d2532ac818', metadata={'start_index': 1799, 'when': '2025-02-04T16:56:56.000+01:00', 'title': 'EU AI Act Classification and Compliance Overview', 'id': '287315403', 'source': 'https://confluence.berenberg.io/spaces/WIA/pages/287315403/EU+AI+Act+Classification+and+Compliance+Overview'}, page_content='and access to configuration settings are restricted based on user roles within the organization. Compliance with Company Policies : BAIA operates within the established IT security frameworks and adheres to all internal policies regarding software deployment and data handling. Compliance and Transparency AI Disclosure : Clear notifications inform users that they are interacting with an AI system. Usage Guidelines : Users are provided with guidelines on acceptable use, emphasizing the importance of not sharing sensitive or personal data with the chatbot. Disclaimer for AI-Generated Content : Responses include disclaimers advising users to verify critical information and consult human experts when necessary. Alignment with EU AI Act\\'s Provisions BAIA aligns with the EU AI Act\\'s provisions through the following measures: Risk-Based Compliance Limited Risk Classification : BAIA is classified as \"Limited Risk\" under the EU AI Act because it involves interaction with users where data is'), Document(id='ad9886c8-5c43-4ff1-af2e-f7172ae58f89', metadata={'source': 'https://confluence.berenberg.io/spaces/WIA/pages/296685007/Benutzerhandbuch+User+manual', 'start_index': 7209, 'id': '296685007', 'when': '2025-02-20T10:57:04.000+01:00', 'title': 'Benutzerhandbuch / User manual'}, page_content='von der Rollenzuweisung ausgeschlossen und müssen die \"RL-BAIA-Users\" Berechtigung individuell in SailPoint beantragen. Eine automatische Zuweisung für nicht-primäre Accounts ist nicht möglich. Nur individuelle Anträge für notwendige Berechtigungen können gestellt werden. 7 Kontakt Wenn Sie weitere Fragen haben oder Rückmeldung geben möchten, wenden Sie sich bitte an: baia@berenberg.de 60895824 icon-sp-quote-left English (Introduction|User interface|Input window|Output window|Using the application|Entering prompts|Interaction with the LLM|tips for effective use|Troubleshooting|Frequently Asked Questions \\\\(FAQ\\\\)|Contact) 1 Introduction Welcome to your Berenberg AI Assistant (BAIA). BAIA enables you to communicate with a powerful Large Language Model (LLM) via an input window. You can ask questions, request information or generate creative texts. 2 User interface 2.1 Input window The input window is located at the bottom of the user interface. You can enter your prompts here. Text'), Document(id='32e95c4d-3ed4-42f6-b7a2-e9cebb40e327', metadata={'start_index': 2700, 'title': 'EU AI Act Classification and Compliance Overview', 'when': '2025-02-04T16:56:56.000+01:00', 'id': '287315403', 'source': 'https://confluence.berenberg.io/spaces/WIA/pages/287315403/EU+AI+Act+Classification+and+Compliance+Overview'}, page_content='as \"Limited Risk\" under the EU AI Act because it involves interaction with users where data is logged, necessitating appropriate safeguards. Mitigation Measures : Implementation of security protocols and privacy measures reduces potential risks associated with data handling. Data Protection and Privacy GDPR Compliance : BAIA complies with the General Data Protection Regulation (GDPR) by ensuring lawful, fair, and transparent processing of personal data. Lawful Basis for Processing : The logging of user interactions is based on legitimate interests, such as system improvement and compliance obligations. Data Subject Rights : Users have the right to access, rectify, or request deletion of their personal data in accordance with GDPR provisions. Privacy Notices : Clear information is provided to users about how their data is collected, used, and protected. Transparency and Accountability Clear Communication : Users are informed that their interactions are logged and associated with their'), Document(id='3d907fda-ceed-4dc6-9df0-aa7d6e347e75', metadata={'id': '287315403', 'source': 'https://confluence.berenberg.io/spaces/WIA/pages/287315403/EU+AI+Act+Classification+and+Compliance+Overview', 'when': '2025-02-04T16:56:56.000+01:00', 'title': 'EU AI Act Classification and Compliance Overview', 'start_index': 4500}, page_content='technology within our organization. By leveraging the standard OpenAI model and implementing robust data protection measures, BAIA maintains a \"Limited Risk\" classification under the EU AI Act. Its design emphasizes security, privacy, and transparency, ensuring that it serves as a valuable tool for employees while upholding the highest standards of compliance and ethical AI deployment.'), Document(id='e8cdd35c-39dc-41bd-b173-52ca00198989', metadata={'title': 'MSA: Saving e-mail attachments for different use cases', 'source': 'https://confluence.berenberg.io/spaces/WIA/pages/273802784/MSA+Saving+e-mail+attachments+for+different+use+cases', 'when': '2025-07-31T15:09:19.000+02:00', 'start_index': 4528, 'id': '273802784'}, page_content='Responsible business unit(s) WAM Middle Office Business process(es) EUC EUC-1059 Jira false Berenberg JIRA e5c00326-2eaf-39df-b3f0-65345158b678 WIA-1 PDD 250 DSD 250 Risk assessment 250 UiPath Orchestrator folder(s) Wealth & Asset Management/Portfolio Data & Analytics Wealth & Asset Management/WAM Middle Office Terminal server(s) NT-UIPIB1-P07 Technical user(s) WAM-PDA_Robo WAM_Robo')]}\n"
     ]
    }
   ],
   "source": [
    "query = \"Welches Risiko birgt BAIA laut dem EU-AI-Act?\"\n",
    "result = qa_chain.invoke(query)\n",
    "print(result)"
   ]
  },
  {
   "cell_type": "markdown",
   "id": "6999f874",
   "metadata": {},
   "source": [
    "## Query ChromaDB (newHQ)"
   ]
  },
  {
   "cell_type": "code",
   "execution_count": null,
   "id": "45ae15bd",
   "metadata": {},
   "outputs": [],
   "source": [
    "# 3) Load your existing ChromaDB using the UNC path\n",
    "from langchain_chroma import Chroma\n",
    "\n",
    "PERSIST_DIR     = r\"\\\\dnsbego.de\\dfsbego\\home04\\FuhrmannD\\Documents\\01_Trainee\\Master\\Thesis\\code\\agentic_system\\chromaDB\"\n",
    "COLLECTION_NAME = \"berenberg_newhq_docs\"\n",
    "\n",
    "vectordb = Chroma(\n",
    "    persist_directory=PERSIST_DIR,\n",
    "    embedding_function=embeddings,\n",
    "    collection_name=COLLECTION_NAME\n",
    ")"
   ]
  },
  {
   "cell_type": "code",
   "execution_count": 8,
   "id": "5cf3c956",
   "metadata": {},
   "outputs": [],
   "source": [
    "# 4) Do a semantic search\n",
    "query = \"What parking options are available?\"\n",
    "TOP_K = 5\n",
    "\n",
    "results = vectordb.similarity_search_with_score(query, k=TOP_K)"
   ]
  },
  {
   "cell_type": "code",
   "execution_count": 9,
   "id": "aa4047db",
   "metadata": {},
   "outputs": [
    {
     "name": "stdout",
     "output_type": "stream",
     "text": [
      "=== Hit #1 (score: 1.2384) ===\n",
      "\n",
      "10) Parken & Mobilität\n",
      "Parken & Mobilität\n",
      "Parken & Mobilität\n",
      "Parkplatzbuchung\n",
      "Fahrrad\n",
      "Parkplatzbuchung\n",
      "Frage Antwort\n",
      "1 Welche Parkmöglichkeiten gibt es am \n",
      "neuen Standort?\n",
      "Am Standort gibt es 168 Pakplätze, davon 72 mit E-Ladesäulen. Sowie 157 Indoor-\n",
      "Fahrradstellplätze, 12 davon mit E-Ladesäule.\n",
      "2 Wieviele Kundenparkplätze stehen zur \n",
      "Verfügung?\n",
      "Insgesamt gibt es 10 Kundenparkplätze.\n",
      "3 Wie kann ich einen Parkplatz buchen?Die Buchung erfolgt über eine zentrale Park-App.\n",
      "4 Kann ich mehrere Kennze ...\n",
      "\n",
      "   ↳ metadata: {'page': 0, 'producer': 'PyPDF', 'creationdate': '', 'source': 'W:\\\\T1368-WAM AI\\\\03 Projects\\\\02 AI Projects\\\\01 Berenberg AI Assistant (BAIA)\\\\15 newHQ data\\\\_new\\\\Confluence New HQ\\\\20252807_CONFLUENCE_Parken.pdf', 'file_type': '.pdf', 'subdirectory': 'Confluence New HQ', 'page_label': '1', 'creator': 'PyPDF', 'total_pages': 1} \n",
      "\n",
      "=== Hit #2 (score: 1.3496) ===\n",
      "\n",
      "5.  Sie können ebenfalls hinterlegen ob Sie einen\n",
      "     Standard-Stellplatz, einen E-Stellplatz oder \n",
      "     einen Behindertenstellplatz brauchen. \n",
      "6.  Die Reservierung ist mit nur einem Klick in \n",
      "     der App möglich, Sie erhalten sofort die \n",
      "      Bestätigung!\n",
      "7.   Sie können maximal 5 Tage auf \n",
      "      einmal buchen.\n",
      "8.   Am Buchungstag fahren Sie mit\n",
      "      Ihrem Auto in die Tiefgarage und\n",
      "     der Zugang erfolgt über Ihre all-\n",
      "      gemeine Zutrittskarte.\n",
      "9.   Es gibt eine In-App-Navigations- ...\n",
      "\n",
      "   ↳ metadata: {'source': 'W:\\\\T1368-WAM AI\\\\03 Projects\\\\02 AI Projects\\\\01 Berenberg AI Assistant (BAIA)\\\\15 newHQ data\\\\_new\\\\Newsletter\\\\20240901_NEWSLETTER_Parken.pdf', 'moddate': '2025-07-23T17:51:58+02:00', 'page_label': '1', 'creator': 'Adobe InDesign 19.4 (Windows)', 'page': 0, 'subdirectory': 'Newsletter', 'file_type': '.pdf', 'creationdate': '2025-07-23T17:51:58+02:00', 'total_pages': 2, 'producer': 'Adobe PDF Library 17.0'} \n",
      "\n",
      "=== Hit #3 (score: 1.4271) ===\n",
      "\n",
      "INSIGHTS\n",
      "PROJEKT\n",
      "NEW HQ  NEWSLETTER                 # 06\n",
      "NEW HQ\n",
      "NEWSLETTER\n",
      "Zahlen - Daten - Fakten\n",
      "FAKTENCHECK ZUM NEUEN HAUPTQUARTIER\n",
      "168\n",
      "157\n",
      "PARKPLÄTZE \n",
      "FAHRRADSTELLPLÄTZE\n",
      "72 PARKPLÄTZE (inkl.) \n",
      "- mit E-Ladesäule\n",
      "12 PARKPLÄTZE (inkl.) \n",
      "- mit E-Ladesäule\n",
      "300\n",
      "900\n",
      "50\n",
      "44\n",
      "40\n",
      "20\n",
      "10\n",
      "11\n",
      "1\n",
      "1\n",
      "1\n",
      "900\n",
      "Spinde in UG 2 als Ergänzung\n",
      "Arbeitsplätze\n",
      "Telefonboxen\n",
      "Meetingräume\n",
      "Think Tanks\n",
      "Office-For-One-Day\n",
      "6 Dachterrassen+ 4 Balkone\n",
      "Duschen\n",
      "Mitarbeiter Restaurant\n",
      "Marketplace\n",
      "Multifunktionsraum\n",
      "Schließfächer ...\n",
      "\n",
      "   ↳ metadata: {'producer': 'Adobe PDF Library 17.0', 'file_type': '.pdf', 'source': 'W:\\\\T1368-WAM AI\\\\03 Projects\\\\02 AI Projects\\\\01 Berenberg AI Assistant (BAIA)\\\\15 newHQ data\\\\_new\\\\Newsletter\\\\20240801_Newsletter_Faktencheck.pdf', 'creator': 'Adobe InDesign 19.4 (Windows)', 'page_label': '2', 'creationdate': '2025-07-23T17:47:02+02:00', 'subdirectory': 'Newsletter', 'page': 1, 'total_pages': 2, 'moddate': '2025-07-23T17:47:02+02:00'} \n",
      "\n",
      "=== Hit #4 (score: 1.4415) ===\n",
      "\n",
      "Liebe Stellplatz-Interessenten,\n",
      " \n",
      "vielen Dank für Ihr Interesse an einem Dauerstellplatz für unser \n",
      "Neues Headquarter am Überseering. Insgesamt haben uns ca. \n",
      "80 Anfragen erreicht.\n",
      "Wir freuen uns, Ihnen nun nähere Informationen zur Vergabe \n",
      "der Stellplätze geben zu können:\n",
      "• Externe Stellplätze  im nahegelegenen Parkhaus Übersee -\n",
      "ring 32a (ca. 3 Minuten Gehweg) bieten wir für 90,00 € brutto \n",
      "pro Monat an. Wir können 50 Parkplätze dieses Typs anbieten.\n",
      "• Interne Stellplätze  direkt in der Tiefga ...\n",
      "\n",
      "   ↳ metadata: {'file_type': '.pdf', 'subdirectory': 'Newsletter', 'total_pages': 1, 'page': 0, 'producer': 'Adobe PDF Library 17.0', 'source': 'W:\\\\T1368-WAM AI\\\\03 Projects\\\\02 AI Projects\\\\01 Berenberg AI Assistant (BAIA)\\\\15 newHQ data\\\\_new\\\\Newsletter\\\\20250501_NEWSLETTER_Parken_v3.pdf', 'creator': 'Adobe InDesign 20.1 (Windows)', 'page_label': '1', 'moddate': '2025-07-23T18:05:07+02:00', 'creationdate': '2025-07-23T18:05:07+02:00'} \n",
      "\n",
      "=== Hit #5 (score: 1.4558) ===\n",
      "\n",
      "(bestimmten) Stellplatz benötigen, \n",
      "werden wir eine Lösung anbieten.\n",
      "Für die Gäste stehen zusätzlich \n",
      "zehn farblich orange gekennzeich-\n",
      "nete Stellplätze zur Verfügung. \n",
      "Davon sind sechs Stellplätze mit \n",
      "E-Wallboxen ausgestattet und ein \n",
      "Stellplatz behindertengerecht. \n",
      "Am Wochenende gibt es für \n",
      "jeden Mitarbeiter die Möglichkeit, \n",
      "kostenlos auf den Gästestellplät -\n",
      "zen zu parken.\n",
      "NEW HQ\n",
      "NEWSLETTER\n",
      "UPDATES\n",
      "PROJEKT\n",
      "NEW HQ  NEWSLETTER                 # 07\n",
      " Wie funktioniert die App?\n",
      "1.  Laden Sie die ...\n",
      "\n",
      "   ↳ metadata: {'file_type': '.pdf', 'creator': 'Adobe InDesign 19.4 (Windows)', 'source': 'W:\\\\T1368-WAM AI\\\\03 Projects\\\\02 AI Projects\\\\01 Berenberg AI Assistant (BAIA)\\\\15 newHQ data\\\\_new\\\\Newsletter\\\\20240901_NEWSLETTER_Parken.pdf', 'total_pages': 2, 'page_label': '1', 'page': 0, 'subdirectory': 'Newsletter', 'creationdate': '2025-07-23T17:51:58+02:00', 'producer': 'Adobe PDF Library 17.0', 'moddate': '2025-07-23T17:51:58+02:00'} \n",
      "\n"
     ]
    }
   ],
   "source": [
    "# 5) Inspect the top hits\n",
    "for rank, (doc, score) in enumerate(results, start=1):\n",
    "    print(f\"=== Hit #{rank} (score: {score:.4f}) ===\\n\")\n",
    "    print(doc.page_content[:500].strip(), \"...\\n\")\n",
    "    print(\"   ↳ metadata:\", doc.metadata, \"\\n\")"
   ]
  },
  {
   "cell_type": "markdown",
   "id": "3d0125ab",
   "metadata": {},
   "source": [
    "## Create Agents with research & answering capabilities"
   ]
  },
  {
   "cell_type": "code",
   "execution_count": 56,
   "id": "e74b2766",
   "metadata": {},
   "outputs": [
    {
     "name": "stdout",
     "output_type": "stream",
     "text": [
      "Loading existing database from \\\\dnsbego.de\\dfsbego\\home04\\FuhrmannD\\Documents\\01_Trainee\\Master\\Thesis\\code\\agentic_system\\chromaDB\n",
      "Database contains 498 documents\n"
     ]
    }
   ],
   "source": [
    "# for confluence agent\n",
    "from langchain.chains import RetrievalQA\n",
    "from langchain_chroma import Chroma\n",
    "from langchain_huggingface import HuggingFaceEmbeddings\n",
    "\n",
    "embeddings = HuggingFaceEmbeddings(\n",
    "    model_name=\"all-MiniLM-L6-v2\",\n",
    "    model_kwargs={'device': 'cpu'}\n",
    ")\n",
    "\n",
    "# Define persist directory\n",
    "persist_directory = PERSIST_DIR\n",
    "\n",
    "# Check if the database already exists\n",
    "if os.path.exists(persist_directory) and len(os.listdir(persist_directory)) > 0:\n",
    "    print(f\"Loading existing database from {persist_directory}\")\n",
    "    # Load the existing database with the correct collection name\n",
    "    vectordb_for_qa = Chroma(\n",
    "        persist_directory=persist_directory,\n",
    "        embedding_function=embeddings,\n",
    "        collection_name=COLLECTION_NAME\n",
    "    )\n",
    "    \n",
    "    # Check if database has documents\n",
    "    try:\n",
    "        doc_count = vectordb_for_qa._collection.count()\n",
    "        print(f\"Database contains {doc_count} documents\")\n",
    "        \n",
    "        if doc_count > 0:\n",
    "            # Create retriever only if we have documents\n",
    "            retriever = vectordb_for_qa.as_retriever(search_kwargs={\"k\": 5})\n",
    "            \n",
    "            # Create QA chain\n",
    "            qa_chain = RetrievalQA.from_chain_type(\n",
    "                llm=llm,\n",
    "                chain_type=\"stuff\",\n",
    "                retriever=retriever,\n",
    "                return_source_documents=True\n",
    "            )\n",
    "        else:\n",
    "            qa_chain = None\n",
    "    except Exception as e:\n",
    "        print(f\"Error accessing collection: {e}\")\n",
    "        qa_chain = None\n",
    "        doc_count = 0\n",
    "else:\n",
    "    qa_chain = None\n",
    "    doc_count = 0\n",
    "\n",
    "def confluence_chroma_search(query: str) -> str:\n",
    "    \"\"\"\n",
    "    Search the Confluence vector database and return a formatted response.\n",
    "    \"\"\"\n",
    "    try:\n",
    "        # Ensure query is a string\n",
    "        if not isinstance(query, str):\n",
    "            query = str(query)\n",
    "        \n",
    "        print(f\"[DEBUG] Searching for: {query}\")\n",
    "        \n",
    "        # Check if we have a working QA chain\n",
    "        if qa_chain is None or doc_count == 0:\n",
    "            return f\"I searched for information about '{query}', but the Confluence vector database appears to be empty or not properly loaded. The ChromaDB was successfully created with 249 documents. Please check the collection name and ensure you're using the correct database instance.\"\n",
    "        \n",
    "        # Call the QA chain with the query\n",
    "        result = qa_chain.invoke({\"query\": query})\n",
    "        \n",
    "        print(f\"[DEBUG] QA chain result keys: {result.keys()}\")\n",
    "        \n",
    "        # Extract the answer from the result\n",
    "        answer = result.get(\"result\", \"No answer found\")\n",
    "        source_docs = result.get(\"source_documents\", [])\n",
    "        \n",
    "        print(f\"[DEBUG] Found {len(source_docs)} source documents\")\n",
    "        \n",
    "        # Format the response with sources\n",
    "        response = f\"Based on my search of the Confluence database for '{query}':\\n\\n{answer}\"\n",
    "        \n",
    "        if source_docs:\n",
    "            response += \"\\n\\nSources:\\n\"\n",
    "            for i, doc in enumerate(source_docs[:3], 1):  # Limit to top 3 sources\n",
    "                metadata = doc.metadata\n",
    "                source_info = metadata.get(\"source\", \"Unknown source\")\n",
    "                # Clean up the source path for better readability\n",
    "                if \"\\\\15 newHQ data\\\\_new\\\\\" in source_info:\n",
    "                    source_info = source_info.split(\"\\\\15 newHQ data\\\\_new\\\\\")[-1]\n",
    "                response += f\"{i}. {source_info}\\n\"\n",
    "        \n",
    "        return response\n",
    "        \n",
    "    except Exception as e:\n",
    "        error_msg = f\"I encountered an error while searching for '{query}': {str(e)}\"\n",
    "        print(f\"[DEBUG] {error_msg}\")\n",
    "        return error_msg"
   ]
  },
  {
   "cell_type": "code",
   "execution_count": 57,
   "id": "87c6f9fe",
   "metadata": {},
   "outputs": [],
   "source": [
    "from typing import Annotated\n",
    "\n",
    "# from langchain_community.tools import WikipediaQueryRun\n",
    "# from langchain_community.utilities import WikipediaAPIWrapper\n",
    "from datetime import datetime\n",
    "from langchain.tools import Tool\n",
    "\n",
    "# Define a tools that searches Wikipedia\n",
    "# wikipedia_tool = WikipediaQueryRun(api_wrapper=WikipediaAPIWrapper())\n",
    "\n",
    "\n",
    "# Define a new tool that returns the current datetime\n",
    "datetime_tool = Tool(\n",
    "    name=\"Datetime\",\n",
    "    func = lambda x: datetime.now().isoformat(),\n",
    "    description=\"Returns the current date and time in ISO format, ensuring precision and standardization.\"\n",
    ")\n",
    "\n",
    "# # Define a new tool that searches the web\n",
    "# web_search = Tool(\n",
    "#     name=\"web_search\",\n",
    "#     func=web_search_tool,\n",
    "#     description=\"Performs a comprehensive web search to retrieve the most recent and relevant information, providing search results along with contextual metadata.\"\n",
    "# )\n",
    "\n",
    "# Define a new tool that searches the Confluence space\n",
    "confluence_tool = Tool(\n",
    "    name=\"confluence_tool\",\n",
    "    func=confluence_chroma_search,\n",
    "    description=\"Searches the Confluence vector database to retrieve, filter, and summarize relevant documentation about RPA, AI, and specific projects like BAIA or BegoChat. Provide your search query as input to get relevant information from the indexed Confluence data.\"\n",
    ")"
   ]
  },
  {
   "cell_type": "code",
   "execution_count": 58,
   "id": "aae6e7c9",
   "metadata": {},
   "outputs": [],
   "source": [
    "# Define a helper function below to simplify adding new agent worker nodes.\n",
    "from langchain.agents import AgentExecutor, create_openai_tools_agent\n",
    "from langchain_core.messages import BaseMessage, HumanMessage\n",
    "from langchain_core.prompts import ChatPromptTemplate, MessagesPlaceholder\n",
    "from langchain_openai import ChatOpenAI\n",
    "\n",
    "def create_agent(llm: ChatOpenAI, system_prompt: str, tools: list):\n",
    "    # Each worker node will be given a name and some tools.\n",
    "    prompt = ChatPromptTemplate.from_messages(\n",
    "        [\n",
    "            (\n",
    "                \"system\",\n",
    "                system_prompt,\n",
    "            ),\n",
    "            MessagesPlaceholder(variable_name=\"messages\"),\n",
    "            MessagesPlaceholder(variable_name=\"agent_scratchpad\"),\n",
    "        ]\n",
    "    )\n",
    "    agent = create_openai_tools_agent(llm, tools, prompt)\n",
    "    executor = AgentExecutor(agent=agent, tools=tools)\n",
    "    return executor\n",
    "\n",
    "def agent_node(state, agent, name):\n",
    "    result = agent.invoke(state)\n",
    "    return {\"messages\": [HumanMessage(content=result[\"output\"], name=name)]}"
   ]
  },
  {
   "cell_type": "code",
   "execution_count": 59,
   "id": "5d86045d",
   "metadata": {},
   "outputs": [],
   "source": [
    "# Create agent supervisor\n",
    "## It will use function calling to choose the next worker node OR finish processing.\n",
    "from langchain_core.output_parsers.openai_functions import JsonOutputFunctionsParser\n",
    "from langchain_core.prompts import ChatPromptTemplate, MessagesPlaceholder\n",
    "\n",
    "members = [\"TimeProviderAgent\", \"ConfluenceSearchTool\"]\n",
    "system_prompt = (\n",
    "    f\"\"\"You are a supervisor tasked with managing a conversation between the following workers: {members}. \n",
    "\n",
    "Routing Guidelines:\n",
    "- If the user asks about TIME, DATE, or CURRENT TIME -> route to TimeProviderAgent\n",
    "- If the user asks about DOCUMENTS, CONFLUENCE, PROJECTS (like BAIA or BegoChat), PARKING, OFFICE INFO, RPA, AI, or any KNOWLEDGE QUESTIONS -> route to ConfluenceSearchTool\n",
    "- After a worker responds, evaluate if the question was adequately answered. If yes, respond with FINISH\n",
    "- If the worker couldn't help or the answer was incomplete, you may route to another worker or FINISH\n",
    "\n",
    "Given the following user request, respond with the worker to act next, or FINISH if the task is complete.\"\"\"\n",
    ")\n",
    "# Our team supervisor is an LLM node. It just picks the next agent to process and decides when the work is completed\n",
    "options = [\"FINISH\"] + members\n",
    "\n",
    "# Using openai function calling can make output parsing easier for us\n",
    "function_def = {\n",
    "    \"name\": \"route\",\n",
    "    \"description\": \"Select the next role.\",\n",
    "    \"parameters\": {\n",
    "        \"title\": \"routeSchema\",\n",
    "        \"type\": \"object\",\n",
    "        \"properties\": {\n",
    "            \"next\": {\n",
    "                \"title\": \"Next\",\n",
    "                \"anyOf\": [\n",
    "                    {\"enum\": options},\n",
    "                ],\n",
    "            }\n",
    "        },\n",
    "        \"required\": [\"next\"],\n",
    "    },\n",
    "}\n",
    "\n",
    "# Create the prompt using ChatPromptTemplate\n",
    "prompt = ChatPromptTemplate.from_messages(\n",
    "    [\n",
    "        (\"system\", system_prompt),\n",
    "        MessagesPlaceholder(variable_name=\"messages\"),\n",
    "        (\n",
    "            \"system\",\n",
    "            \"Given the conversation above, who should act next?\"\n",
    "            \" Or should we FINISH? Select one of: {options}\",\n",
    "        ),\n",
    "    ]\n",
    ").partial(options=str(options), members=\", \".join(members))\n",
    "\n",
    "# Construction of the chain for the supervisor agent\n",
    "supervisor_chain = (\n",
    "    prompt\n",
    "    | llm.bind_functions(functions=[function_def], function_call=\"route\")\n",
    "    | JsonOutputFunctionsParser()\n",
    ")"
   ]
  },
  {
   "cell_type": "code",
   "execution_count": 60,
   "id": "2e46271c",
   "metadata": {},
   "outputs": [],
   "source": [
    "# Construct graph\n",
    "## Now we are ready to start building the graph. Below, define the state and worker nodes using the function we just defined. Then we connect all the edges in the graph.\n",
    "\n",
    "import functools\n",
    "import operator\n",
    "from typing import Sequence, TypedDict\n",
    "from langchain_core.prompts import ChatPromptTemplate, MessagesPlaceholder\n",
    "from langgraph.graph import END, StateGraph, START\n",
    "\n",
    "# The agent state is the input to each node in the graph\n",
    "class AgentState(TypedDict):\n",
    "    # The annotation tells the graph that new messages will always be added to the current states\n",
    "    messages: Annotated[Sequence[BaseMessage], operator.add]\n",
    "    # The 'next' field indicates where to route to next\n",
    "    next: str\n",
    "\n",
    "# Add the Confluence search agent using the create_agent helper function\n",
    "# This agent specializes in searching within the Confluence space. It retrieves and summarizes relevant documentation,\n",
    "confluence_prompt = (\n",
    "    \"You are an expert Confluence search assistant. When a user asks a question, you MUST use the confluence_tool to search the vector database. \"\n",
    "    \"The confluence space contains information about RPA, AI, and specific projects like BAIA or BegoChat. \"\n",
    "    \"ALWAYS call the confluence_tool with the user's query to get relevant information from the indexed documents. \"\n",
    "    \"If the tool returns an error or no results, explain that to the user and suggest they try a different search term.\"\n",
    ")\n",
    "confluence_agent = create_agent(llm, confluence_prompt, [confluence_tool])\n",
    "confluence_node = functools.partial(agent_node, agent=confluence_agent, name=\"ConfluenceSearchTool\")\n",
    "\n",
    "# Add the time agent using the create_agent helper function\n",
    "# This agent provides the current time with precision. It uses the datetime_tool to fetch the correct time and can handle time zone details if needed.\n",
    "time_prompt = (\n",
    "    \"You are a time assistant. When asked about time or date, you MUST use the Datetime tool to get the current time. \"\n",
    "    \"Always call the tool to provide accurate, up-to-date time information. If asked about anything other than time, \"\n",
    "    \"politely explain that you only handle time-related queries.\"\n",
    ")\n",
    "currenttime_agent = create_agent(llm, time_prompt, [datetime_tool])\n",
    "currenttime_node = functools.partial(agent_node, agent=currenttime_agent, name=\"TimeProviderAgent\")\n",
    "\n",
    "\n",
    "\n",
    "workflow = StateGraph(AgentState)\n",
    "\n",
    "# Add a \"chatbot\" node. Nodes represent units of work. They are typically regular python functions.\n",
    "workflow.add_node(\"TimeProviderAgent\", currenttime_node)\n",
    "workflow.add_node(\"ConfluenceSearchTool\", confluence_node)\n",
    "workflow.add_node(\"supervisor\", supervisor_chain)\n",
    "\n",
    "# We want our workers to ALWAYS \"report back\" to the supervisor when done\n",
    "for member in members:\n",
    "    workflow.add_edge(member, \"supervisor\")\n",
    "\n",
    "# Conditional edges usually contain \"if\" statements to route to different nodes depending on the current graph state.\n",
    "# These functions receive the current graph state and return a string or list of strings indicating which node(s) to call next.\n",
    "conditional_map = {k: k for k in members}\n",
    "conditional_map[\"FINISH\"] = END\n",
    "workflow.add_conditional_edges(\"supervisor\", lambda x: x[\"next\"], conditional_map)\n",
    "\n",
    "# Add an entry point. This tells our graph where to start its work each time we run it.\n",
    "workflow.add_edge(START, \"supervisor\")\n",
    "\n",
    "# To be able to run our graph, call \"compile()\" on the graph builder. This creates a \"CompiledGraph\" we can use invoke on our state.\n",
    "graph_2 = workflow.compile()"
   ]
  },
  {
   "cell_type": "code",
   "execution_count": 61,
   "id": "b486dcf7",
   "metadata": {},
   "outputs": [],
   "source": [
    "from langfuse import Langfuse\n",
    "from dotenv import load_dotenv\n",
    "\n",
    "load_dotenv()\n",
    "\n",
    "LANGFUSE_SECRET_KEY = os.getenv(\"LANGFUSE_SECRET_KEY\")\n",
    "LANGFUSE_PUBLIC_KEY = os.getenv(\"LANGFUSE_PUBLIC_KEY\")\n",
    "\n",
    "langfuse = Langfuse(\n",
    "  secret_key=LANGFUSE_SECRET_KEY,\n",
    "  public_key=LANGFUSE_PUBLIC_KEY,\n",
    "  host=\"https://cloud.langfuse.com\"\n",
    ")"
   ]
  },
  {
   "cell_type": "code",
   "execution_count": 62,
   "id": "4d6a8450",
   "metadata": {},
   "outputs": [
    {
     "name": "stdout",
     "output_type": "stream",
     "text": [
      "{'supervisor': {'next': 'ConfluenceSearchTool'}}\n",
      "----\n",
      "[DEBUG] Searching for: Parkmöglichkeiten im neuen HQ\n",
      "[DEBUG] Searching for: Parkmöglichkeiten im neuen HQ\n",
      "[DEBUG] QA chain result keys: dict_keys(['query', 'result', 'source_documents'])\n",
      "[DEBUG] Found 5 source documents\n",
      "[DEBUG] QA chain result keys: dict_keys(['query', 'result', 'source_documents'])\n",
      "[DEBUG] Found 5 source documents\n",
      "{'ConfluenceSearchTool': {'messages': [HumanMessage(content='Im neuen HQ stehen insgesamt 168 Parkplätze zur Verfügung, davon sind 72 mit E-Ladesäulen ausgestattet. Zusätzlich gibt es 157 Indoor-Fahrradstellplätze, von denen 12 ebenfalls E-Ladesäulen haben. Es gibt auch 10 Kundenparkplätze. Die Buchung eines Parkplatzes erfolgt über eine zentrale Park-App.', additional_kwargs={}, response_metadata={}, name='ConfluenceSearchTool')]}}\n",
      "----\n",
      "{'ConfluenceSearchTool': {'messages': [HumanMessage(content='Im neuen HQ stehen insgesamt 168 Parkplätze zur Verfügung, davon sind 72 mit E-Ladesäulen ausgestattet. Zusätzlich gibt es 157 Indoor-Fahrradstellplätze, von denen 12 ebenfalls E-Ladesäulen haben. Es gibt auch 10 Kundenparkplätze. Die Buchung eines Parkplatzes erfolgt über eine zentrale Park-App.', additional_kwargs={}, response_metadata={}, name='ConfluenceSearchTool')]}}\n",
      "----\n",
      "{'supervisor': {'next': 'FINISH'}}\n",
      "----\n",
      "{'supervisor': {'next': 'FINISH'}}\n",
      "----\n"
     ]
    }
   ],
   "source": [
    "for s in graph_2.stream({\"messages\": [HumanMessage(content = \"Wo kann ich im neuen HQ parken?\")]}):\n",
    "    print(s)\n",
    "    print(\"----\")"
   ]
  },
  {
   "cell_type": "code",
   "execution_count": 63,
   "id": "d9ff0db8",
   "metadata": {},
   "outputs": [
    {
     "name": "stdout",
     "output_type": "stream",
     "text": [
      "[DEBUG] Searching for: Parkmöglichkeiten im neuen HQ\n",
      "[DEBUG] QA chain result keys: dict_keys(['query', 'result', 'source_documents'])\n",
      "[DEBUG] Found 5 source documents\n",
      "[DEBUG] QA chain result keys: dict_keys(['query', 'result', 'source_documents'])\n",
      "[DEBUG] Found 5 source documents\n",
      "Final Answer: {'supervisor': {'next': 'FINISH'}}\n",
      "Final Answer: {'supervisor': {'next': 'FINISH'}}\n"
     ]
    }
   ],
   "source": [
    "final_response = None\n",
    "for state in graph_2.stream(\n",
    "    {\"messages\": [HumanMessage(content=\"Wo kann ich im neuen HQ parken?\")]},\n",
    "):\n",
    "    final_response = state  # Update final_response with each new state\n",
    "\n",
    "print(\"Final Answer:\", final_response)\n"
   ]
  },
  {
   "cell_type": "code",
   "execution_count": 64,
   "id": "23a960af",
   "metadata": {},
   "outputs": [
    {
     "name": "stdout",
     "output_type": "stream",
     "text": [
      "{'supervisor': {'next': 'TimeProviderAgent'}}\n",
      "----\n",
      "{'TimeProviderAgent': {'messages': [HumanMessage(content='The current time is 09:08:40 on August 1, 2025.', additional_kwargs={}, response_metadata={}, name='TimeProviderAgent')]}}\n",
      "----\n",
      "{'TimeProviderAgent': {'messages': [HumanMessage(content='The current time is 09:08:40 on August 1, 2025.', additional_kwargs={}, response_metadata={}, name='TimeProviderAgent')]}}\n",
      "----\n",
      "{'supervisor': {'next': 'FINISH'}}\n",
      "----\n",
      "{'supervisor': {'next': 'FINISH'}}\n",
      "----\n"
     ]
    }
   ],
   "source": [
    "# Add Langfuse handler as callback: config={\"callbacks\": [langfuse_handler]}\n",
    "for s in graph_2.stream({\"messages\": [HumanMessage(content = \"What time is it?\")]}):\n",
    "    print(s)\n",
    "    print(\"----\")"
   ]
  },
  {
   "cell_type": "code",
   "execution_count": 65,
   "id": "5ea8231d",
   "metadata": {},
   "outputs": [
    {
     "data": {
      "image/png": "[encoded data removed]",
      "text/plain": [
       "<IPython.core.display.Image object>"
      ]
     },
     "metadata": {},
     "output_type": "display_data"
    }
   ],
   "source": [
    "from IPython.display import Image, display\n",
    "display(Image(graph_2.get_graph().draw_mermaid_png()))"
   ]
  },
  {
   "cell_type": "code",
   "execution_count": null,
   "id": "cab5d301",
   "metadata": {},
   "outputs": [],
   "source": []
  }
 ],
 "metadata": {
  "kernelspec": {
   "display_name": "Python 3",
   "language": "python",
   "name": "python3"
  },
  "language_info": {
   "codemirror_mode": {
    "name": "ipython",
    "version": 3
   },
   "file_extension": ".py",
   "mimetype": "text/x-python",
   "name": "python",
   "nbconvert_exporter": "python",
   "pygments_lexer": "ipython3",
   "version": "3.13.0"
  }
 },
 "nbformat": 4,
 "nbformat_minor": 5
}
