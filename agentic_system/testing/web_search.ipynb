{
 "cells": [
  {
   "cell_type": "code",
   "execution_count": 1,
   "id": "e4c734be",
   "metadata": {},
   "outputs": [],
   "source": [
    "#%pip install -qU langchain-tavily"
   ]
  },
  {
   "cell_type": "code",
   "execution_count": 3,
   "id": "2c1d4774",
   "metadata": {},
   "outputs": [
    {
     "data": {
      "text/plain": [
       "'c:\\\\Users\\\\fuhrmannd\\\\AppData\\\\Local\\\\Programs\\\\Python\\\\Python313\\\\Lib\\\\site-packages\\\\certifi\\\\cacert.pem'"
      ]
     },
     "execution_count": 3,
     "metadata": {},
     "output_type": "execute_result"
    }
   ],
   "source": [
    "import certifi\n",
    "\n",
    "certifi.where()"
   ]
  },
  {
   "cell_type": "code",
   "execution_count": 1,
   "id": "bf1f483f",
   "metadata": {},
   "outputs": [
    {
     "name": "stdout",
     "output_type": "stream",
     "text": [
      "{'query': 'Who is Leo Messi?', 'follow_up_questions': None, 'answer': None, 'images': [], 'results': [{'url': 'https://en.wikipedia.org/wiki/Lionel_Messi', 'title': 'Lionel Messi - Wikipedia', 'content': \"He is the most decorated player in the history of professional football having won 45 team trophies.Messi's records include most goals in a calendar year (91), most goals for a single club (672 for Barcelona), most goals in La Liga (474), most goal contributions in the FIFA World Cup (21), and most goal contributions in the Copa América (32).\", 'score': 0.752468, 'raw_content': None}, {'url': 'https://www.britannica.com/biography/Lionel-Messi', 'title': \"Lionel Messi | Biography, Trophies, Records, Ballon d'Or ... - Britannica\", 'content': 'Lionel Messi scored 73 goals during the 2011–12 season while playing for FC Barcelona, breaking a 39-year-old record for single-season goals in a major European football league. Messi’s play continued to rapidly improve over the years, and by 2008 he was one of the most dominant players in the world, finishing second to Manchester United’sCristiano Ronaldo in the voting for the 2008 Ballon d’Or. In early 2009 Messi capped off a spectacular 2008–09 season by helping FC Barcelona capture the club’s first “treble” (winning three major European club titles in one season): the team won the La Liga championship, the Copa del Rey (Spain’s major domestic cup), and the Champions League title.', 'score': 0.5920305, 'raw_content': None}, {'url': 'https://www.amazon.com/Who-Lionel-Messi-HQ-Now/dp/0593754824', 'title': 'Who Is Lionel Messi? (Who HQ Now) - Amazon.com', 'content': 'Image 36 Amazon Customer) *   Image 42 Amazon Customer ##### _5.0 out of 5 stars_ Perfect for new readers Reviewed in the United States on May 11, 2025 Format: PaperbackVerified Purchase Was trying to get my kid to read more! *   Image 44 Katelyn ##### _5.0 out of 5 stars_ Loved it Reviewed in the United States on April 30, 2025 Format: PaperbackVerified Purchase Both of my kids read it in one day-love this  Read more)   Helpful Report    *   Image 50 Houzhiqiang1228 ##### _5.0 out of 5 stars_ Good book about Messi Reviewed in the United States on January 31, 2025 Format: KindleVerified Purchase A good book about Messi, from child to now!', 'score': 0.3233165, 'raw_content': None}, {'url': 'https://www.transfermarkt.us/lionel-messi/profil/spieler/28003', 'title': 'Lionel Messi - Player profile 2025 | Transfermarkt', 'content': 'Image 1: Transfermarkt Image 15: Players Image 16: Lionel Messi Image 26: Lionel Messi Image 42: SpainSpain Position: Attack - Right Winger Foot:left Player agent:Relatives Current club: Image 43: Inter Miami CFInter Miami CFJoined: Jul 15, 2023 Contract expires:Dec 31, 2025 Outfitter:adidas Social-Media: Image 161: Lionel Messi Image 168: Lionel Messi Argentina 2024 Image 173: Lionel Messi Image 175: Lionel_Messi_Miami Image 188: Messi Image 200: Lionel Messi Image 201: Lionel Messi Image 202: Lionel Messi Image 203: Lionel Messi Image 204: Lionel Messi Image 205: Lionel Messi Image 206: Lionel Messi Image 207: Lionel Messi Image 208: Lionel Messi Image 209: Lionel Messi Image 210: Lionel Messi Image 211: Lionel Messi 2007 Image 212: Lionel Messi Image 225', 'score': 0.32149246, 'raw_content': None}, {'url': 'https://www.espn.com/soccer/player/_/id/45843/lionel-messi', 'title': 'Lionel Messi - Inter Miami CF Forward - ESPN', 'content': \"Messi and wife caught on Coldplay 'kiss cam' * 1d * Adriana Garcia Image 25: Lionel Messi #10 of Inter Miami CF observes from the stands alongside his wife Antonela Roccuzzo during the MLS match between Inter Miami CF and FC Cincinnati at Chase Stadium on July 26, 2025 in Fort Lauderdale, Florida Miami coach: Don't agree with Messi ban 'at all' * 2d * Lizzy Becherano Image 26: Lionel Messi #10 of Inter Miami CF observes from the stands alongside his wife Antonela Roccuzzo during the MLS match between Inter Miami CF and FC Cincinnati at Chase Stadium on July 26, 2025 in Fort Lauderdale, Florida\", 'score': 0.26151052, 'raw_content': None}], 'response_time': 0.91}\n"
     ]
    }
   ],
   "source": [
    "from tavily import TavilyClient\n",
    "\n",
    "\n",
    "tavily_client = TavilyClient(api_key=\"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\")\n",
    "response = tavily_client.search(\"Who is Leo Messi?\")\n",
    "\n",
    "print(response)"
   ]
  },
  {
   "cell_type": "code",
   "execution_count": 7,
   "id": "d69694db",
   "metadata": {},
   "outputs": [],
   "source": [
    "from langchain_tavily import TavilySearch\n",
    "\n",
    "tool = TavilySearch(\n",
    "    max_results=5,\n",
    "    topic=\"general\",\n",
    "    # include_answer=False,\n",
    "    # include_raw_content=False,\n",
    "    # include_images=False,\n",
    "    # include_image_descriptions=False,\n",
    "    # search_depth=\"basic\",\n",
    "    # time_range=\"day\",\n",
    "    # include_domains=None,\n",
    "    # exclude_domains=None\n",
    ")"
   ]
  },
  {
   "cell_type": "code",
   "execution_count": 8,
   "id": "56baa2ff",
   "metadata": {},
   "outputs": [
    {
     "name": "stdout",
     "output_type": "stream",
     "text": [
      "{\"query\": \"euro 2024 host nation\", \"follow_up_questions\": null, \"answer\": null, \"images\": [], \"results\": [{\"url\": \"https://en.wikipedia.org/wiki/UEFA_Euro_2024\", \"title\": \"UEFA Euro 2024 - Wikipedia\", \"content\": \"It was the third time that European Championship matches were played on German territory, and the second time in reunified Germany, as West Germany hosted the 1988 tournament, and four ma\n"
     ]
    }
   ],
   "source": [
    "# This is usually generated by a model, but we'll create a tool call directly for demo purposes.\n",
    "model_generated_tool_call = {\n",
    "    \"args\": {\"query\": \"euro 2024 host nation\"},\n",
    "    \"id\": \"1\",\n",
    "    \"name\": \"tavily\",\n",
    "    \"type\": \"tool_call\",\n",
    "}\n",
    "tool_msg = tool.invoke(model_generated_tool_call)\n",
    "\n",
    "# The content is a JSON string of results\n",
    "print(tool_msg.content[:400])"
   ]
  }
 ],
 "metadata": {
  "kernelspec": {
   "display_name": "Python 3",
   "language": "python",
   "name": "python3"
  },
  "language_info": {
   "codemirror_mode": {
    "name": "ipython",
    "version": 3
   },
   "file_extension": ".py",
   "mimetype": "text/x-python",
   "name": "python",
   "nbconvert_exporter": "python",
   "pygments_lexer": "ipython3",
   "version": "3.13.0"
  }
 },
 "nbformat": 4,
 "nbformat_minor": 5
}
